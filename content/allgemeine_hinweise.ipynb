{
 "cells": [
  {
   "cell_type": "markdown",
   "metadata": {
    "slideshow": {
     "slide_type": "slide"
    }
   },
   "source": [
    "### Ziele der Übungen\n",
    "\n",
    "- Einüben der gelernten Inhalte\n",
    "- Entwicklung von Problemlösungsfähigkeiten beim Programmieren\n",
    "    - Was ist zu tun -> Wie kann/sollte/muss der Code dazu aussehen?\n",
    "    - Erkennen wo Probleme/Fehler auftreten könnten und wie diese vermieden werden können? (e.g. falsche Ergebnisse)\n",
    "    - Abstraktion, wiederverwendbarer (\"sauberer\") Code\n",
    "- Einhaltung von Standards und Best-Pratice Empfehlungen\n",
    "    - Code Style und Syntax\n",
    "    - Dokumentation\n",
    "    - Lesbarkeit"
   ]
  },
  {
   "cell_type": "markdown",
   "metadata": {
    "slideshow": {
     "slide_type": "slide"
    }
   },
   "source": [
    "### Allgemeine Auffälligkeiten\n",
    "\n",
    "Oft gute/funktionierende Lösungen aber es hakt häufig im Detail..."
   ]
  },
  {
   "cell_type": "markdown",
   "metadata": {},
   "source": [
    "##### Was sollte in der Lösung enthalten sein?\n",
    "\n",
    "- Alle für die Lösung notwendigen/geforderten Dateien und Verzeichnisse, nicht mehr und nicht weniger.\n",
    "    - notwendig: die Lösung muss funktionieren (Bsp. wenn eine Datei \"extra_funktion.py\" eine in der Lösung verwendete Funktion `hallo_welt` enthält und nicht abgegeben wird -> 💣)\n",
    "    - gefordert: die Aufgabe erfordert die Erstellung einer Datei -> Siehe folgende Folie\n",
    "- Dokumentation:\n",
    "    - inline: wenn nicht auf den ersten Blick erkennbar ist warum die Lösung so gewählt wurde/was der code tut\n",
    "    - Funktionen"
   ]
  },
  {
   "cell_type": "markdown",
   "metadata": {},
   "source": [
    "### Was gehört nicht in die Lösung?\n",
    "\n",
    "- Test Skripte\n",
    "- Alternative Lösungen\n",
    "- verschiedene Versionen der selben Datei\n",
    "\n",
    "=> Wie sollen wir wissen welche Lösung bewertet werden soll?"
   ]
  },
  {
   "cell_type": "markdown",
   "metadata": {},
   "source": [
    "## Pfade\n",
    "\n",
    "#### Relative Pfade\n",
    "\n",
    "Ihr solltet wenn immer möglich relative Pfade verwenden.\n",
    "\n",
    "Pfade ähnlich wie folgender (Heinz Mustermann mit eigenenm Namen ersetzten)\n",
    "\n",
    "```python\n",
    "datei_pfad = \"C:/Users/Heinz_Mustermann/Documents/Python_Kurs/exercise-x/data/text_datei.txt\"\n",
    "```\n",
    "wird in der Regel nur auf eurem eigenen Rechner existieren. Konkret heißt das eure Skripte laufen bei uns nicht => schlecht 💣\n",
    "\n",
    "Im Skript haben wir euch auch schon Pfade vorbereitet diese dürft ihr auch nutzen. Sie nächster Absatz.\n",
    "\n",
    "#### Pfade konstruieren\n",
    "\n",
    "Folgendes war im Skript vorbereitet\n",
    "```python\n",
    "from pathlib import Path\n",
    "\n",
    "data_dir = Path(\"data\")\n",
    "output_dir = Path(\"solution\")\n",
    "```\n",
    "\n",
    "Einen Pfad zu einer Datei \"so_ist_es_richtig.txt\" welche Ich im Ordner \"solution\", welcher im selben Ordner wie das Skript liegt, speichern soll kann ich dann einfach wie folgt konstruieren:\n",
    "```python\n",
    "pfad_zur_datei = output_dir / \"so_ist_es_richtig.txt\"\n",
    "```\n",
    "Warum geht das und warum kann ich auf einen absoluten Pfad wie im Beispiel oben verzichten?\n",
    "Vorausgesetzt Ich befinde mich im ordner vom Skript d.h. wenn Ich mein Skript mit:\n",
    "```python\n",
    "python mein_skript.py\n",
    "```\n",
    "aufrufe, werden alle Pfade relativ zu diesem Ordner funktionieren."
   ]
  },
  {
   "cell_type": "markdown",
   "metadata": {},
   "source": [
    "## Öffnen und lesen einer Datei\n",
    "\n",
    "Wenn eine Datei geöffnet und gelesen werden soll gibt es zwei Möglichkeiten welche unten dargestellt sind. Empfehlenswert ist das with statement.\n",
    "\n",
    "Der Grund ist das Resourcen, in diesem Fall geöffnete Dateien, wieder frei gegeben werden sollten wenn man dies nicht macht kann es im schlimmsten Fall zu memory leaks führen. Das `with` über nimmt das freigeben der Resourcen für euch (in diesem Fall das schließen der Datei) ist übersichtlich und gut lesbar.\n",
    "\n",
    "Wenn man es ganz genau nimmt müsste im zweiten Fall wenn man die Datei manuell schließt sogar noch mit `try except` arbeiten da beim lesen ja etwas schief gehen kann und man troztdem sicher gehen möchte das die Datei wieder geschlossen wird. Das heißt der Code würde noch komplexer. Die erste Variante ist daher die deutlich einfachere. Falls ihr euch trotzdem für zweite Variante entscheidet solltet ihr aber mindestens die Datei schließen.\n",
    "\n",
    "Für diejenigen die es ganz genau wissen wollen: [PEP 343](https://www.python.org/dev/peps/pep-0343/) gibt mehr Auskunft.\n",
    "\n",
    "#### Variante 1:"
   ]
  },
  {
   "cell_type": "code",
   "execution_count": null,
   "metadata": {},
   "outputs": [],
   "source": [
    "with open(\"irgendeine_datei.txt\", \"r\") as file:\n",
    "    inhalt = file.read()\n",
    "    \n",
    "#mit inhalt kann jetzt weiter gearbeitet werden...\n",
    "inhalt"
   ]
  },
  {
   "cell_type": "markdown",
   "metadata": {},
   "source": [
    "#### Variante 2:"
   ]
  },
  {
   "cell_type": "code",
   "execution_count": null,
   "metadata": {},
   "outputs": [],
   "source": [
    "datei_pfad = \"irgendeine_datei.txt\"\n",
    "\n",
    "file = open(datei_pfad, \"r\")\n",
    "\n",
    "inhalt = file.read()\n",
    "\n",
    "file.close()\n",
    "\n",
    "#mit inhalt kann jetzt weiter gearbeitet werden..."
   ]
  },
  {
   "cell_type": "markdown",
   "metadata": {
    "slideshow": {
     "slide_type": "slide"
    }
   },
   "source": [
    "### Aufgabenstellung richtig lesen\n",
    "\n",
    "Wenn die Aufgaben wie folgt ist:\n",
    "\n",
    "```python\n",
    "#Write the counts to the file `counts.csv` in the `solution` directory in the format (first line is the header): [2P]\n",
    "#item, count\n",
    "#item_name_1, item_count_1\n",
    "#item_name_2, item_count_2\n",
    "```\n",
    "\n",
    "Dann wünschen wir uns das die Datei mit der Lösung auch tatsächlich **counts.csv** heißt und im Ordner **solution** gespeichert ist und nicht im Ordner \"solutions\", \"ergebnis\" oder im selben ordner wie das Skript und auch der Name nicht einer von den folgenden ist:\n",
    "\n",
    "- count.csv / UniqueCars_Count.csv / results_counting_occurences.csv / cars_frequency.csv / ...\n",
    "\n",
    "Das selbe gilt in diesem Beispiel für den Header der Datei: ganz formidabel wäre **item, cout** und nicht etwa eine folgender Varianten:\n",
    "\n",
    "- Type;count / model,countings / kein Header"
   ]
  },
  {
   "cell_type": "markdown",
   "metadata": {
    "slideshow": {
     "slide_type": "slide"
    }
   },
   "source": [
    "### Einhalten von Standards, Style und Lesbarkeit\n",
    "\n",
    "Manche Dinge sind Sache der persönlichen Präferenz, wie z.B. die Wahl der Hochzeichen. Beide Varianten funktionieren.<br>\n",
    "Wichtig ist:<br>\n",
    "**CHOOSE ONE AND STICK WITH IT**<br>\n",
    "\n",
    "Siehe hierzu [Python PEP8 code style](https://www.python.org/dev/peps/pep-0008/).\n",
    "\n",
    "Dort sind die \"offiziell\" von Python festgelegten coding guidelines beschrieben. Wenn Zweifel besteht wie man es machen soll kann man dort nachschauen. Mit den Empfehlungen macht man es sicher nicht falsch. Das gilt für viele der folgenden Beispiele\n",
    "\n",
    "**NEIN:**"
   ]
  },
  {
   "cell_type": "code",
   "execution_count": null,
   "metadata": {
    "slideshow": {
     "slide_type": "fragment"
    }
   },
   "outputs": [],
   "source": [
    "with open('datei.txt', \"r\") as file: "
   ]
  },
  {
   "cell_type": "markdown",
   "metadata": {},
   "source": [
    "**JA:**"
   ]
  },
  {
   "cell_type": "code",
   "execution_count": null,
   "metadata": {},
   "outputs": [],
   "source": [
    "with open(\"datei.txt\", \"r\") as file: "
   ]
  },
  {
   "cell_type": "markdown",
   "metadata": {
    "slideshow": {
     "slide_type": "fragment"
    }
   },
   "source": [
    "#### Unötige Leerzeichen\n",
    "\n",
    "**NEIN:**"
   ]
  },
  {
   "cell_type": "code",
   "execution_count": null,
   "metadata": {
    "slideshow": {
     "slide_type": "slide"
    }
   },
   "outputs": [],
   "source": [
    "from pathlib import Path\n",
    "\n",
    "datei_pfad = Path (\"datei.txt\")\n",
    "\n",
    "with open (datei_pfad, \"r\") as file:\n",
    "    inhalt = file.read ()"
   ]
  },
  {
   "cell_type": "markdown",
   "metadata": {},
   "source": [
    "**JA:**"
   ]
  },
  {
   "cell_type": "code",
   "execution_count": null,
   "metadata": {},
   "outputs": [],
   "source": [
    "datei_pfad = Path(\"datei.txt\")\n",
    "\n",
    "with open(datei_pfad, \"r\") as file:\n",
    "    inhalt = file.read()"
   ]
  },
  {
   "cell_type": "markdown",
   "metadata": {},
   "source": [
    "### Unötige Datentypen konversionen\n",
    "\n",
    "Häufig wurden listen noch mal zu listen konvertiert:\n",
    "```python\n",
    "obst = [\"banane\", \"apfel\", \"birne\"]\n",
    "neue_liste = list(obst)\n",
    "```\n",
    "\n",
    "Bei pathlib Pfaden wurden unnötige String konversionen vorgenommen:<br>\n",
    "**NEIN:**\n",
    "```python\n",
    "datei_pfad = Path(\"datei.txt\")\n",
    "\n",
    "with open(str(datei_pfad), \"r\") as file:\n",
    "    ...\n",
    "```\n",
    "**JA:**\n",
    "```python\n",
    "datei_pfad = Path(\"datei.txt\")\n",
    "\n",
    "with open(datei_pfad, \"r\") as file:\n",
    "    ...\n",
    "```\n",
    "\n",
    "Unnötige Konversion von iterables zu listen:<br>\n",
    "**NEIN:**\n",
    "```python\n",
    "unique_obst = list(set(obstliste))\n",
    "\n",
    "for i in unique_obst:\n",
    "    print(i)\n",
    "```\n",
    "\n",
    "**JA:**\n",
    "```python\n",
    "unique_obst = set(obstliste)\n",
    "\n",
    "for i in unique_obst:\n",
    "    print(i)\n",
    "```"
   ]
  },
  {
   "cell_type": "markdown",
   "metadata": {
    "slideshow": {
     "slide_type": "slide"
    }
   },
   "source": [
    "### Unnötige Code Redundanz\n",
    "\n",
    "**NEIN:**\n",
    "```python\n",
    "data_dir = Path(\"images\")\n",
    "\n",
    "if not Path(\"images\").exists():\n",
    "    Path(\"images\").mkdir()\n",
    "```\n",
    "\n",
    "**JA:**\n",
    "```python\n",
    "data_dir = Path(\"images\")\n",
    "\n",
    "if not data_dir.exists():\n",
    "    data_dir.mkdir()\n",
    "```"
   ]
  },
  {
   "cell_type": "markdown",
   "metadata": {},
   "source": [
    "### Funktionen, return, Dokumentation\n",
    "\n",
    "In folgender Funktions Definition sind mehrere Sachen schief gegangen."
   ]
  },
  {
   "cell_type": "code",
   "execution_count": null,
   "metadata": {},
   "outputs": [],
   "source": [
    "def irgendeine_funktion(x):\n",
    "    \"\"\"\n",
    "    Beschreibung von irgendeiner Funktion\n",
    "    \n",
    "    Parameters\n",
    "    ----------\n",
    "    x : textdatei\n",
    "        \n",
    "    Returns\n",
    "    -------\n",
    "    ergebnis\n",
    "    \n",
    "    \"\"\"\n",
    "    \n",
    "    print(x)"
   ]
  },
  {
   "cell_type": "markdown",
   "metadata": {},
   "source": [
    "1. Die Funktion hat keinen return value. Wer das nicht glaubt sollte folgendes ausprobieren:\n",
    "```python\n",
    "input_liste = [1, 2, 3]\n",
    "ergebnis = irgendeine_funktion(input_liste)\n",
    "```\n",
    "und schauen was in der Variable Ergebnis gespeichert ist.\n",
    "2. Die Dokumentation hält sich nicht an den numpy Style (welcher es sein soll) oder an irgendeinen Style der Dokumentation. Das ändert zwar nichts an der Funktionalität selbst ist aber nicht konsistent mit der Einhaltung von Standards. Außerdem stimmen die Beschreibungen der Parameter nicht (return siehe 1.). Wenn die Funktion irgendetwas mit einer Liste machen soll die Ich ihr übergebe dann ist x vom Datentyp `list` und keine Textdatei.\n",
    "\n",
    "Unten ist ein Beispiel wie es aussehen könnte.\n",
    "\n",
    "Wenn man sich nicht sicher ist wie der Style aus zu sehen hat kann man z.B. unter [numpy doc](https://numpydoc.readthedocs.io/en/latest/) nachlesen (oder ggf. in der google style doku)."
   ]
  },
  {
   "cell_type": "code",
   "execution_count": null,
   "metadata": {
    "slideshow": {
     "slide_type": "slide"
    }
   },
   "outputs": [],
   "source": [
    "def irgendeine_funktion(x):\n",
    "    \"\"\"\n",
    "    Beschreibung von irgendeiner Funktion\n",
    "    \n",
    "    Parameters\n",
    "    ----------\n",
    "    x : list\n",
    "        ggf. Beschreibung von liste\n",
    "        \n",
    "    Returns\n",
    "    -------\n",
    "    list\n",
    "        ggf. nähere Beschreibung von liste\n",
    "    \n",
    "    \"\"\"\n",
    "    \n",
    "    return x\n",
    "        \n",
    "ergebnis = irgendeine_funktion(input_liste)"
   ]
  },
  {
   "cell_type": "markdown",
   "metadata": {
    "slideshow": {
     "slide_type": "slide"
    },
    "tags": [
     "remove_cell"
    ]
   },
   "source": [
    "### Take Home Messages\n",
    "\n",
    "- Aufgabenstellung richtig lesen\n",
    "- Ersten denken dann Programmieren\n",
    "- Testen, Testen, Testen\n",
    "- Habe ich alles notwendige zur Lösung committed?"
   ]
  }
 ],
 "metadata": {
  "celltoolbar": "Slideshow",
  "kernelspec": {
   "display_name": "Python 3",
   "language": "python",
   "name": "python3"
  },
  "language_info": {
   "codemirror_mode": {
    "name": "ipython",
    "version": 3
   },
   "file_extension": ".py",
   "mimetype": "text/x-python",
   "name": "python",
   "nbconvert_exporter": "python",
   "pygments_lexer": "ipython3",
   "version": "3.7.1"
  }
 },
 "nbformat": 4,
 "nbformat_minor": 2
}
