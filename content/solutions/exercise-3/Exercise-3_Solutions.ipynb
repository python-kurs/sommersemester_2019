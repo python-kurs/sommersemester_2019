{
 "cells": [
  {
   "cell_type": "markdown",
   "metadata": {},
   "source": [
    "# Exercise 3 - Solutions"
   ]
  },
  {
   "cell_type": "code",
   "execution_count": 1,
   "metadata": {},
   "outputs": [],
   "source": [
    "from pathlib import Path\n",
    "from utils import count_items"
   ]
  },
  {
   "cell_type": "markdown",
   "metadata": {},
   "source": [
    "1. Contstruct the path to the text file in the data directory using the `pathlib` module"
   ]
  },
  {
   "cell_type": "code",
   "execution_count": 6,
   "metadata": {},
   "outputs": [],
   "source": [
    "data_dir = Path(\"data\")\n",
    "output_dir = Path(\"solution\")\n",
    "\n",
    "# Construct path to text file\n",
    "text_file = data_dir / \"cars.txt\""
   ]
  },
  {
   "cell_type": "markdown",
   "metadata": {},
   "source": [
    "2. Read the text file"
   ]
  },
  {
   "cell_type": "code",
   "execution_count": 7,
   "metadata": {},
   "outputs": [],
   "source": [
    "with open(text_file, \"r\") as file:\n",
    "    # .read() : read the whole file\n",
    "    # .splitlines() : splits the lines and removes the lines break token \"\\n\"\n",
    "    # [1:] : remove the first line because \"model\" is the header of the file\n",
    "    data = file.read().splitlines()[1:]"
   ]
  },
  {
   "cell_type": "markdown",
   "metadata": {},
   "source": [
    "3. Count the occurences of each item in the text file\n",
    "\n",
    "Count items with imported function. To see what the function looks like click the ***+*** sign."
   ]
  },
  {
   "cell_type": "code",
   "execution_count": 2,
   "metadata": {
    "tags": [
     "hidecode"
    ]
   },
   "outputs": [],
   "source": [
    "def count_items(x):\n",
    "    \"\"\"\n",
    "    Count occurence of unique items of list\n",
    "\n",
    "    Counts items in the list and returns counts as a dict\n",
    "\n",
    "    Parameters\n",
    "    ----------\n",
    "    x : list\n",
    "        List of items to count\n",
    "\n",
    "    Returns\n",
    "    -------\n",
    "    dict\n",
    "        Items are keys, counts are values\n",
    "\n",
    "    \"\"\"\n",
    "    # init an empty dictionary\n",
    "    counts = {}\n",
    "    # loop through the list of items (lines)\n",
    "    for item in x:\n",
    "        # check if it already is in the dictionary\n",
    "        # if it is increase count by one if not add it\n",
    "        if item in counts.keys():\n",
    "            counts[item] += 1\n",
    "        else:\n",
    "            counts[item] = 1\n",
    "\n",
    "    return counts"
   ]
  },
  {
   "cell_type": "code",
   "execution_count": 8,
   "metadata": {},
   "outputs": [],
   "source": [
    "counts = count_items(data)"
   ]
  },
  {
   "cell_type": "markdown",
   "metadata": {},
   "source": [
    "4. Using `pathlib` check if a directory with name `solution` exists and if not create it"
   ]
  },
  {
   "cell_type": "code",
   "execution_count": 9,
   "metadata": {},
   "outputs": [],
   "source": [
    "if not output_dir.exists():\n",
    "    output_dir.mkdir()"
   ]
  },
  {
   "cell_type": "markdown",
   "metadata": {},
   "source": [
    "Construct path to output file"
   ]
  },
  {
   "cell_type": "code",
   "execution_count": 10,
   "metadata": {},
   "outputs": [],
   "source": [
    "out_file = output_dir / \"counts.csv\""
   ]
  },
  {
   "cell_type": "markdown",
   "metadata": {},
   "source": [
    "5. Write the counts to the file `counts.csv` in the `solution` directory in the format (first line is the header)\n",
    "\n",
    "item, count<br>\n",
    "item_name_1, item_count_1<br>\n",
    "item_name_2, item_count_2<br>\n",
    "..."
   ]
  },
  {
   "cell_type": "code",
   "execution_count": null,
   "metadata": {},
   "outputs": [],
   "source": [
    "with open(out_file, \"w\") as file:\n",
    "    # Write header line\n",
    "    file.write(\"model,count\\n\")\n",
    "    # Write model and counts line by line\n",
    "    for model, num in counts.items():\n",
    "        file.write(\"{},{}\\n\".format(model, num))"
   ]
  }
 ],
 "metadata": {
  "kernelspec": {
   "display_name": "Python 3",
   "language": "python",
   "name": "python3"
  },
  "language_info": {
   "codemirror_mode": {
    "name": "ipython",
    "version": 3
   },
   "file_extension": ".py",
   "mimetype": "text/x-python",
   "name": "python",
   "nbconvert_exporter": "python",
   "pygments_lexer": "ipython3",
   "version": "3.7.1"
  }
 },
 "nbformat": 4,
 "nbformat_minor": 2
}
