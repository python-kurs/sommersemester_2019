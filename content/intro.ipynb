{
 "cells": [
  {
   "cell_type": "markdown",
   "metadata": {
    "slideshow": {
     "slide_type": "slide"
    }
   },
   "source": [
    "![](images/logo/logo.png)\n",
    "\n",
    "# Welcome to the course!"
   ]
  },
  {
   "cell_type": "markdown",
   "metadata": {
    "slideshow": {
     "slide_type": "slide"
    }
   },
   "source": [
    "## Lecturers\n",
    "\n",
    "- Benjamin Roesner: benjamin.roesner@geo.uni-marburg.de\n",
    "- Sebastian Egli:   sebastian.egli@geo.uni-marburg.de"
   ]
  },
  {
   "cell_type": "markdown",
   "metadata": {
    "slideshow": {
     "slide_type": "slide"
    }
   },
   "source": [
    "## Organizational matters\n",
    "\n",
    "- **3 ECTS** credits are awarded for successfully completing this course.\n",
    "- Course materials are made available here: [https://python-kurs.github.io/sommersemester_2019/intro.html](https://python-kurs.github.io/sommersemester_2019/intro.html)\n",
    "- Weekly exercises are distributed via **github classroom** and must also be submitted there.\n",
    "- To pass the course, at least **50%** of the weekly exercises must have been correctly completed."
   ]
  },
  {
   "cell_type": "markdown",
   "metadata": {
    "slideshow": {
     "slide_type": "slide"
    }
   },
   "source": [
    "## Version control\n",
    "\n",
    "- [git](https://git-scm.com/)\n",
    "    - open git BASH and enter the following commands:\n",
    "    \n",
    "    ```SHELL\n",
    "    git config --global user.name 'Firstname Lastname'\n",
    "    git config --global user.email 'your@email.com'\n",
    "    git config --global --list\n",
    "    ```"
   ]
  },
  {
   "cell_type": "markdown",
   "metadata": {
    "slideshow": {
     "slide_type": "slide"
    }
   },
   "source": [
    "### git workflow (simplified):\n",
    "![](images/intro/git_workflow_simple.png)\n",
    "Source: https://dev.to/mollynem/git-github--workflow-fundamentals-5496"
   ]
  },
  {
   "cell_type": "markdown",
   "metadata": {
    "slideshow": {
     "slide_type": "slide"
    }
   },
   "source": [
    "### GitHub Classroom\n",
    "\n",
    "- Create an account at github.com: [https://github.com/](https://github.com/)\n",
    "    - Plan: Free\n",
    "    - Verify email address\n",
    "    - Accept first assignment: [https://classroom.github.com/a/d3nKHTFf](https://classroom.github.com/a/d3nKHTFf)\n",
    "    - Clone (download) the assigned repository to your local machine: \n",
    "    \n",
    "    ```SHELL\n",
    "    git clone https://github.com/python-kurs/exercise-0-[yourname].git\n",
    "    ```\n",
    "    - Complete the given task and push your results back to github\n",
    "    \n",
    "    ```SHELL\n",
    "    git add --all\n",
    "    git commit -m \"Beliebige Commit-Message\"\n",
    "    git push\n",
    "    ```"
   ]
  },
  {
   "cell_type": "markdown",
   "metadata": {
    "slideshow": {
     "slide_type": "slide"
    }
   },
   "source": [
    "## Software requirements\n",
    "\n",
    "- [miniconda](https://docs.conda.io/en/latest/miniconda.html)\n",
    "    - create a new environment based on this yaml-file: [https://github.com/python-kurs/sommersemester_2019/blob/master/environment.yaml](https://github.com/python-kurs/sommersemester_2019/blob/master/environment.yaml)\n",
    "    \n",
    "    ```SHELL\n",
    "    conda env create -f environment.yaml\n",
    "    ```\n",
    "    This installs all packages in an environment called \"python-kurs\", which we will be using\n",
    "    throughout this course.\n",
    "\n",
    "    - The environment can be activated via:\n",
    "    ```SHELL\n",
    "    conda activate python_kurs\n",
    "    ```\n",
    "- Install a an editor of your choice, if you not already have one. The the environment you created in the previous step also installed [Spyder](https://www.spyder-ide.org/) which you can use. You can start Spyder by activating the environment like shown above and typing `spyder` at the prompt."
   ]
  }
 ],
 "metadata": {
  "celltoolbar": "Slideshow",
  "kernelspec": {
   "display_name": "Python 3",
   "language": "python",
   "name": "python3"
  },
  "language_info": {
   "codemirror_mode": {
    "name": "ipython",
    "version": 3
   },
   "file_extension": ".py",
   "mimetype": "text/x-python",
   "name": "python",
   "nbconvert_exporter": "python",
   "pygments_lexer": "ipython3",
   "version": "3.7.1"
  }
 },
 "nbformat": 4,
 "nbformat_minor": 2
}
