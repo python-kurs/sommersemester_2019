{
 "cells": [
  {
   "cell_type": "markdown",
   "metadata": {
    "slideshow": {
     "slide_type": "slide"
    }
   },
   "source": [
    "# Data science II"
   ]
  },
  {
   "cell_type": "markdown",
   "metadata": {
    "slideshow": {
     "slide_type": "slide"
    }
   },
   "source": [
    "\n",
    "\n",
    "# [Numpy](https://www.numpy.org/)...\n",
    "\n",
    "- lets us create N-dimensional arrays\n",
    "- lets us efficiantly work with those arrays\n",
    "- integrates with or is the basis for many other usefull packages like scipy, pandas, xarray, etc."
   ]
  },
  {
   "cell_type": "markdown",
   "metadata": {},
   "source": [
    "<img src=\"https://upload.wikimedia.org/wikipedia/commons/1/1a/NumPy_logo.svg\" width=\"400px\" />"
   ]
  },
  {
   "cell_type": "markdown",
   "metadata": {},
   "source": [
    "<div style=\"width:400px\">\n",
    "<img src=\"https://upload.wikimedia.org/wikipedia/commons/1/1a/NumPy_logo.svg\" />\n",
    "</div>"
   ]
  },
  {
   "cell_type": "markdown",
   "metadata": {
    "slideshow": {
     "slide_type": "slide"
    }
   },
   "source": [
    "## What are arrays?\n",
    "\n",
    "- like lists\n",
    "- can have more dimensions that 1 (kind of like a list of lists when thinking about 2 dimensions)\n",
    "- are easier to work with than list of lists"
   ]
  },
  {
   "cell_type": "markdown",
   "metadata": {
    "slideshow": {
     "slide_type": "slide"
    }
   },
   "source": [
    "### Create arrays"
   ]
  },
  {
   "cell_type": "code",
   "execution_count": 2,
   "metadata": {
    "slideshow": {
     "slide_type": "-"
    }
   },
   "outputs": [
    {
     "data": {
      "text/plain": [
       "array([3., 6., 8., 7., 9., 4., 1., 6., 4., 4., 8.])"
      ]
     },
     "execution_count": 2,
     "metadata": {},
     "output_type": "execute_result"
    }
   ],
   "source": [
    "import numpy as np\n",
    "import matplotlib.pyplot as plt\n",
    "\n",
    "a = np.array([3., 6., 8., 7., 9., 4., 1., 6., 4., 4., 8.])\n",
    "a"
   ]
  },
  {
   "cell_type": "markdown",
   "metadata": {
    "slideshow": {
     "slide_type": "fragment"
    }
   },
   "source": [
    "Arrays have some attributes like:\n",
    "\n",
    "A dimension"
   ]
  },
  {
   "cell_type": "code",
   "execution_count": 3,
   "metadata": {
    "slideshow": {
     "slide_type": "-"
    }
   },
   "outputs": [
    {
     "data": {
      "text/plain": [
       "1"
      ]
     },
     "execution_count": 3,
     "metadata": {},
     "output_type": "execute_result"
    }
   ],
   "source": [
    "a.ndim"
   ]
  },
  {
   "cell_type": "markdown",
   "metadata": {
    "slideshow": {
     "slide_type": "slide"
    }
   },
   "source": [
    "A shape"
   ]
  },
  {
   "cell_type": "code",
   "execution_count": 4,
   "metadata": {
    "slideshow": {
     "slide_type": "-"
    }
   },
   "outputs": [
    {
     "data": {
      "text/plain": [
       "(11,)"
      ]
     },
     "execution_count": 4,
     "metadata": {},
     "output_type": "execute_result"
    }
   ],
   "source": [
    "a.shape"
   ]
  },
  {
   "cell_type": "markdown",
   "metadata": {
    "slideshow": {
     "slide_type": "fragment"
    }
   },
   "source": [
    "and of course a data type"
   ]
  },
  {
   "cell_type": "code",
   "execution_count": 5,
   "metadata": {
    "slideshow": {
     "slide_type": "-"
    }
   },
   "outputs": [
    {
     "data": {
      "text/plain": [
       "dtype('float64')"
      ]
     },
     "execution_count": 5,
     "metadata": {},
     "output_type": "execute_result"
    }
   ],
   "source": [
    "a.dtype"
   ]
  },
  {
   "cell_type": "markdown",
   "metadata": {
    "slideshow": {
     "slide_type": "slide"
    }
   },
   "source": [
    "To create arrays with more dimensions we use list of lists as the first argument to `np.array`"
   ]
  },
  {
   "cell_type": "code",
   "execution_count": 6,
   "metadata": {
    "slideshow": {
     "slide_type": "-"
    }
   },
   "outputs": [],
   "source": [
    "smile = np.array([[0, 0, 0, 1, 1, 1, 1, 0, 0, 0],\n",
    "                  [0, 0, 1, 1, 1, 1, 1, 1, 0, 0],\n",
    "                  [0, 1, 1, 5, 1, 1, 5, 1, 1, 0],\n",
    "                  [1, 1, 1, 1, 1, 1, 1, 1, 1, 1],\n",
    "                  [1, 1, 1, 1, 1, 1, 1, 1, 1, 1],\n",
    "                  [1, 1, 1, 1, 1, 1, 1, 1, 1, 1],\n",
    "                  [1, 1, 5, 1, 1, 1, 1, 5, 1, 1],\n",
    "                  [0, 1, 1, 5, 1, 1, 5, 1, 1, 0],\n",
    "                  [0, 0, 1, 1, 5, 5, 1, 1, 0, 0],\n",
    "                  [0, 0, 0, 1, 1, 1, 1, 0, 0, 0]])"
   ]
  },
  {
   "cell_type": "code",
   "execution_count": 7,
   "metadata": {
    "slideshow": {
     "slide_type": "fragment"
    }
   },
   "outputs": [
    {
     "data": {
      "image/png": "[encoded data removed]",
      "text/plain": [
       "<Figure size 432x288 with 1 Axes>"
      ]
     },
     "metadata": {
      "needs_background": "light"
     },
     "output_type": "display_data"
    }
   ],
   "source": [
    "plt.imshow(smile)\n",
    "plt.show()"
   ]
  },
  {
   "cell_type": "markdown",
   "metadata": {
    "slideshow": {
     "slide_type": "slide"
    }
   },
   "source": [
    "This arrays attributes are:"
   ]
  },
  {
   "cell_type": "code",
   "execution_count": 8,
   "metadata": {
    "slideshow": {
     "slide_type": "-"
    }
   },
   "outputs": [
    {
     "data": {
      "text/plain": [
       "2"
      ]
     },
     "execution_count": 8,
     "metadata": {},
     "output_type": "execute_result"
    }
   ],
   "source": [
    "smile.ndim"
   ]
  },
  {
   "cell_type": "code",
   "execution_count": 9,
   "metadata": {
    "slideshow": {
     "slide_type": "-"
    }
   },
   "outputs": [
    {
     "data": {
      "text/plain": [
       "(10, 10)"
      ]
     },
     "execution_count": 9,
     "metadata": {},
     "output_type": "execute_result"
    }
   ],
   "source": [
    "smile.shape"
   ]
  },
  {
   "cell_type": "code",
   "execution_count": 10,
   "metadata": {
    "slideshow": {
     "slide_type": "-"
    }
   },
   "outputs": [
    {
     "data": {
      "text/plain": [
       "dtype('int64')"
      ]
     },
     "execution_count": 10,
     "metadata": {},
     "output_type": "execute_result"
    }
   ],
   "source": [
    "smile.dtype"
   ]
  },
  {
   "cell_type": "markdown",
   "metadata": {
    "slideshow": {
     "slide_type": "slide"
    },
    "tags": [
     "info"
    ]
   },
   "source": [
    "**Info**\n",
    "\n",
    "There are more attributes for example\n",
    "- size: gives the total number of elements\n",
    "- itemsize: gives the memory size of one element\n",
    "- nbytes: gives the total memory size of the array"
   ]
  },
  {
   "cell_type": "markdown",
   "metadata": {
    "slideshow": {
     "slide_type": "slide"
    }
   },
   "source": [
    "Notice that by default numpy creates data types of 64 bit size. To create other types you need to specify the `dtype` argument in the array initalisation which takes one of the many data types listed in the documentation [here](https://docs.scipy.org/doc/numpy/reference/arrays.scalars.html#arrays-scalars-built-in)\n",
    "\n",
    "You can also always cast to a different data type later on:"
   ]
  },
  {
   "cell_type": "code",
   "execution_count": 11,
   "metadata": {
    "slideshow": {
     "slide_type": "slide"
    }
   },
   "outputs": [
    {
     "data": {
      "text/plain": [
       "dtype('int32')"
      ]
     },
     "execution_count": 11,
     "metadata": {},
     "output_type": "execute_result"
    }
   ],
   "source": [
    "a = a.astype(np.int32)\n",
    "a.dtype"
   ]
  },
  {
   "cell_type": "markdown",
   "metadata": {
    "slideshow": {
     "slide_type": "slide"
    }
   },
   "source": [
    "### Array shape"
   ]
  },
  {
   "cell_type": "markdown",
   "metadata": {
    "slideshow": {
     "slide_type": "slide"
    }
   },
   "source": [
    "### Other ways to create arrays\n",
    "\n",
    "Most of the time we don't want to create arrays with specific values by hand but need to initialize arrays of a certain shape to populate them with values later.\n",
    "While there are more the following two are the most used ones.\n",
    "\n",
    "Create array with zeros:"
   ]
  },
  {
   "cell_type": "code",
   "execution_count": 12,
   "metadata": {
    "slideshow": {
     "slide_type": "fragment"
    }
   },
   "outputs": [
    {
     "data": {
      "text/plain": [
       "array([[0., 0., 0., 0., 0.],\n",
       "       [0., 0., 0., 0., 0.],\n",
       "       [0., 0., 0., 0., 0.],\n",
       "       [0., 0., 0., 0., 0.],\n",
       "       [0., 0., 0., 0., 0.]])"
      ]
     },
     "execution_count": 12,
     "metadata": {},
     "output_type": "execute_result"
    }
   ],
   "source": [
    "np.zeros((5,5))"
   ]
  },
  {
   "cell_type": "markdown",
   "metadata": {
    "slideshow": {
     "slide_type": "slide"
    }
   },
   "source": [
    "Create an array with zeros based on the shape and dtype of another array:"
   ]
  },
  {
   "cell_type": "code",
   "execution_count": 13,
   "metadata": {
    "slideshow": {
     "slide_type": "-"
    }
   },
   "outputs": [
    {
     "data": {
      "text/plain": [
       "array([[0, 0, 0, 0, 0, 0, 0, 0, 0, 0],\n",
       "       [0, 0, 0, 0, 0, 0, 0, 0, 0, 0],\n",
       "       [0, 0, 0, 0, 0, 0, 0, 0, 0, 0],\n",
       "       [0, 0, 0, 0, 0, 0, 0, 0, 0, 0],\n",
       "       [0, 0, 0, 0, 0, 0, 0, 0, 0, 0],\n",
       "       [0, 0, 0, 0, 0, 0, 0, 0, 0, 0],\n",
       "       [0, 0, 0, 0, 0, 0, 0, 0, 0, 0],\n",
       "       [0, 0, 0, 0, 0, 0, 0, 0, 0, 0],\n",
       "       [0, 0, 0, 0, 0, 0, 0, 0, 0, 0],\n",
       "       [0, 0, 0, 0, 0, 0, 0, 0, 0, 0]])"
      ]
     },
     "execution_count": 13,
     "metadata": {},
     "output_type": "execute_result"
    }
   ],
   "source": [
    "np.zeros_like(smile)"
   ]
  },
  {
   "cell_type": "markdown",
   "metadata": {
    "slideshow": {
     "slide_type": "slide"
    }
   },
   "source": [
    "Create array with ones:"
   ]
  },
  {
   "cell_type": "code",
   "execution_count": 14,
   "metadata": {
    "slideshow": {
     "slide_type": "-"
    }
   },
   "outputs": [
    {
     "data": {
      "text/plain": [
       "array([[1., 1., 1., 1., 1.],\n",
       "       [1., 1., 1., 1., 1.],\n",
       "       [1., 1., 1., 1., 1.],\n",
       "       [1., 1., 1., 1., 1.],\n",
       "       [1., 1., 1., 1., 1.]], dtype=float32)"
      ]
     },
     "execution_count": 14,
     "metadata": {},
     "output_type": "execute_result"
    }
   ],
   "source": [
    "np.ones((5,5), dtype=np.float32)"
   ]
  },
  {
   "cell_type": "markdown",
   "metadata": {
    "slideshow": {
     "slide_type": "fragment"
    }
   },
   "source": [
    "Similarly to the zeros case there is a function `np.ones_like`.<br>\n",
    "Notice that additionally we can specify a dtype other than the default of np.float64."
   ]
  },
  {
   "cell_type": "markdown",
   "metadata": {
    "slideshow": {
     "slide_type": "slide"
    },
    "tags": [
     "task"
    ]
   },
   "source": [
    "**Task**\n",
    "\n",
    "Two more conveniant functions are `np.arange(start, stop, n)` and `np.linspace(start, stop, n)`.\n",
    "- Try them both and find out what they are each doing"
   ]
  },
  {
   "cell_type": "markdown",
   "metadata": {
    "tags": [
     "solution",
     "hidecode"
    ]
   },
   "source": [
    "**Solution**\n",
    "\n",
    "np.arange(start, stop, step) creates a sequence of numbers from start to stop with increment step<br>\n",
    "np.linspace(start, stop, n) creates a sequence of n evenly spaced numbers from start to stop."
   ]
  },
  {
   "cell_type": "markdown",
   "metadata": {
    "slideshow": {
     "slide_type": "slide"
    }
   },
   "source": [
    "### Accessing elements (indexing)\n",
    "\n",
    "Array elements can be accessed similar to lists with the bracket notation.<br>\n",
    "For higher dimensional arrays we need to know which index accesses a certain dimension or **axis**.\n",
    "<img src=\"https://www.oreilly.com/library/view/elegant-scipy/9781491922927/assets/elsp_0105.png\" width=900>"
   ]
  },
  {
   "cell_type": "markdown",
   "metadata": {
    "slideshow": {
     "slide_type": "slide"
    }
   },
   "source": [
    "The following accesses the left eye of the smiley which is located in row 2 and column 3 (counts start at 0)."
   ]
  },
  {
   "cell_type": "code",
   "execution_count": 15,
   "metadata": {
    "slideshow": {
     "slide_type": "-"
    }
   },
   "outputs": [
    {
     "data": {
      "text/plain": [
       "5"
      ]
     },
     "execution_count": 15,
     "metadata": {},
     "output_type": "execute_result"
    }
   ],
   "source": [
    "smile[2,3]"
   ]
  },
  {
   "cell_type": "markdown",
   "metadata": {
    "slideshow": {
     "slide_type": "slide"
    }
   },
   "source": [
    "This can also be used to assign new values"
   ]
  },
  {
   "cell_type": "code",
   "execution_count": 15,
   "metadata": {
    "slideshow": {
     "slide_type": "-"
    }
   },
   "outputs": [],
   "source": [
    "smile[2,3] = 0"
   ]
  },
  {
   "cell_type": "code",
   "execution_count": 16,
   "metadata": {
    "slideshow": {
     "slide_type": "-"
    }
   },
   "outputs": [
    {
     "data": {
      "image/png": "[encoded data removed]",
      "text/plain": [
       "<Figure size 432x288 with 1 Axes>"
      ]
     },
     "metadata": {
      "needs_background": "light"
     },
     "output_type": "display_data"
    }
   ],
   "source": [
    "plt.imshow(smile)\n",
    "plt.show()"
   ]
  },
  {
   "cell_type": "markdown",
   "metadata": {
    "slideshow": {
     "slide_type": "slide"
    }
   },
   "source": [
    "### Slicing\n",
    "\n",
    "Additionally to indexing slicing (again simillar to lists) is possible to select more than one lement.<br>\n",
    "The general syntax is `[start:stop:step]`.\n",
    "\n",
    "The following selects only the smile part of the smiley:"
   ]
  },
  {
   "cell_type": "code",
   "execution_count": 16,
   "metadata": {
    "slideshow": {
     "slide_type": "fragment"
    }
   },
   "outputs": [
    {
     "data": {
      "image/png": "[encoded data removed]",
      "text/plain": [
       "<Figure size 432x288 with 1 Axes>"
      ]
     },
     "metadata": {
      "needs_background": "light"
     },
     "output_type": "display_data"
    }
   ],
   "source": [
    "mouth = smile[6:, :]\n",
    "\n",
    "plt.imshow(mouth)\n",
    "plt.show()"
   ]
  },
  {
   "cell_type": "markdown",
   "metadata": {
    "slideshow": {
     "slide_type": "-"
    }
   },
   "source": [
    "Or we can select every other element"
   ]
  },
  {
   "cell_type": "code",
   "execution_count": 17,
   "metadata": {
    "slideshow": {
     "slide_type": "-"
    }
   },
   "outputs": [
    {
     "data": {
      "text/plain": [
       "array([3, 8, 9, 1, 4, 8], dtype=int32)"
      ]
     },
     "execution_count": 17,
     "metadata": {},
     "output_type": "execute_result"
    }
   ],
   "source": [
    "a[::2]"
   ]
  },
  {
   "cell_type": "markdown",
   "metadata": {
    "slideshow": {
     "slide_type": "slide"
    }
   },
   "source": [
    "Notice that we omitted the stop index while selecting rows and both start and stop index with the columns as well as the step size.<br>\n",
    "By default numpy if an index is omitted slicing\n",
    "- **starts at 0 (start omitted)**,\n",
    "- **reaches to the end (stop is omitted)**\n",
    "- and uses a **step size of 1 (step omitted)**."
   ]
  },
  {
   "cell_type": "markdown",
   "metadata": {
    "slideshow": {
     "slide_type": "slide"
    }
   },
   "source": [
    "We can also combine indexing and slicing.\n",
    "\n",
    "The following \"blindfolds\" our smiley:"
   ]
  },
  {
   "cell_type": "code",
   "execution_count": 18,
   "metadata": {
    "slideshow": {
     "slide_type": "-"
    }
   },
   "outputs": [
    {
     "data": {
      "image/png": "[encoded data removed]",
      "text/plain": [
       "<Figure size 432x288 with 1 Axes>"
      ]
     },
     "metadata": {
      "needs_background": "light"
     },
     "output_type": "display_data"
    }
   ],
   "source": [
    "smile[2, 1:9] = 9\n",
    "\n",
    "plt.imshow(smile)\n",
    "plt.show()"
   ]
  },
  {
   "cell_type": "markdown",
   "metadata": {
    "slideshow": {
     "slide_type": "slide"
    },
    "tags": [
     "task"
    ]
   },
   "source": [
    "**Task**\n",
    "\n",
    "1. Copy the smile array init code from above so you don't have to type it yourself\n",
    "2. Give the smiley a nose 2x2 elements big using the same value used for the eyes and mouth\n",
    "3. What happens when you select a value of -1 for the step index while slicing (Hint: try it on both axis)?"
   ]
  },
  {
   "cell_type": "markdown",
   "metadata": {
    "slideshow": {
     "slide_type": "slide"
    },
    "tags": [
     "solution",
     "hidecode"
    ]
   },
   "source": [
    "**Solution**\n",
    "\n",
    "The nose:\n",
    "```python\n",
    "smile[4:6, 4:6] = 5\n",
    "\n",
    "plt.imshow(smile)\n",
    "plt.show()\n",
    "```\n",
    "Reverting array:\n",
    "```python\n",
    "plt.imshow(smile[::-1,:])\n",
    "plt.show()\n",
    "```"
   ]
  },
  {
   "cell_type": "markdown",
   "metadata": {
    "slideshow": {
     "slide_type": "slide"
    }
   },
   "source": [
    "### Reshaping\n",
    "\n",
    "Sometimes data needs to be converted to another shape which can be done with the `reshape` method.\n",
    "\n",
    "For example creating a 2d array from a 1d array"
   ]
  },
  {
   "cell_type": "code",
   "execution_count": 19,
   "metadata": {
    "slideshow": {
     "slide_type": "-"
    }
   },
   "outputs": [
    {
     "data": {
      "text/plain": [
       "array([1, 2, 3, 4, 5, 6, 7, 8, 9])"
      ]
     },
     "execution_count": 19,
     "metadata": {},
     "output_type": "execute_result"
    }
   ],
   "source": [
    "b = np.arange(1,10)\n",
    "b"
   ]
  },
  {
   "cell_type": "code",
   "execution_count": 20,
   "metadata": {
    "slideshow": {
     "slide_type": "-"
    }
   },
   "outputs": [
    {
     "data": {
      "text/plain": [
       "array([[1, 2, 3],\n",
       "       [4, 5, 6],\n",
       "       [7, 8, 9]])"
      ]
     },
     "execution_count": 20,
     "metadata": {},
     "output_type": "execute_result"
    }
   ],
   "source": [
    "b.reshape(3,3)"
   ]
  },
  {
   "cell_type": "markdown",
   "metadata": {
    "slideshow": {
     "slide_type": "slide"
    }
   },
   "source": [
    "While in the special case of converting a 1D array to a vector can also be accomplished using `reshape` it is easier to use the following since no knowledge of the exact shape is necessary."
   ]
  },
  {
   "cell_type": "code",
   "execution_count": 38,
   "metadata": {
    "slideshow": {
     "slide_type": "-"
    }
   },
   "outputs": [
    {
     "data": {
      "text/plain": [
       "(11,)"
      ]
     },
     "execution_count": 38,
     "metadata": {},
     "output_type": "execute_result"
    }
   ],
   "source": [
    "a"
   ]
  },
  {
   "cell_type": "code",
   "execution_count": 39,
   "metadata": {
    "slideshow": {
     "slide_type": "-"
    }
   },
   "outputs": [
    {
     "data": {
      "text/plain": [
       "(11, 1)"
      ]
     },
     "execution_count": 39,
     "metadata": {},
     "output_type": "execute_result"
    }
   ],
   "source": [
    "a[:, np.newaxis].shape"
   ]
  },
  {
   "cell_type": "markdown",
   "metadata": {
    "slideshow": {
     "slide_type": "slide"
    }
   },
   "source": [
    "#### Flatten vs. Ravel\n",
    "\n",
    "The opposite direction of creating a 1d array from a higher dimensional array can be done using either"
   ]
  },
  {
   "cell_type": "code",
   "execution_count": 23,
   "metadata": {
    "slideshow": {
     "slide_type": "-"
    }
   },
   "outputs": [
    {
     "data": {
      "text/plain": [
       "array([0, 0, 0, 1, 1, 1, 1, 0, 0, 0, 0, 0, 1, 1, 1, 1, 1, 1, 0, 0, 0, 9,\n",
       "       9, 9, 9, 9, 9, 9, 9, 0, 1, 1, 1, 1, 1, 1, 1, 1, 1, 1, 1, 1, 1, 1,\n",
       "       1, 1, 1, 1, 1, 1, 1, 1, 1, 1, 1, 1, 1, 1, 1, 1, 1, 1, 5, 1, 1, 1,\n",
       "       1, 5, 1, 1, 0, 1, 1, 5, 1, 1, 5, 1, 1, 0, 0, 0, 1, 1, 5, 5, 1, 1,\n",
       "       0, 0, 0, 0, 0, 1, 1, 1, 1, 0, 0, 0])"
      ]
     },
     "execution_count": 23,
     "metadata": {},
     "output_type": "execute_result"
    }
   ],
   "source": [
    "smile.flatten()"
   ]
  },
  {
   "cell_type": "markdown",
   "metadata": {
    "slideshow": {
     "slide_type": "-"
    }
   },
   "source": [
    "or"
   ]
  },
  {
   "cell_type": "code",
   "execution_count": 24,
   "metadata": {
    "slideshow": {
     "slide_type": "-"
    }
   },
   "outputs": [
    {
     "data": {
      "text/plain": [
       "array([0, 0, 0, 1, 1, 1, 1, 0, 0, 0, 0, 0, 1, 1, 1, 1, 1, 1, 0, 0, 0, 9,\n",
       "       9, 9, 9, 9, 9, 9, 9, 0, 1, 1, 1, 1, 1, 1, 1, 1, 1, 1, 1, 1, 1, 1,\n",
       "       1, 1, 1, 1, 1, 1, 1, 1, 1, 1, 1, 1, 1, 1, 1, 1, 1, 1, 5, 1, 1, 1,\n",
       "       1, 5, 1, 1, 0, 1, 1, 5, 1, 1, 5, 1, 1, 0, 0, 0, 1, 1, 5, 5, 1, 1,\n",
       "       0, 0, 0, 0, 0, 1, 1, 1, 1, 0, 0, 0])"
      ]
     },
     "execution_count": 24,
     "metadata": {},
     "output_type": "execute_result"
    }
   ],
   "source": [
    "smile.ravel()"
   ]
  },
  {
   "cell_type": "markdown",
   "metadata": {
    "slideshow": {
     "slide_type": "-"
    }
   },
   "source": [
    "The difference between the two is `flatten` returns a **copy** while `ravel` returns a **view** of the array."
   ]
  },
  {
   "cell_type": "markdown",
   "metadata": {
    "slideshow": {
     "slide_type": "slide"
    }
   },
   "source": [
    "### Views vs. copies\n",
    "\n",
    "Remember our smiley"
   ]
  },
  {
   "cell_type": "code",
   "execution_count": 25,
   "metadata": {
    "slideshow": {
     "slide_type": "-"
    }
   },
   "outputs": [
    {
     "data": {
      "image/png": "[encoded data removed]",
      "text/plain": [
       "<Figure size 432x288 with 1 Axes>"
      ]
     },
     "metadata": {
      "needs_background": "light"
     },
     "output_type": "display_data"
    }
   ],
   "source": [
    "plt.imshow(smile)\n",
    "plt.show()"
   ]
  },
  {
   "cell_type": "markdown",
   "metadata": {
    "slideshow": {
     "slide_type": "slide"
    }
   },
   "source": [
    "Lets say we want to do some calculations on the mouth area of the array. A common workflow would be to select the corresponding part of the array first"
   ]
  },
  {
   "cell_type": "code",
   "execution_count": 26,
   "metadata": {
    "slideshow": {
     "slide_type": "-"
    }
   },
   "outputs": [],
   "source": [
    "nose = smile[4:9, 2:8]"
   ]
  },
  {
   "cell_type": "markdown",
   "metadata": {
    "slideshow": {
     "slide_type": "slide"
    }
   },
   "source": [
    "To be able to differentiate between the nose and the mouth we assign a new value to the nose"
   ]
  },
  {
   "cell_type": "code",
   "execution_count": 27,
   "metadata": {
    "slideshow": {
     "slide_type": "-"
    }
   },
   "outputs": [
    {
     "data": {
      "text/plain": [
       "array([[ 1,  1, 20, 20,  1,  1],\n",
       "       [ 1,  1, 20, 20,  1,  1],\n",
       "       [ 5,  1,  1,  1,  1,  5],\n",
       "       [ 1,  5,  1,  1,  5,  1],\n",
       "       [ 1,  1,  5,  5,  1,  1]])"
      ]
     },
     "execution_count": 27,
     "metadata": {},
     "output_type": "execute_result"
    }
   ],
   "source": [
    "nose[0:2,2:4] = 20\n",
    "nose"
   ]
  },
  {
   "cell_type": "markdown",
   "metadata": {
    "slideshow": {
     "slide_type": "-"
    }
   },
   "source": [
    "Now we could calculate for example occurance of each value in the array."
   ]
  },
  {
   "cell_type": "markdown",
   "metadata": {
    "slideshow": {
     "slide_type": "slide"
    }
   },
   "source": [
    "Later on we want to keep working on the original array but notice"
   ]
  },
  {
   "cell_type": "code",
   "execution_count": 30,
   "metadata": {
    "slideshow": {
     "slide_type": "-"
    }
   },
   "outputs": [
    {
     "data": {
      "image/png": "[encoded data removed]",
      "text/plain": [
       "<Figure size 432x288 with 2 Axes>"
      ]
     },
     "metadata": {
      "needs_background": "light"
     },
     "output_type": "display_data"
    }
   ],
   "source": [
    "plt.imshow(smile)\n",
    "plt.colorbar()\n",
    "plt.show()"
   ]
  },
  {
   "cell_type": "markdown",
   "metadata": {
    "slideshow": {
     "slide_type": "slide"
    }
   },
   "source": [
    "##### What happend?\n",
    "\n",
    "Slicing returned a so called **view** of the array which points to the same memory and therefore if changed, changes the values in the original array too.\n",
    "\n",
    "This is different to normal python lists where slicing returns a copy.\n",
    "\n",
    "In order to keep a real copy of the array for later use you need to use the `np.copy()` method (which can also be used on slices):\n",
    "\n",
    "```python\n",
    "backup = smile.copy()\n",
    "```\n",
    "\n",
    "[Here](https://www.jessicayung.com/numpy-views-vs-copies-avoiding-costly-mistakes/), for example, you can find more information around advantages of copies and views \n"
   ]
  },
  {
   "cell_type": "markdown",
   "metadata": {
    "slideshow": {
     "slide_type": "slide"
    }
   },
   "source": [
    "| View | Copy |\n",
    "| ---- | ---- |\n",
    "|a[1,:]|      |\n",
    "|np.ravel()|np.flatten()|"
   ]
  },
  {
   "cell_type": "markdown",
   "metadata": {
    "slideshow": {
     "slide_type": "slide"
    }
   },
   "source": [
    "### Boolean operations\n",
    "\n",
    "Using boolean operators we can test an array on where a certain condition is met."
   ]
  },
  {
   "cell_type": "code",
   "execution_count": 31,
   "metadata": {
    "slideshow": {
     "slide_type": "-"
    }
   },
   "outputs": [
    {
     "data": {
      "text/plain": [
       "array([[False, False, False, False, False, False, False, False, False,\n",
       "        False],\n",
       "       [False, False, False, False, False, False, False, False, False,\n",
       "        False],\n",
       "       [False,  True,  True,  True,  True,  True,  True,  True,  True,\n",
       "        False],\n",
       "       [False, False, False, False, False, False, False, False, False,\n",
       "        False],\n",
       "       [False, False, False, False,  True,  True, False, False, False,\n",
       "        False],\n",
       "       [False, False, False, False,  True,  True, False, False, False,\n",
       "        False],\n",
       "       [False, False, False, False, False, False, False, False, False,\n",
       "        False],\n",
       "       [False, False, False, False, False, False, False, False, False,\n",
       "        False],\n",
       "       [False, False, False, False, False, False, False, False, False,\n",
       "        False],\n",
       "       [False, False, False, False, False, False, False, False, False,\n",
       "        False]])"
      ]
     },
     "execution_count": 31,
     "metadata": {},
     "output_type": "execute_result"
    }
   ],
   "source": [
    "smile > 8"
   ]
  },
  {
   "cell_type": "markdown",
   "metadata": {
    "slideshow": {
     "slide_type": "slide"
    }
   },
   "source": [
    "We can also use this array as a mask to select the corresponding elements from the array "
   ]
  },
  {
   "cell_type": "code",
   "execution_count": 32,
   "metadata": {
    "slideshow": {
     "slide_type": "-"
    }
   },
   "outputs": [
    {
     "data": {
      "text/plain": [
       "array([ 9,  9,  9,  9,  9,  9,  9,  9, 20, 20, 20, 20])"
      ]
     },
     "execution_count": 32,
     "metadata": {},
     "output_type": "execute_result"
    }
   ],
   "source": [
    "smile[smile > 8]"
   ]
  },
  {
   "cell_type": "markdown",
   "metadata": {
    "slideshow": {
     "slide_type": "-"
    }
   },
   "source": [
    "or assign new values to those locations"
   ]
  },
  {
   "cell_type": "code",
   "execution_count": 33,
   "metadata": {
    "slideshow": {
     "slide_type": "-"
    }
   },
   "outputs": [
    {
     "data": {
      "image/png": "[encoded data removed]",
      "text/plain": [
       "<Figure size 432x288 with 2 Axes>"
      ]
     },
     "metadata": {
      "needs_background": "light"
     },
     "output_type": "display_data"
    }
   ],
   "source": [
    "smile[smile > 8] = -5\n",
    "\n",
    "plt.imshow(smile)\n",
    "plt.colorbar()\n",
    "plt.show()"
   ]
  },
  {
   "cell_type": "markdown",
   "metadata": {
    "slideshow": {
     "slide_type": "slide"
    }
   },
   "source": [
    "#### Missing values\n",
    "\n",
    "In arrays with data type float missing values are assigned `np.nan`"
   ]
  },
  {
   "cell_type": "code",
   "execution_count": 90,
   "metadata": {
    "slideshow": {
     "slide_type": "-"
    }
   },
   "outputs": [
    {
     "data": {
      "text/plain": [
       "array([ 1., nan, nan,  4.])"
      ]
     },
     "execution_count": 90,
     "metadata": {},
     "output_type": "execute_result"
    }
   ],
   "source": [
    "missing = np.arange(1.,5.)\n",
    "missing[1:3] = np.nan\n",
    "missing"
   ]
  },
  {
   "cell_type": "markdown",
   "metadata": {
    "slideshow": {
     "slide_type": "-"
    }
   },
   "source": [
    "To handle these we can use boolean masks together with the `np.isnan` method"
   ]
  },
  {
   "cell_type": "code",
   "execution_count": 91,
   "metadata": {
    "slideshow": {
     "slide_type": "-"
    }
   },
   "outputs": [
    {
     "data": {
      "text/plain": [
       "array([nan, nan])"
      ]
     },
     "execution_count": 91,
     "metadata": {},
     "output_type": "execute_result"
    }
   ],
   "source": [
    "missing[np.isnan(missing)]"
   ]
  },
  {
   "cell_type": "markdown",
   "metadata": {
    "slideshow": {
     "slide_type": "-"
    }
   },
   "source": [
    "Selecting all value which are not nan is also possible"
   ]
  },
  {
   "cell_type": "code",
   "execution_count": 92,
   "metadata": {
    "slideshow": {
     "slide_type": "-"
    }
   },
   "outputs": [
    {
     "data": {
      "text/plain": [
       "array([1., 4.])"
      ]
     },
     "execution_count": 92,
     "metadata": {},
     "output_type": "execute_result"
    }
   ],
   "source": [
    "missing[~np.isnan(missing)]"
   ]
  },
  {
   "cell_type": "markdown",
   "metadata": {
    "slideshow": {
     "slide_type": "slide"
    }
   },
   "source": [
    "### Aggregating\n",
    "\n",
    "Numpy has many built in functions to calculate basic statistics for example the min (max), mean or standard deviation"
   ]
  },
  {
   "cell_type": "code",
   "execution_count": 96,
   "metadata": {
    "slideshow": {
     "slide_type": "-"
    }
   },
   "outputs": [
    {
     "data": {
      "text/plain": [
       "5"
      ]
     },
     "execution_count": 96,
     "metadata": {},
     "output_type": "execute_result"
    }
   ],
   "source": [
    "np.max(smile)"
   ]
  },
  {
   "cell_type": "markdown",
   "metadata": {
    "slideshow": {
     "slide_type": "-"
    }
   },
   "source": [
    "These functions can be used together with the `axis` argument to calculate these statistics for any given axis"
   ]
  },
  {
   "cell_type": "code",
   "execution_count": 97,
   "metadata": {
    "slideshow": {
     "slide_type": "-"
    }
   },
   "outputs": [
    {
     "data": {
      "text/plain": [
       "array([ 0.4,  0.6,  1.6,  1. , -0.8, -0.8,  1.8,  1.6,  1.4,  0.4])"
      ]
     },
     "execution_count": 97,
     "metadata": {},
     "output_type": "execute_result"
    }
   ],
   "source": [
    "np.mean(smile, axis=1)"
   ]
  },
  {
   "cell_type": "code",
   "execution_count": 98,
   "metadata": {
    "slideshow": {
     "slide_type": "-"
    }
   },
   "outputs": [
    {
     "data": {
      "text/plain": [
       "array([0.48989795, 0.48989795, 1.74355958, 0.        , 2.74954542,\n",
       "       2.74954542, 1.6       , 1.74355958, 1.8547237 , 0.48989795])"
      ]
     },
     "execution_count": 98,
     "metadata": {},
     "output_type": "execute_result"
    }
   ],
   "source": [
    "np.std(smile, axis=1)"
   ]
  },
  {
   "cell_type": "markdown",
   "metadata": {
    "slideshow": {
     "slide_type": "slide"
    }
   },
   "source": [
    "These functions are very fast and should not be confused with other python built in function which might do the same,\n",
    "for example sum."
   ]
  },
  {
   "cell_type": "code",
   "execution_count": 99,
   "metadata": {},
   "outputs": [
    {
     "name": "stdout",
     "output_type": "stream",
     "text": [
      "81.9 ms ± 1.76 ms per loop (mean ± std. dev. of 7 runs, 10 loops each)\n",
      "501 µs ± 14.9 µs per loop (mean ± std. dev. of 7 runs, 1000 loops each)\n"
     ]
    }
   ],
   "source": [
    "big_array = np.random.rand(1000000)\n",
    "%timeit sum(big_array)\n",
    "%timeit np.sum(big_array)"
   ]
  },
  {
   "cell_type": "markdown",
   "metadata": {
    "slideshow": {
     "slide_type": "slide"
    },
    "tags": [
     "task"
    ]
   },
   "source": [
    "**Task**\n",
    "\n",
    "1. Assign the following array to a new variable: `np.array([[1., np.nan, 7., 30., -4.], [-7., 18., 11., np.nan, 3.]])`\n",
    "2. Select all but the last column and assign it to a new variable, keeping the old array as backup\n",
    "3. Assign a new value to all nan's in the selection created in task 2\n",
    "4. Try to calculate the median for the original array over the rows\n",
    "5. Go to the numpy documentation [here](https://docs.scipy.org/doc/numpy/reference/routines.statistics.html) and find a function which gets around the problem you encountered in task 4"
   ]
  },
  {
   "cell_type": "markdown",
   "metadata": {
    "slideshow": {
     "slide_type": "slide"
    },
    "tags": [
     "solution",
     "hidecode"
    ]
   },
   "source": [
    "**Solution**\n",
    "\n",
    "```python\n",
    "a = np.array([[1., np.nan, 7., 30., -4.], [-7., 18., 11., np.nan, 3.]])\n",
    "```\n",
    "\n",
    "Remove the last column and make a copy to new variable b\n",
    "```python\n",
    "b = a[:,:-1].copy()\n",
    "```\n",
    "\n",
    "Assign all `np.nan`s the value -99\n",
    "```python\n",
    "b[np.isnan(b)] = -99\n",
    "```\n",
    "\n",
    "The standard median function included `np.nan` values when calculating\n",
    "```python\n",
    "np.median(a, axis=1)\n",
    "```\n",
    "\n",
    "To ignore `np.nan` values most aggregation functions have an equivalent which is prepended with \"nan\"\n",
    "```python\n",
    "np.nanmedian(a, axis=1)\n",
    "```"
   ]
  },
  {
   "cell_type": "markdown",
   "metadata": {
    "slideshow": {
     "slide_type": "slide"
    }
   },
   "source": [
    "### Ufuncs\n",
    "\n",
    "Next to functions to aggregate the values in an array there are functions which operate on arrays in an element-by-element fashion. These \"vectorized\" functions are called universal functions (ufuncs).\n",
    "\n",
    "All basic arithmetic operations like\n",
    "- addition,\n",
    "- subtraction,\n",
    "- multiplication,\n",
    "- division as well as\n",
    "- exponentiation and\n",
    "- modulus\n",
    "- (and more)\n",
    "\n",
    "are implemented. These can be used with the usual operators we already know."
   ]
  },
  {
   "cell_type": "code",
   "execution_count": 101,
   "metadata": {
    "slideshow": {
     "slide_type": "slide"
    }
   },
   "outputs": [
    {
     "data": {
      "text/plain": [
       "array([[1, 2, 3],\n",
       "       [4, 5, 6],\n",
       "       [7, 8, 9]])"
      ]
     },
     "execution_count": 101,
     "metadata": {},
     "output_type": "execute_result"
    }
   ],
   "source": [
    "a = np.arange(1, 10).reshape(3,3)\n",
    "a"
   ]
  },
  {
   "cell_type": "code",
   "execution_count": 107,
   "metadata": {},
   "outputs": [
    {
     "data": {
      "text/plain": [
       "array([[ 4.3,  5.2,  6.7],\n",
       "       [ 8.8, 11.5, 14.8],\n",
       "       [18.7, 23.2, 28.3]])"
      ]
     },
     "execution_count": 107,
     "metadata": {},
     "output_type": "execute_result"
    }
   ],
   "source": [
    "a = 0.3 * a**2 + 4\n",
    "a"
   ]
  },
  {
   "cell_type": "markdown",
   "metadata": {
    "slideshow": {
     "slide_type": "slide"
    }
   },
   "source": [
    "These can not only be used with scalars but also with arrays"
   ]
  },
  {
   "cell_type": "code",
   "execution_count": 109,
   "metadata": {
    "slideshow": {
     "slide_type": "-"
    }
   },
   "outputs": [
    {
     "data": {
      "text/plain": [
       "array([[4.3       , 2.6       , 2.23333333],\n",
       "       [2.2       , 2.3       , 2.46666667],\n",
       "       [2.67142857, 2.9       , 3.14444444]])"
      ]
     },
     "execution_count": 109,
     "metadata": {},
     "output_type": "execute_result"
    }
   ],
   "source": [
    "b = np.arange(1, 10).reshape(3,3)\n",
    "\n",
    "a / b"
   ]
  },
  {
   "cell_type": "markdown",
   "metadata": {
    "slideshow": {
     "slide_type": "-"
    }
   },
   "source": [
    "These common operators are wrappers for the corresponding numpy functions. For example `+` wraps `np.sum()`."
   ]
  },
  {
   "cell_type": "markdown",
   "metadata": {
    "slideshow": {
     "slide_type": "slide"
    }
   },
   "source": [
    "The above functions all operated on two arguments. Functions like `np.abs()` which returns the absolute value take only one argument. There are many functions like this implemented in numpy for example the sine function"
   ]
  },
  {
   "cell_type": "code",
   "execution_count": 114,
   "metadata": {
    "slideshow": {
     "slide_type": "-"
    }
   },
   "outputs": [
    {
     "data": {
      "image/png": "[encoded data removed]",
      "text/plain": [
       "<Figure size 432x288 with 1 Axes>"
      ]
     },
     "metadata": {
      "needs_background": "light"
     },
     "output_type": "display_data"
    }
   ],
   "source": [
    "a = np.arange(1, 25, 0.1)\n",
    "res = np.sin(a)\n",
    "\n",
    "plt.plot(a, res)\n",
    "plt.show()"
   ]
  },
  {
   "cell_type": "markdown",
   "metadata": {
    "slideshow": {
     "slide_type": "slide"
    },
    "tags": [
     "info"
    ]
   },
   "source": [
    "**Info**\n",
    "\n",
    "- Have a look at the [scipy.special](https://docs.scipy.org/doc/scipy/reference/special.html) library if you need a very special function.\n",
    "- Many of the ufuncs have a special `out` parameter to which you can supply an output array (even slices work). Using it especially for very large arrays unecessary copies can be avoided saving memory."
   ]
  },
  {
   "cell_type": "markdown",
   "metadata": {
    "slideshow": {
     "slide_type": "slide"
    }
   },
   "source": [
    "### Broadcasting\n",
    "\n",
    "Above we saw that operations on same shape arrays operated element wise"
   ]
  },
  {
   "cell_type": "code",
   "execution_count": 115,
   "metadata": {
    "slideshow": {
     "slide_type": "-"
    }
   },
   "outputs": [
    {
     "data": {
      "text/plain": [
       "array([[ 2,  4,  6],\n",
       "       [ 8, 10, 12],\n",
       "       [14, 16, 18]])"
      ]
     },
     "execution_count": 115,
     "metadata": {},
     "output_type": "execute_result"
    }
   ],
   "source": [
    "a = np.arange(1, 10).reshape(3,3)\n",
    "b = np.arange(1, 10).reshape(3,3)\n",
    "\n",
    "a + b"
   ]
  },
  {
   "cell_type": "markdown",
   "metadata": {
    "slideshow": {
     "slide_type": "-"
    }
   },
   "source": [
    "Iterestingly, even though, the arguments are not of the same shape, the following also worked"
   ]
  },
  {
   "cell_type": "code",
   "execution_count": 116,
   "metadata": {
    "slideshow": {
     "slide_type": "-"
    }
   },
   "outputs": [
    {
     "data": {
      "text/plain": [
       "array([[ 6,  7,  8],\n",
       "       [ 9, 10, 11],\n",
       "       [12, 13, 14]])"
      ]
     },
     "execution_count": 116,
     "metadata": {},
     "output_type": "execute_result"
    }
   ],
   "source": [
    "a + 5"
   ]
  },
  {
   "cell_type": "markdown",
   "metadata": {
    "slideshow": {
     "slide_type": "slide"
    }
   },
   "source": [
    "Even more interesting is the following"
   ]
  },
  {
   "cell_type": "code",
   "execution_count": 119,
   "metadata": {
    "slideshow": {
     "slide_type": "-"
    }
   },
   "outputs": [
    {
     "data": {
      "text/plain": [
       "array([1, 2, 3])"
      ]
     },
     "execution_count": 119,
     "metadata": {},
     "output_type": "execute_result"
    }
   ],
   "source": [
    "c = np.arange(1,4)\n",
    "c"
   ]
  },
  {
   "cell_type": "code",
   "execution_count": 120,
   "metadata": {
    "slideshow": {
     "slide_type": "-"
    }
   },
   "outputs": [
    {
     "data": {
      "text/plain": [
       "array([[ 2,  4,  6],\n",
       "       [ 5,  7,  9],\n",
       "       [ 8, 10, 12]])"
      ]
     },
     "execution_count": 120,
     "metadata": {},
     "output_type": "execute_result"
    }
   ],
   "source": [
    "a + c"
   ]
  },
  {
   "cell_type": "markdown",
   "metadata": {
    "slideshow": {
     "slide_type": "slide"
    }
   },
   "source": [
    "This behaviour is called **broadcasting** and is a very powerfull feature. You can thinkg of it as numpy automatically duplicating the values to the correct size. The advantage is that no actuall copying memory wise is done.\n",
    "\n",
    "The following picture makes this a little clearer."
   ]
  },
  {
   "cell_type": "markdown",
   "metadata": {
    "slideshow": {
     "slide_type": "slide"
    }
   },
   "source": [
    "<img src=\"https://scipy-lectures.org/_images/numpy_broadcasting.png\" width=700><br>\n",
    "<small>Source: https://scipy-lectures.org/_images/numpy_broadcasting.png</small>"
   ]
  },
  {
   "cell_type": "markdown",
   "metadata": {
    "slideshow": {
     "slide_type": "slide"
    }
   },
   "source": [
    "### Broadcasting rules\n",
    "\n",
    "1. If the number of dimensions differ, the one with fewer dimensions is padded with ones on its left side.\n",
    "2. If the shape does not match in any dimension, the array with shape equal to 1 in that dimension is stretched to match the other shape.\n",
    "3. If in any dimension the sizes disagree and neither is equal to 1, an error is raised."
   ]
  },
  {
   "cell_type": "markdown",
   "metadata": {
    "slideshow": {
     "slide_type": "slide"
    }
   },
   "source": [
    "### Fancy indexing\n",
    "\n",
    "Up to now we used single indices to select elements or slices to select continous (parts) of columns and/or rows.\n",
    "\n",
    "**Fancy indexing** allows us to select multiple elements with different indices in a noncontinous fashion by passing a list or array of indices."
   ]
  },
  {
   "cell_type": "code",
   "execution_count": 131,
   "metadata": {
    "slideshow": {
     "slide_type": "-"
    }
   },
   "outputs": [
    {
     "data": {
      "text/plain": [
       "array([ 1,  2,  3,  4,  5,  6,  7,  8,  9, 10, 11, 12])"
      ]
     },
     "execution_count": 131,
     "metadata": {},
     "output_type": "execute_result"
    }
   ],
   "source": [
    "a = np.arange(1, 13)\n",
    "a"
   ]
  },
  {
   "cell_type": "code",
   "execution_count": 127,
   "metadata": {
    "slideshow": {
     "slide_type": "-"
    }
   },
   "outputs": [
    {
     "data": {
      "text/plain": [
       "array([3, 6, 8])"
      ]
     },
     "execution_count": 127,
     "metadata": {},
     "output_type": "execute_result"
    }
   ],
   "source": [
    "ind = [2, 5, 7]\n",
    "a[ind]"
   ]
  },
  {
   "cell_type": "markdown",
   "metadata": {
    "slideshow": {
     "slide_type": "slide"
    }
   },
   "source": [
    "The shape of the result depends on the shape of the index array"
   ]
  },
  {
   "cell_type": "code",
   "execution_count": 128,
   "metadata": {
    "slideshow": {
     "slide_type": "-"
    }
   },
   "outputs": [
    {
     "data": {
      "text/plain": [
       "array([[2, 5],\n",
       "       [7, 9]])"
      ]
     },
     "execution_count": 128,
     "metadata": {},
     "output_type": "execute_result"
    }
   ],
   "source": [
    "ind = np.array([[2, 5],\n",
    "                [7, 9]])\n",
    "ind"
   ]
  },
  {
   "cell_type": "code",
   "execution_count": 129,
   "metadata": {
    "slideshow": {
     "slide_type": "-"
    }
   },
   "outputs": [
    {
     "data": {
      "text/plain": [
       "array([[ 3,  6],\n",
       "       [ 8, 10]])"
      ]
     },
     "execution_count": 129,
     "metadata": {},
     "output_type": "execute_result"
    }
   ],
   "source": [
    "a[ind]"
   ]
  },
  {
   "cell_type": "markdown",
   "metadata": {
    "slideshow": {
     "slide_type": "slide"
    }
   },
   "source": [
    "This also works for higher dimensional arrays"
   ]
  },
  {
   "cell_type": "code",
   "execution_count": 133,
   "metadata": {
    "slideshow": {
     "slide_type": "-"
    }
   },
   "outputs": [
    {
     "data": {
      "text/plain": [
       "array([[ 1,  2,  3,  4],\n",
       "       [ 5,  6,  7,  8],\n",
       "       [ 9, 10, 11, 12]])"
      ]
     },
     "execution_count": 133,
     "metadata": {},
     "output_type": "execute_result"
    }
   ],
   "source": [
    "a = a.reshape(3,4)\n",
    "a"
   ]
  },
  {
   "cell_type": "code",
   "execution_count": 136,
   "metadata": {
    "slideshow": {
     "slide_type": "-"
    }
   },
   "outputs": [
    {
     "data": {
      "text/plain": [
       "array([ 1, 12])"
      ]
     },
     "execution_count": 136,
     "metadata": {},
     "output_type": "execute_result"
    }
   ],
   "source": [
    "cind = np.array([0, 3])\n",
    "rind = np.array([0, 2])\n",
    "\n",
    "a[rind, cind]"
   ]
  },
  {
   "cell_type": "markdown",
   "metadata": {
    "slideshow": {
     "slide_type": "-"
    }
   },
   "source": [
    "How the indices are combined is determined by the same rules as for broadcasting."
   ]
  },
  {
   "cell_type": "markdown",
   "metadata": {
    "slideshow": {
     "slide_type": "slide"
    }
   },
   "source": [
    "Fancy indexing can also be combined normal indexing and slicing"
   ]
  },
  {
   "cell_type": "code",
   "execution_count": 146,
   "metadata": {
    "slideshow": {
     "slide_type": "-"
    }
   },
   "outputs": [
    {
     "name": "stdout",
     "output_type": "stream",
     "text": [
      "Array:\n",
      " [[ 1  2  3  4]\n",
      " [ 5  6  7  8]\n",
      " [ 9 10 11 12]]\n",
      "Column indices:\n",
      "  [0 3]\n"
     ]
    },
    {
     "data": {
      "text/plain": [
       "array([5, 8])"
      ]
     },
     "execution_count": 146,
     "metadata": {},
     "output_type": "execute_result"
    }
   ],
   "source": [
    "print(\"Array:\\n\", a)\n",
    "print(\"Column indices:\\n \", cind)\n",
    "a[1, cind]"
   ]
  },
  {
   "cell_type": "code",
   "execution_count": 147,
   "metadata": {
    "slideshow": {
     "slide_type": "-"
    }
   },
   "outputs": [
    {
     "name": "stdout",
     "output_type": "stream",
     "text": [
      "Row indices:\n",
      " [0 2]\n"
     ]
    },
    {
     "data": {
      "text/plain": [
       "array([[ 1,  2,  3,  4],\n",
       "       [ 9, 10, 11, 12]])"
      ]
     },
     "execution_count": 147,
     "metadata": {},
     "output_type": "execute_result"
    }
   ],
   "source": [
    "print(\"Row indices:\\n\", rind)\n",
    "a[rind, :]"
   ]
  },
  {
   "cell_type": "markdown",
   "metadata": {
    "slideshow": {
     "slide_type": "slide"
    }
   },
   "source": [
    "![](https://xarray.pydata.org/en/stable/_static/dataset-diagram-logo.png)\n",
    "\n",
    "# xarray\n",
    "\n",
    "- combines and extends the core strength of numpy and pandas\n",
    "- enables use of dimension names instead of axis labels for selection and operations\n",
    "- enables writing of less and more readable code"
   ]
  },
  {
   "cell_type": "markdown",
   "metadata": {
    "slideshow": {
     "slide_type": "slide"
    }
   },
   "source": [
    "### Datastructures\n",
    "\n",
    "- `DataArray` is like a `pandas.Series` but for N dimensions\n",
    "- `Dataset` is a container of any number of `DataArray`s which share dimensions and compares to a `pandas.DataFrame` but for N dimensions"
   ]
  },
  {
   "cell_type": "markdown",
   "metadata": {
    "slideshow": {
     "slide_type": "slide"
    }
   },
   "source": [
    "#### DataArray"
   ]
  },
  {
   "cell_type": "code",
   "execution_count": 285,
   "metadata": {
    "slideshow": {
     "slide_type": "-"
    }
   },
   "outputs": [],
   "source": [
    "import pandas as pd\n",
    "import xarray as xr\n",
    "\n",
    "data = np.random.rand(4, 3)\n",
    "\n",
    "locs = [\"Marburg\", \"Giessen\", \"Frankfurt\"]\n",
    "\n",
    "times = pd.date_range(\"2018-12-01\", periods=4, freq=\"M\")"
   ]
  },
  {
   "cell_type": "code",
   "execution_count": 287,
   "metadata": {
    "slideshow": {
     "slide_type": "-"
    }
   },
   "outputs": [
    {
     "data": {
      "text/plain": [
       "<xarray.DataArray (time: 4, cities: 3)>\n",
       "array([[0.820618, 0.83036 , 0.926957],\n",
       "       [0.15065 , 0.483171, 0.86758 ],\n",
       "       [0.228138, 0.159374, 0.071591],\n",
       "       [0.29914 , 0.083829, 0.521104]])\n",
       "Coordinates:\n",
       "  * time     (time) datetime64[ns] 2018-12-31 2019-01-31 2019-02-28 2019-03-31\n",
       "  * cities   (cities) <U9 'Marburg' 'Giessen' 'Frankfurt'"
      ]
     },
     "execution_count": 287,
     "metadata": {},
     "output_type": "execute_result"
    }
   ],
   "source": [
    "city_temp = xr.DataArray(data, coords=[times, locs], dims=[\"time\", \"cities\"])\n",
    "\n",
    "city_temp"
   ]
  },
  {
   "cell_type": "markdown",
   "metadata": {
    "slideshow": {
     "slide_type": "slide"
    }
   },
   "source": [
    "#### Attributes\n",
    "\n",
    "Attributes can be used for informational purposes. Xarray does not interpret them in any way and they are only propagated in calculations when it is unambigous."
   ]
  },
  {
   "cell_type": "code",
   "execution_count": 288,
   "metadata": {
    "slideshow": {
     "slide_type": "-"
    }
   },
   "outputs": [
    {
     "data": {
      "text/plain": [
       "<xarray.DataArray 'city_temperatures' (time: 4, cities: 3)>\n",
       "array([[0.820618, 0.83036 , 0.926957],\n",
       "       [0.15065 , 0.483171, 0.86758 ],\n",
       "       [0.228138, 0.159374, 0.071591],\n",
       "       [0.29914 , 0.083829, 0.521104]])\n",
       "Coordinates:\n",
       "  * time     (time) datetime64[ns] 2018-12-31 2019-01-31 2019-02-28 2019-03-31\n",
       "  * cities   (cities) <U9 'Marburg' 'Giessen' 'Frankfurt'\n",
       "Attributes:\n",
       "    Description:  Monthly temperature values for the cities of Marburg, Giess...\n",
       "    units:        Degrees Celsius"
      ]
     },
     "execution_count": 288,
     "metadata": {},
     "output_type": "execute_result"
    }
   ],
   "source": [
    "city_temp.name = \"city_temperatures\"\n",
    "city_temp.attrs[\"Description\"] =  \"Monthly temperature values for the cities of Marburg, Giessen and Frankfurt.\"\n",
    "city_temp.attrs[\"units\"] = \"Degrees Celsius\"\n",
    "city_temp"
   ]
  },
  {
   "cell_type": "markdown",
   "metadata": {
    "slideshow": {
     "slide_type": "slide"
    }
   },
   "source": [
    "### Dataset\n",
    "\n",
    "A `xr.Dataset` can be created by supplying dictionaries for the parameters `data_vars`, `coords` and `attrs`. It is always good to provide some descriptive attributes even though the parameter `attrs` is optional.\n",
    "\n",
    "The `data_vars` dictionary keys are the names of the variables while the values are either:\n",
    "- `DataArray`s\n",
    "- pandas objects, which will be converted to `DataArray`s\n",
    "- a tuple of the form (dim, data) where dim is a list of dimension names and data a `np.array` (see [documentation](https://xarray.pydata.org/en/stable/data-structures.html#creating-a-dataset) for more details)"
   ]
  },
  {
   "cell_type": "code",
   "execution_count": 289,
   "metadata": {
    "slideshow": {
     "slide_type": "slide"
    }
   },
   "outputs": [],
   "source": [
    "data = np.random.rand(6, 3)\n",
    "\n",
    "times = pd.date_range(\"2019-06-01\", periods=6, freq=\"M\")\n",
    "\n",
    "precip_attrs = {\"Description\": \"Precipitation for the cities of Marburg, Giessen and Frankfurt\",\n",
    "                \"units\": \"mm\"}\n",
    "\n",
    "city_precip = xr.DataArray(data, coords=[times, locs], dims=[\"time\", \"cities\"], attrs=precip_attrs, name=\"city_precipitation\")"
   ]
  },
  {
   "cell_type": "markdown",
   "metadata": {
    "slideshow": {
     "slide_type": "slide"
    }
   },
   "source": [
    "When we create a `Dataset` from `DataArrays` we can also omit the `coords` parameter as long as all of them share the same dimensions."
   ]
  },
  {
   "cell_type": "code",
   "execution_count": 290,
   "metadata": {
    "slideshow": {
     "slide_type": "-"
    }
   },
   "outputs": [
    {
     "data": {
      "text/plain": [
       "<xarray.Dataset>\n",
       "Dimensions:        (cities: 3, time: 10)\n",
       "Coordinates:\n",
       "  * time           (time) datetime64[ns] 2018-12-31 2019-01-31 ... 2019-11-30\n",
       "  * cities         (cities) <U9 'Marburg' 'Giessen' 'Frankfurt'\n",
       "Data variables:\n",
       "    Temperature    (time, cities) float64 0.8206 0.8304 0.927 ... nan nan nan\n",
       "    Precipitation  (time, cities) float64 nan nan nan ... 0.4795 0.8928 0.7285"
      ]
     },
     "execution_count": 290,
     "metadata": {},
     "output_type": "execute_result"
    }
   ],
   "source": [
    "city_ds = xr.Dataset({\"Temperature\": city_temp, \"Precipitation\": city_precip})\n",
    "city_ds"
   ]
  },
  {
   "cell_type": "markdown",
   "metadata": {
    "slideshow": {
     "slide_type": "slide"
    }
   },
   "source": [
    "`Datasets` can also have descriptive attributes"
   ]
  },
  {
   "cell_type": "code",
   "execution_count": 291,
   "metadata": {
    "slideshow": {
     "slide_type": "-"
    }
   },
   "outputs": [
    {
     "data": {
      "text/plain": [
       "<xarray.Dataset>\n",
       "Dimensions:        (cities: 3, time: 10)\n",
       "Coordinates:\n",
       "  * time           (time) datetime64[ns] 2018-12-31 2019-01-31 ... 2019-11-30\n",
       "  * cities         (cities) <U9 'Marburg' 'Giessen' 'Frankfurt'\n",
       "Data variables:\n",
       "    Temperature    (time, cities) float64 0.8206 0.8304 0.927 ... nan nan nan\n",
       "    Precipitation  (time, cities) float64 nan nan nan ... 0.4795 0.8928 0.7285\n",
       "Attributes:\n",
       "    Description:  Measurements of Temperature and Precipitation"
      ]
     },
     "execution_count": 291,
     "metadata": {},
     "output_type": "execute_result"
    }
   ],
   "source": [
    "city_ds.attrs[\"Description\"] = \"Measurements of Temperature and Precipitation\"\n",
    "city_ds"
   ]
  },
  {
   "cell_type": "markdown",
   "metadata": {
    "slideshow": {
     "slide_type": "slide"
    }
   },
   "source": [
    "When we access one of the variables we see that they can have separate attributes describing only this specific variable."
   ]
  },
  {
   "cell_type": "code",
   "execution_count": 292,
   "metadata": {
    "slideshow": {
     "slide_type": "-"
    }
   },
   "outputs": [
    {
     "data": {
      "text/plain": [
       "<xarray.DataArray 'Temperature' (time: 10, cities: 3)>\n",
       "array([[0.820618, 0.83036 , 0.926957],\n",
       "       [0.15065 , 0.483171, 0.86758 ],\n",
       "       [0.228138, 0.159374, 0.071591],\n",
       "       [0.29914 , 0.083829, 0.521104],\n",
       "       [     nan,      nan,      nan],\n",
       "       [     nan,      nan,      nan],\n",
       "       [     nan,      nan,      nan],\n",
       "       [     nan,      nan,      nan],\n",
       "       [     nan,      nan,      nan],\n",
       "       [     nan,      nan,      nan]])\n",
       "Coordinates:\n",
       "  * time     (time) datetime64[ns] 2018-12-31 2019-01-31 ... 2019-11-30\n",
       "  * cities   (cities) <U9 'Marburg' 'Giessen' 'Frankfurt'\n",
       "Attributes:\n",
       "    Description:  Monthly temperature values for the cities of Marburg, Giess...\n",
       "    units:        Degrees Celsius"
      ]
     },
     "execution_count": 292,
     "metadata": {},
     "output_type": "execute_result"
    }
   ],
   "source": [
    "city_ds[\"Temperature\"]"
   ]
  },
  {
   "cell_type": "markdown",
   "metadata": {
    "slideshow": {
     "slide_type": "slide"
    }
   },
   "source": [
    "Xarray has some conveniant functions to create `DataArray`s and `Dataset`s from pandas series or dataframes respectively."
   ]
  },
  {
   "cell_type": "code",
   "execution_count": 53,
   "metadata": {
    "slideshow": {
     "slide_type": "-"
    }
   },
   "outputs": [
    {
     "data": {
      "text/plain": [
       "array([ 9.3,  9.2, 10.6, ..., -4.9, -7.5, -8. ])"
      ]
     },
     "execution_count": 53,
     "metadata": {},
     "output_type": "execute_result"
    }
   ],
   "source": [
    "\n",
    "import pandas as pd\n",
    "garmisch  = pd.read_csv(\"../data/produkt_klima_tag_20171010_20190412_01550.txt\", parse_dates=[\"MESS_DATUM\"], sep=\";\")\n",
    "zugspitze = pd.read_csv(\"../data/produkt_klima_tag_20171010_20190412_05792.txt\", parse_dates=[\"MESS_DATUM\"], sep=\";\")\n",
    "\n",
    "klima_tag = pd.concat([garmisch, zugspitze])\n",
    "klima_tag = klima_tag.set_index([\"STATIONS_ID\", \"MESS_DATUM\"])\n",
    "klima_tag.head()\n",
    "\n",
    "klima_tag[\" TMK\"].values"
   ]
  },
  {
   "cell_type": "markdown",
   "metadata": {
    "slideshow": {
     "slide_type": "slide"
    }
   },
   "source": [
    "After setting the index the conversion of any of the columns (series) of the pandas dataframe  to a `xr.DataArray` is easy"
   ]
  },
  {
   "cell_type": "code",
   "execution_count": 294,
   "metadata": {
    "slideshow": {
     "slide_type": "-"
    }
   },
   "outputs": [
    {
     "data": {
      "text/plain": [
       "<xarray.DataArray ' TMK' (STATIONS_ID: 2, MESS_DATUM: 550)>\n",
       "array([[ 9.3,  9.2, 10.6, ...,  7.6,  5.7,  4.4],\n",
       "       [-4.5, -1.3, -1.2, ..., -4.9, -7.5, -8. ]])\n",
       "Coordinates:\n",
       "  * STATIONS_ID  (STATIONS_ID) int64 1550 5792\n",
       "  * MESS_DATUM   (MESS_DATUM) datetime64[ns] 2017-10-10 ... 2019-04-12"
      ]
     },
     "execution_count": 294,
     "metadata": {},
     "output_type": "execute_result"
    }
   ],
   "source": [
    "kt_da = xr.DataArray.from_series(klima_tag[\" TMK\"])\n",
    "kt_da"
   ]
  },
  {
   "cell_type": "markdown",
   "metadata": {
    "slideshow": {
     "slide_type": "slide"
    }
   },
   "source": [
    "If we want to use all variables (columns) in the dataframe we can directly convert it to a `xr.Dataset` without the detour of converting every column to a `xr.DataArray` like above."
   ]
  },
  {
   "cell_type": "code",
   "execution_count": 295,
   "metadata": {
    "slideshow": {
     "slide_type": "-"
    }
   },
   "outputs": [
    {
     "data": {
      "text/plain": [
       "<xarray.Dataset>\n",
       "Dimensions:      (MESS_DATUM: 550, STATIONS_ID: 2)\n",
       "Coordinates:\n",
       "  * STATIONS_ID  (STATIONS_ID) int64 1550 5792\n",
       "  * MESS_DATUM   (MESS_DATUM) datetime64[ns] 2017-10-10 ... 2019-04-12\n",
       "Data variables:\n",
       "    QN_3         (STATIONS_ID, MESS_DATUM) int64 10 10 10 10 10 10 ... 1 1 1 1 1\n",
       "      FX         (STATIONS_ID, MESS_DATUM) float64 5.6 -999.0 -999.0 ... 8.7 9.6\n",
       "      FM         (STATIONS_ID, MESS_DATUM) float64 1.0 -999.0 -999.0 ... 3.1 2.5\n",
       "    QN_4         (STATIONS_ID, MESS_DATUM) int64 3 3 3 3 3 3 3 ... 1 1 1 1 1 1 1\n",
       "     RSK         (STATIONS_ID, MESS_DATUM) float64 0.0 0.0 0.0 ... 10.1 1.6 0.0\n",
       "    RSKF         (STATIONS_ID, MESS_DATUM) int64 6 0 0 0 0 0 0 ... 0 7 7 7 7 7 7\n",
       "     SDK         (STATIONS_ID, MESS_DATUM) float64 2.3 9.533 9.483 ... 0.0 8.833\n",
       "    SHK_TAG      (STATIONS_ID, MESS_DATUM) int64 0 0 0 0 0 ... 430 435 430 430\n",
       "      NM         (STATIONS_ID, MESS_DATUM) float64 7.5 2.6 1.9 ... 7.9 8.0 6.3\n",
       "     VPM         (STATIONS_ID, MESS_DATUM) float64 9.4 9.1 9.0 ... 3.9 3.2 2.1\n",
       "      PM         (STATIONS_ID, MESS_DATUM) float64 937.4 938.4 ... 702.5 702.9\n",
       "     TMK         (STATIONS_ID, MESS_DATUM) float64 9.3 9.2 10.6 ... -7.5 -8.0\n",
       "     UPM         (STATIONS_ID, MESS_DATUM) float64 82.5 81.04 ... 91.46 66.38\n",
       "     TXK         (STATIONS_ID, MESS_DATUM) float64 15.7 18.5 22.2 ... -6.0 -2.7\n",
       "     TNK         (STATIONS_ID, MESS_DATUM) float64 4.6 2.9 3.1 ... -10.7 -11.8\n",
       "     TGK         (STATIONS_ID, MESS_DATUM) float64 3.0 1.4 1.1 ... -999.0 -999.0\n",
       "    eor          (STATIONS_ID, MESS_DATUM) object 'eor' 'eor' ... 'eor' 'eor'"
      ]
     },
     "execution_count": 295,
     "metadata": {},
     "output_type": "execute_result"
    }
   ],
   "source": [
    "kt_ds = xr.Dataset.from_dataframe(klima_tag)\n",
    "kt_ds"
   ]
  },
  {
   "cell_type": "markdown",
   "metadata": {
    "slideshow": {
     "slide_type": "slide"
    }
   },
   "source": [
    "#### Properties of Datasets and DataArrays\n",
    "\n",
    "Any of the properties can be accessed seperately and values and attrs can be modified in place\n",
    "For `DataArray`\n",
    "- values\n",
    "- coords\n",
    "- dims\n",
    "- attrs\n",
    "- name\n",
    "\n",
    "For `Dataset`\n",
    "- data_vars\n",
    "- coords\n",
    "- attrs\n"
   ]
  },
  {
   "cell_type": "code",
   "execution_count": 296,
   "metadata": {
    "slideshow": {
     "slide_type": "-"
    }
   },
   "outputs": [
    {
     "data": {
      "text/plain": [
       "array([[ 9.3,  9.2, 10.6, ...,  7.6,  5.7,  4.4],\n",
       "       [-4.5, -1.3, -1.2, ..., -4.9, -7.5, -8. ]])"
      ]
     },
     "execution_count": 296,
     "metadata": {},
     "output_type": "execute_result"
    }
   ],
   "source": [
    "kt_da.values"
   ]
  },
  {
   "cell_type": "markdown",
   "metadata": {
    "slideshow": {
     "slide_type": "slide"
    },
    "tags": [
     "task"
    ]
   },
   "source": [
    "**Task**\n",
    "\n",
    "1. You should already have the two csv's used above on your computer. If not download them again.\n",
    "2. Read them and create a Dataset from them like shown above.\n",
    "3. Look at the properties. Give them some descriptive attributes."
   ]
  },
  {
   "cell_type": "markdown",
   "metadata": {
    "slideshow": {
     "slide_type": "slide"
    }
   },
   "source": [
    "### Indexing and selecting data\n",
    "\n",
    "Data selection in xarray is very flexible.\n",
    "\n",
    "For `DataArray`s you can select by positional index like numpy:"
   ]
  },
  {
   "cell_type": "code",
   "execution_count": 297,
   "metadata": {
    "slideshow": {
     "slide_type": "-"
    }
   },
   "outputs": [
    {
     "data": {
      "text/plain": [
       "<xarray.DataArray 'city_temperatures' (time: 4)>\n",
       "array([0.926957, 0.86758 , 0.071591, 0.521104])\n",
       "Coordinates:\n",
       "  * time     (time) datetime64[ns] 2018-12-31 2019-01-31 2019-02-28 2019-03-31\n",
       "    cities   <U9 'Frankfurt'\n",
       "Attributes:\n",
       "    Description:  Monthly temperature values for the cities of Marburg, Giess...\n",
       "    units:        Degrees Celsius"
      ]
     },
     "execution_count": 297,
     "metadata": {},
     "output_type": "execute_result"
    }
   ],
   "source": [
    "city_temp[:, 2]"
   ]
  },
  {
   "cell_type": "markdown",
   "metadata": {
    "slideshow": {
     "slide_type": "-"
    }
   },
   "source": [
    "by position with label like in pandas:"
   ]
  },
  {
   "cell_type": "code",
   "execution_count": 298,
   "metadata": {
    "slideshow": {
     "slide_type": "-"
    }
   },
   "outputs": [
    {
     "data": {
      "text/plain": [
       "<xarray.DataArray 'city_temperatures' (time: 4)>\n",
       "array([0.820618, 0.15065 , 0.228138, 0.29914 ])\n",
       "Coordinates:\n",
       "  * time     (time) datetime64[ns] 2018-12-31 2019-01-31 2019-02-28 2019-03-31\n",
       "    cities   <U9 'Marburg'\n",
       "Attributes:\n",
       "    Description:  Monthly temperature values for the cities of Marburg, Giess...\n",
       "    units:        Degrees Celsius"
      ]
     },
     "execution_count": 298,
     "metadata": {},
     "output_type": "execute_result"
    }
   ],
   "source": [
    "city_temp.loc[:, \"Marburg\"]"
   ]
  },
  {
   "cell_type": "markdown",
   "metadata": {
    "slideshow": {
     "slide_type": "slide"
    }
   },
   "source": [
    "by dimension name with index:"
   ]
  },
  {
   "cell_type": "code",
   "execution_count": 299,
   "metadata": {
    "slideshow": {
     "slide_type": "-"
    }
   },
   "outputs": [
    {
     "data": {
      "text/plain": [
       "<xarray.DataArray 'city_temperatures' (time: 4)>\n",
       "array([0.83036 , 0.483171, 0.159374, 0.083829])\n",
       "Coordinates:\n",
       "  * time     (time) datetime64[ns] 2018-12-31 2019-01-31 2019-02-28 2019-03-31\n",
       "    cities   <U9 'Giessen'\n",
       "Attributes:\n",
       "    Description:  Monthly temperature values for the cities of Marburg, Giess...\n",
       "    units:        Degrees Celsius"
      ]
     },
     "execution_count": 299,
     "metadata": {},
     "output_type": "execute_result"
    }
   ],
   "source": [
    "city_temp.isel(cities=1)"
   ]
  },
  {
   "cell_type": "markdown",
   "metadata": {
    "slideshow": {
     "slide_type": "-"
    }
   },
   "source": [
    "or dimension name with label:"
   ]
  },
  {
   "cell_type": "code",
   "execution_count": 300,
   "metadata": {
    "slideshow": {
     "slide_type": "-"
    }
   },
   "outputs": [
    {
     "data": {
      "text/plain": [
       "<xarray.DataArray 'city_temperatures' (time: 4)>\n",
       "array([0.820618, 0.15065 , 0.228138, 0.29914 ])\n",
       "Coordinates:\n",
       "  * time     (time) datetime64[ns] 2018-12-31 2019-01-31 2019-02-28 2019-03-31\n",
       "    cities   <U9 'Marburg'\n",
       "Attributes:\n",
       "    Description:  Monthly temperature values for the cities of Marburg, Giess...\n",
       "    units:        Degrees Celsius"
      ]
     },
     "execution_count": 300,
     "metadata": {},
     "output_type": "execute_result"
    }
   ],
   "source": [
    "city_temp.sel(cities=\"Marburg\")"
   ]
  },
  {
   "cell_type": "markdown",
   "metadata": {
    "slideshow": {
     "slide_type": "slide"
    }
   },
   "source": [
    "The last two selection methods work for `Datasets` too."
   ]
  },
  {
   "cell_type": "code",
   "execution_count": 301,
   "metadata": {
    "slideshow": {
     "slide_type": "-"
    }
   },
   "outputs": [
    {
     "data": {
      "text/plain": [
       "<xarray.Dataset>\n",
       "Dimensions:        (time: 10)\n",
       "Coordinates:\n",
       "  * time           (time) datetime64[ns] 2018-12-31 2019-01-31 ... 2019-11-30\n",
       "    cities         <U9 'Marburg'\n",
       "Data variables:\n",
       "    Temperature    (time) float64 0.8206 0.1507 0.2281 0.2991 ... nan nan nan\n",
       "    Precipitation  (time) float64 nan nan nan nan ... 0.2114 0.2962 0.808 0.4795\n",
       "Attributes:\n",
       "    Description:  Measurements of Temperature and Precipitation"
      ]
     },
     "execution_count": 301,
     "metadata": {},
     "output_type": "execute_result"
    }
   ],
   "source": [
    "city_ds.sel(cities=\"Marburg\")"
   ]
  },
  {
   "cell_type": "markdown",
   "metadata": {
    "slideshow": {
     "slide_type": "slide"
    }
   },
   "source": [
    "The `sel` selection methods accept an additional parameter `method` which you can use to do inexact nearest-neighbour lookups."
   ]
  },
  {
   "cell_type": "code",
   "execution_count": 302,
   "metadata": {
    "slideshow": {
     "slide_type": "-"
    }
   },
   "outputs": [
    {
     "data": {
      "text/plain": [
       "<xarray.DataArray 'time' (time: 10)>\n",
       "array(['2018-12-31T00:00:00.000000000', '2019-01-31T00:00:00.000000000',\n",
       "       '2019-02-28T00:00:00.000000000', '2019-03-31T00:00:00.000000000',\n",
       "       '2019-06-30T00:00:00.000000000', '2019-07-31T00:00:00.000000000',\n",
       "       '2019-08-31T00:00:00.000000000', '2019-09-30T00:00:00.000000000',\n",
       "       '2019-10-31T00:00:00.000000000', '2019-11-30T00:00:00.000000000'],\n",
       "      dtype='datetime64[ns]')\n",
       "Coordinates:\n",
       "  * time     (time) datetime64[ns] 2018-12-31 2019-01-31 ... 2019-11-30"
      ]
     },
     "execution_count": 302,
     "metadata": {},
     "output_type": "execute_result"
    }
   ],
   "source": [
    "city_ds[\"time\"]"
   ]
  },
  {
   "cell_type": "code",
   "execution_count": 303,
   "metadata": {
    "slideshow": {
     "slide_type": "fragment"
    }
   },
   "outputs": [
    {
     "data": {
      "text/plain": [
       "<xarray.Dataset>\n",
       "Dimensions:        (cities: 3)\n",
       "Coordinates:\n",
       "    time           datetime64[ns] 2019-03-31\n",
       "  * cities         (cities) <U9 'Marburg' 'Giessen' 'Frankfurt'\n",
       "Data variables:\n",
       "    Temperature    (cities) float64 0.2991 0.08383 0.5211\n",
       "    Precipitation  (cities) float64 nan nan nan\n",
       "Attributes:\n",
       "    Description:  Measurements of Temperature and Precipitation"
      ]
     },
     "execution_count": 303,
     "metadata": {},
     "output_type": "execute_result"
    }
   ],
   "source": [
    "city_ds.sel(time=\"2019-05-15\", method=\"nearest\")"
   ]
  },
  {
   "cell_type": "markdown",
   "metadata": {
    "slideshow": {
     "slide_type": "slide"
    }
   },
   "source": [
    "In addition to these basic selection methods there are more advanced methods available for example masking or vectorized indexing with `DataArrays` which you can read about in the [documentation](https://xarray.pydata.org/en/stable/indexing.html#)"
   ]
  },
  {
   "cell_type": "markdown",
   "metadata": {
    "slideshow": {
     "slide_type": "slide"
    },
    "tags": [
     "task"
    ]
   },
   "source": [
    "**Task**\n",
    "\n",
    "1. Select the daily maximum Temperature (TNX) and daily minimum temperature (TNK) from the dataset.\n",
    "2. Select only one month of data."
   ]
  },
  {
   "cell_type": "markdown",
   "metadata": {
    "slideshow": {
     "slide_type": "slide"
    }
   },
   "source": [
    "### Computations\n",
    "\n",
    "All numpy ufuncs are supported for calculations on `DataArray`s."
   ]
  },
  {
   "cell_type": "code",
   "execution_count": 304,
   "metadata": {
    "slideshow": {
     "slide_type": "-"
    }
   },
   "outputs": [
    {
     "data": {
      "text/plain": [
       "<xarray.DataArray 'city_temperatures' (time: 4, cities: 3)>\n",
       "array([[4.103089, 4.151798, 4.634783],\n",
       "       [0.753252, 2.415853, 4.337899],\n",
       "       [1.140689, 0.796868, 0.357957],\n",
       "       [1.495699, 0.419143, 2.605518]])\n",
       "Coordinates:\n",
       "  * time     (time) datetime64[ns] 2018-12-31 2019-01-31 2019-02-28 2019-03-31\n",
       "  * cities   (cities) <U9 'Marburg' 'Giessen' 'Frankfurt'"
      ]
     },
     "execution_count": 304,
     "metadata": {},
     "output_type": "execute_result"
    }
   ],
   "source": [
    "city_temp * 5"
   ]
  },
  {
   "cell_type": "code",
   "execution_count": 305,
   "metadata": {
    "slideshow": {
     "slide_type": "-"
    }
   },
   "outputs": [
    {
     "data": {
      "text/plain": [
       "<xarray.DataArray 'city_precipitation' (time: 6, cities: 3)>\n",
       "array([[2.243584, 1.550343, 1.241306],\n",
       "       [1.857082, 2.043417, 2.123389],\n",
       "       [1.235452, 1.628662, 1.124934],\n",
       "       [1.344738, 2.175229, 1.45625 ],\n",
       "       [2.243358, 1.820405, 1.373336],\n",
       "       [1.615321, 2.441847, 2.072027]])\n",
       "Coordinates:\n",
       "  * time     (time) datetime64[ns] 2019-06-30 2019-07-31 ... 2019-11-30\n",
       "  * cities   (cities) <U9 'Marburg' 'Giessen' 'Frankfurt'"
      ]
     },
     "execution_count": 305,
     "metadata": {},
     "output_type": "execute_result"
    }
   ],
   "source": [
    "np.exp(city_precip)"
   ]
  },
  {
   "cell_type": "markdown",
   "metadata": {
    "slideshow": {
     "slide_type": "slide"
    }
   },
   "source": [
    "Arithmetic operations on `Dataset`s automatically loop over all variables"
   ]
  },
  {
   "cell_type": "code",
   "execution_count": 306,
   "metadata": {
    "slideshow": {
     "slide_type": "-"
    }
   },
   "outputs": [
    {
     "data": {
      "text/plain": [
       "<xarray.Dataset>\n",
       "Dimensions:        (cities: 3, time: 10)\n",
       "Coordinates:\n",
       "  * cities         (cities) <U9 'Marburg' 'Giessen' 'Frankfurt'\n",
       "  * time           (time) datetime64[ns] 2018-12-31 2019-01-31 ... 2019-11-30\n",
       "Data variables:\n",
       "    Temperature    (time, cities) bool True True True ... False False False\n",
       "    Precipitation  (time, cities) bool False False False ... False True True\n",
       "Attributes:\n",
       "    Description:  Measurements of Temperature and Precipitation"
      ]
     },
     "execution_count": 306,
     "metadata": {},
     "output_type": "execute_result"
    }
   ],
   "source": [
    "city_ds > 0.5"
   ]
  },
  {
   "cell_type": "markdown",
   "metadata": {
    "slideshow": {
     "slide_type": "slide"
    }
   },
   "source": [
    "Similar to numpy you can do aggregations but instead of supplying an index for `axis` you can use dimension names directly."
   ]
  },
  {
   "cell_type": "code",
   "execution_count": 307,
   "metadata": {
    "slideshow": {
     "slide_type": "-"
    }
   },
   "outputs": [
    {
     "data": {
      "text/plain": [
       "<xarray.Dataset>\n",
       "Dimensions:        (cities: 3)\n",
       "Coordinates:\n",
       "  * cities         (cities) <U9 'Marburg' 'Giessen' 'Frankfurt'\n",
       "Data variables:\n",
       "    Temperature    (cities) float64 0.3746 0.3892 0.5968\n",
       "    Precipitation  (cities) float64 0.537 0.6516 0.4181"
      ]
     },
     "execution_count": 307,
     "metadata": {},
     "output_type": "execute_result"
    }
   ],
   "source": [
    "city_ds.mean(\"time\")"
   ]
  },
  {
   "cell_type": "markdown",
   "metadata": {
    "slideshow": {
     "slide_type": "slide"
    }
   },
   "source": [
    "### Timeseries\n",
    "\n",
    "As seen above xarray supports indexing with datetimes. Moreover similar to pandas using the `.dt` datetime accessor datetime components can easily be accessed."
   ]
  },
  {
   "cell_type": "code",
   "execution_count": 308,
   "metadata": {
    "slideshow": {
     "slide_type": "-"
    }
   },
   "outputs": [
    {
     "data": {
      "text/plain": [
       "<xarray.DataArray 'month' (time: 10)>\n",
       "array([12,  1,  2,  3,  6,  7,  8,  9, 10, 11])\n",
       "Coordinates:\n",
       "  * time     (time) datetime64[ns] 2018-12-31 2019-01-31 ... 2019-11-30"
      ]
     },
     "execution_count": 308,
     "metadata": {},
     "output_type": "execute_result"
    }
   ],
   "source": [
    "city_ds.time.dt.month"
   ]
  },
  {
   "cell_type": "markdown",
   "metadata": {
    "slideshow": {
     "slide_type": "fragment"
    }
   },
   "source": [
    "Additionally these datetime components can also be used as \"virtual coordinates\" (again similar to pandas with the addition that xarray also implements \"seasons\")."
   ]
  },
  {
   "cell_type": "code",
   "execution_count": 309,
   "metadata": {
    "slideshow": {
     "slide_type": "-"
    }
   },
   "outputs": [
    {
     "data": {
      "text/plain": [
       "<xarray.DataArray 'month' (time: 10)>\n",
       "array([12,  1,  2,  3,  6,  7,  8,  9, 10, 11])\n",
       "Coordinates:\n",
       "  * time     (time) datetime64[ns] 2018-12-31 2019-01-31 ... 2019-11-30"
      ]
     },
     "execution_count": 309,
     "metadata": {},
     "output_type": "execute_result"
    }
   ],
   "source": [
    "city_ds[\"time.month\"]"
   ]
  },
  {
   "cell_type": "code",
   "execution_count": 310,
   "metadata": {
    "slideshow": {
     "slide_type": "-"
    }
   },
   "outputs": [
    {
     "data": {
      "text/plain": [
       "<xarray.DataArray 'season' (time: 10)>\n",
       "array(['DJF', 'DJF', 'DJF', 'MAM', 'JJA', 'JJA', 'JJA', 'SON', 'SON', 'SON'],\n",
       "      dtype='<U3')\n",
       "Coordinates:\n",
       "  * time     (time) datetime64[ns] 2018-12-31 2019-01-31 ... 2019-11-30"
      ]
     },
     "execution_count": 310,
     "metadata": {},
     "output_type": "execute_result"
    }
   ],
   "source": [
    "city_ds[\"time.season\"]"
   ]
  },
  {
   "cell_type": "markdown",
   "metadata": {
    "slideshow": {
     "slide_type": "slide"
    }
   },
   "source": [
    "### GroupBy\n",
    "\n",
    "Aggregation in combination with \"group by\" operations similar to pandas make it easy to do complex analysis. If combined with the above datetime functionality we can do aggregations like the following:"
   ]
  },
  {
   "cell_type": "code",
   "execution_count": 311,
   "metadata": {
    "slideshow": {
     "slide_type": "slide"
    }
   },
   "outputs": [
    {
     "name": "stderr",
     "output_type": "stream",
     "text": [
      "/home/ro/bin/miniconda3/envs/python_kurs/lib/python3.7/site-packages/xarray/core/nanops.py:161: RuntimeWarning: Mean of empty slice\n",
      "  return np.nanmean(a, axis=axis, dtype=dtype)\n"
     ]
    },
    {
     "data": {
      "text/plain": [
       "<xarray.Dataset>\n",
       "Dimensions:        (cities: 3, season: 4)\n",
       "Coordinates:\n",
       "  * cities         (cities) <U9 'Marburg' 'Giessen' 'Frankfurt'\n",
       "  * season         (season) object 'DJF' 'JJA' 'MAM' 'SON'\n",
       "Data variables:\n",
       "    Temperature    (season, cities) float64 0.3998 0.491 0.622 ... nan nan nan\n",
       "    Precipitation  (season, cities) float64 nan nan nan ... 0.5279 0.7563 0.4739"
      ]
     },
     "execution_count": 311,
     "metadata": {},
     "output_type": "execute_result"
    }
   ],
   "source": [
    "city_ds.groupby(\"time.season\").mean(\"time\")"
   ]
  },
  {
   "cell_type": "markdown",
   "metadata": {
    "slideshow": {
     "slide_type": "slide"
    },
    "tags": [
     "task"
    ]
   },
   "source": [
    "**Task**\n",
    "\n",
    "1. Calculate seasonal means for the variables selected in task 2.\n",
    "2. Go to the [xarray](https://xarray.pydata.org/en/stable/index.html) documentation and find out about the plotting functionality. Make a quick plot of the seasonal means."
   ]
  },
  {
   "cell_type": "markdown",
   "metadata": {
    "slideshow": {
     "slide_type": "slide"
    }
   },
   "source": [
    "### Conversion to dataframe\n",
    "\n",
    "In addition to the conversion from xarray also implements function to convert `Dataset`s back to pandas dataframes:"
   ]
  },
  {
   "cell_type": "code",
   "execution_count": 315,
   "metadata": {
    "slideshow": {
     "slide_type": "-"
    }
   },
   "outputs": [
    {
     "data": {
      "text/html": [
       "<div>\n",
       "<style scoped>\n",
       "    .dataframe tbody tr th:only-of-type {\n",
       "        vertical-align: middle;\n",
       "    }\n",
       "\n",
       "    .dataframe tbody tr th {\n",
       "        vertical-align: top;\n",
       "    }\n",
       "\n",
       "    .dataframe thead th {\n",
       "        text-align: right;\n",
       "    }\n",
       "</style>\n",
       "<table border=\"1\" class=\"dataframe\">\n",
       "  <thead>\n",
       "    <tr style=\"text-align: right;\">\n",
       "      <th></th>\n",
       "      <th></th>\n",
       "      <th>Temperature</th>\n",
       "      <th>Precipitation</th>\n",
       "    </tr>\n",
       "    <tr>\n",
       "      <th>cities</th>\n",
       "      <th>time</th>\n",
       "      <th></th>\n",
       "      <th></th>\n",
       "    </tr>\n",
       "  </thead>\n",
       "  <tbody>\n",
       "    <tr>\n",
       "      <th rowspan=\"5\" valign=\"top\">Marburg</th>\n",
       "      <th>2018-12-31</th>\n",
       "      <td>0.820618</td>\n",
       "      <td>NaN</td>\n",
       "    </tr>\n",
       "    <tr>\n",
       "      <th>2019-01-31</th>\n",
       "      <td>0.150650</td>\n",
       "      <td>NaN</td>\n",
       "    </tr>\n",
       "    <tr>\n",
       "      <th>2019-02-28</th>\n",
       "      <td>0.228138</td>\n",
       "      <td>NaN</td>\n",
       "    </tr>\n",
       "    <tr>\n",
       "      <th>2019-03-31</th>\n",
       "      <td>0.299140</td>\n",
       "      <td>NaN</td>\n",
       "    </tr>\n",
       "    <tr>\n",
       "      <th>2019-06-30</th>\n",
       "      <td>NaN</td>\n",
       "      <td>0.808075</td>\n",
       "    </tr>\n",
       "  </tbody>\n",
       "</table>\n",
       "</div>"
      ],
      "text/plain": [
       "                    Temperature  Precipitation\n",
       "cities  time                                  \n",
       "Marburg 2018-12-31     0.820618            NaN\n",
       "        2019-01-31     0.150650            NaN\n",
       "        2019-02-28     0.228138            NaN\n",
       "        2019-03-31     0.299140            NaN\n",
       "        2019-06-30          NaN       0.808075"
      ]
     },
     "execution_count": 315,
     "metadata": {},
     "output_type": "execute_result"
    }
   ],
   "source": [
    "city_ds.to_dataframe().head()"
   ]
  },
  {
   "cell_type": "markdown",
   "metadata": {
    "slideshow": {
     "slide_type": "slide"
    }
   },
   "source": [
    "### Writing data to/reading data from disk\n",
    "\n",
    "xarray supports writing to many different formats for example netcdf."
   ]
  },
  {
   "cell_type": "code",
   "execution_count": 318,
   "metadata": {
    "slideshow": {
     "slide_type": "-"
    }
   },
   "outputs": [],
   "source": [
    "city_ds.to_netcdf(\"output/city_measurements.nc\")"
   ]
  },
  {
   "cell_type": "markdown",
   "metadata": {
    "slideshow": {
     "slide_type": "fragment"
    }
   },
   "source": [
    "Compatible files can be read from disk. Notice that xarray properly encoded the time dimension during writing and decodes them automatically again when reading."
   ]
  },
  {
   "cell_type": "code",
   "execution_count": 319,
   "metadata": {
    "slideshow": {
     "slide_type": "-"
    }
   },
   "outputs": [
    {
     "data": {
      "text/plain": [
       "<xarray.Dataset>\n",
       "Dimensions:        (cities: 3, time: 10)\n",
       "Coordinates:\n",
       "  * time           (time) datetime64[ns] 2018-12-01 2018-12-02 ... 2019-06-06\n",
       "  * cities         (cities) object 'Marburg' 'Giessen' 'Frankfurt'\n",
       "Data variables:\n",
       "    Temperature    (time, cities) float64 ...\n",
       "    Precipitation  (time, cities) float64 ..."
      ]
     },
     "execution_count": 319,
     "metadata": {},
     "output_type": "execute_result"
    }
   ],
   "source": [
    "new_ds = xr.open_dataset(\"output/city_measurements.nc\")\n",
    "new_ds"
   ]
  },
  {
   "cell_type": "markdown",
   "metadata": {
    "slideshow": {
     "slide_type": "slide"
    }
   },
   "source": [
    "### Reading multiple files\n",
    "\n",
    "If you have multiple large files, for example one for every month, like below"
   ]
  },
  {
   "cell_type": "code",
   "execution_count": 322,
   "metadata": {
    "slideshow": {
     "slide_type": "-"
    }
   },
   "outputs": [
    {
     "name": "stdout",
     "output_type": "stream",
     "text": [
      "city_measurements_201812.nc\n",
      "city_measurements_201901.nc\n",
      "city_measurements_201902.nc\n",
      "city_measurements_201903.nc\n",
      "city_measurements_201906.nc\n",
      "city_measurements_201907.nc\n",
      "city_measurements_201908.nc\n",
      "city_measurements_201909.nc\n",
      "city_measurements_201910.nc\n",
      "city_measurements_201911.nc\n"
     ]
    }
   ],
   "source": [
    "%%bash\n",
    "ls output/multiple"
   ]
  },
  {
   "cell_type": "markdown",
   "metadata": {
    "slideshow": {
     "slide_type": "slide"
    }
   },
   "source": [
    "There is no need to write loops for reading and concatenating the files. xarray encourages the use of the inbuilt function `open_mfdataset`."
   ]
  },
  {
   "cell_type": "code",
   "execution_count": 326,
   "metadata": {
    "slideshow": {
     "slide_type": "-"
    }
   },
   "outputs": [
    {
     "data": {
      "text/plain": [
       "<xarray.Dataset>\n",
       "Dimensions:        (cities: 3, time: 10)\n",
       "Coordinates:\n",
       "  * cities         (cities) object 'Marburg' 'Giessen' 'Frankfurt'\n",
       "  * time           (time) datetime64[ns] 2018-12-31 2019-01-31 ... 2019-11-30\n",
       "Data variables:\n",
       "    Temperature    (time, cities) float64 dask.array<shape=(10, 3), chunksize=(1, 3)>\n",
       "    Precipitation  (time, cities) float64 dask.array<shape=(10, 3), chunksize=(1, 3)>\n",
       "Attributes:\n",
       "    Description:  Measurements of Temperature and Precipitation"
      ]
     },
     "execution_count": 326,
     "metadata": {},
     "output_type": "execute_result"
    }
   ],
   "source": [
    "t = xr.open_mfdataset(\"output/multiple/*.nc\", concat_dim=\"time\")\n",
    "t"
   ]
  },
  {
   "cell_type": "markdown",
   "metadata": {
    "slideshow": {
     "slide_type": "slide"
    }
   },
   "source": [
    "### Dask\n",
    "\n",
    "On the last slide the print out of the dataset looked different from the output when we open a single dataset."
   ]
  },
  {
   "cell_type": "code",
   "execution_count": 327,
   "metadata": {
    "slideshow": {
     "slide_type": "-"
    }
   },
   "outputs": [
    {
     "data": {
      "text/plain": [
       "<xarray.Dataset>\n",
       "Dimensions:        (cities: 3, time: 10)\n",
       "Coordinates:\n",
       "  * time           (time) datetime64[ns] 2018-12-01 2018-12-02 ... 2019-06-06\n",
       "  * cities         (cities) object 'Marburg' 'Giessen' 'Frankfurt'\n",
       "Data variables:\n",
       "    Temperature    (time, cities) float64 ...\n",
       "    Precipitation  (time, cities) float64 ..."
      ]
     },
     "execution_count": 327,
     "metadata": {},
     "output_type": "execute_result"
    }
   ],
   "source": [
    "new_ds"
   ]
  },
  {
   "cell_type": "code",
   "execution_count": 328,
   "metadata": {
    "slideshow": {
     "slide_type": "-"
    }
   },
   "outputs": [
    {
     "data": {
      "text/plain": [
       "<xarray.Dataset>\n",
       "Dimensions:        (cities: 3, time: 10)\n",
       "Coordinates:\n",
       "  * cities         (cities) object 'Marburg' 'Giessen' 'Frankfurt'\n",
       "  * time           (time) datetime64[ns] 2018-12-31 2019-01-31 ... 2019-11-30\n",
       "Data variables:\n",
       "    Temperature    (time, cities) float64 dask.array<shape=(10, 3), chunksize=(1, 3)>\n",
       "    Precipitation  (time, cities) float64 dask.array<shape=(10, 3), chunksize=(1, 3)>\n",
       "Attributes:\n",
       "    Description:  Measurements of Temperature and Precipitation"
      ]
     },
     "execution_count": 328,
     "metadata": {},
     "output_type": "execute_result"
    }
   ],
   "source": [
    "t"
   ]
  },
  {
   "cell_type": "markdown",
   "metadata": {
    "slideshow": {
     "slide_type": "slide"
    }
   },
   "source": [
    "The reason is that the function to load multiple datasets uses **[Dask](https://dask.org/)** in the background.\n",
    "\n",
    "Therefore instead of a normal array you get a Dask array. As they say on the website \"Dask provides advanced parallelism for analytics...\". Meaning by xarray being able to use dask in the background you can easily achieve parallelism and analyze datasets which are to big for memory.\n",
    "\n",
    "Dask uses chunks for that. Each chunk in this case being a separate array which only gets loaded (lazy loading) when it is needed by a computation (lazy evaluation) or requested by the user."
   ]
  },
  {
   "cell_type": "code",
   "execution_count": 329,
   "metadata": {
    "slideshow": {
     "slide_type": "-"
    }
   },
   "outputs": [
    {
     "data": {
      "text/plain": [
       "<xarray.Dataset>\n",
       "Dimensions:        (cities: 3, time: 10)\n",
       "Coordinates:\n",
       "  * cities         (cities) object 'Marburg' 'Giessen' 'Frankfurt'\n",
       "  * time           (time) datetime64[ns] 2018-12-31 2019-01-31 ... 2019-11-30\n",
       "Data variables:\n",
       "    Temperature    (time, cities) float64 dask.array<shape=(10, 3), chunksize=(1, 3)>\n",
       "    Precipitation  (time, cities) float64 dask.array<shape=(10, 3), chunksize=(1, 3)>\n",
       "Attributes:\n",
       "    Description:  Measurements of Temperature and Precipitation"
      ]
     },
     "execution_count": 329,
     "metadata": {},
     "output_type": "execute_result"
    }
   ],
   "source": [
    "t"
   ]
  },
  {
   "cell_type": "markdown",
   "metadata": {
    "slideshow": {
     "slide_type": "slide"
    }
   },
   "source": [
    "Unfortunately we don't have time to cover Dask functionallity but for the basic things we don't need to know much about how Dask works since xarray can use it in the background without us noticing.\n",
    "\n",
    "#### Performance example\n",
    "\n",
    "Without Dask"
   ]
  },
  {
   "cell_type": "code",
   "execution_count": 334,
   "metadata": {
    "slideshow": {
     "slide_type": "-"
    }
   },
   "outputs": [
    {
     "name": "stdout",
     "output_type": "stream",
     "text": [
      "CPU times: user 250 ms, sys: 266 ms, total: 517 ms\n",
      "Wall time: 523 ms\n"
     ]
    }
   ],
   "source": [
    "rs = np.random.RandomState(0)\n",
    "\n",
    "array1 = xr.DataArray(rs.randn(1000, 100000), dims=[\"place\", \"time\"])\n",
    "\n",
    "%time _ = array1.sum(\"time\")"
   ]
  },
  {
   "cell_type": "code",
   "execution_count": 336,
   "metadata": {
    "slideshow": {
     "slide_type": "-"
    }
   },
   "outputs": [
    {
     "name": "stdout",
     "output_type": "stream",
     "text": [
      "<xarray.DataArray (place: 1000, time: 100000)>\n",
      "dask.array<shape=(1000, 100000), dtype=float64, chunksize=(10, 100000)>\n",
      "Dimensions without coordinates: place, time\n",
      "CPU times: user 727 ms, sys: 0 ns, total: 727 ms\n",
      "Wall time: 255 ms\n"
     ]
    }
   ],
   "source": [
    "chunked1 = array1.chunk({\"place\": 10})\n",
    "print(chunked1)\n",
    "\n",
    "%time _ = chunked1.sum(\"time\").compute()"
   ]
  },
  {
   "cell_type": "markdown",
   "metadata": {
    "slideshow": {
     "slide_type": "slide"
    },
    "tags": [
     "task"
    ]
   },
   "source": [
    "## Exercise 5\n",
    "\n",
    "- Complete the fifth assignment and push your results until tuesday 14:00 next week\n",
    "- Assignment link: [https://classroom.github.com/a/OjslpEAv](https://classroom.github.com/a/OjslpEAv)"
   ]
  }
 ],
 "metadata": {
  "celltoolbar": "Slideshow",
  "kernelspec": {
   "display_name": "Python 3",
   "language": "python",
   "name": "python3"
  },
  "language_info": {
   "codemirror_mode": {
    "name": "ipython",
    "version": 3
   },
   "file_extension": ".py",
   "mimetype": "text/x-python",
   "name": "python",
   "nbconvert_exporter": "python",
   "pygments_lexer": "ipython3",
   "version": "3.7.1"
  },
  "toc-showtags": false
 },
 "nbformat": 4,
 "nbformat_minor": 2
}
