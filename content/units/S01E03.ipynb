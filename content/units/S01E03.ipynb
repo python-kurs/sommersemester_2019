{
 "cells": [
  {
   "cell_type": "markdown",
   "metadata": {
    "slideshow": {
     "slide_type": "slide"
    }
   },
   "source": [
    "# Python Basics III"
   ]
  },
  {
   "cell_type": "markdown",
   "metadata": {
    "slideshow": {
     "slide_type": "-"
    }
   },
   "source": [
    "## Functions\n",
    "\n",
    "For small tasks chaining together command one by one in a script can be a viable solution but often the problem at hand consists of multiple steps and/or needs to repeated multiple times for example for different directories. Then the code will get messy pretty fast which, according to rule one of [**The Zen of Python**](https://www.python.org/dev/peps/pep-0020/), is something we want to avoid.\n",
    "\n",
    "To achive this we can use **functions** which:\n",
    "- encapsulate small snippets of code\n",
    "- can be reused any number of times\n",
    "- make our code more *modular*, less repititous and easier to maintain"
   ]
  },
  {
   "cell_type": "code",
   "execution_count": 22,
   "metadata": {
    "slideshow": {
     "slide_type": "slide"
    }
   },
   "outputs": [
    {
     "name": "stdout",
     "output_type": "stream",
     "text": [
      "Happy birthday Tom!\n"
     ]
    }
   ],
   "source": [
    "def happy_birthday():\n",
    "    print(\"Happy birthday Tom!\")\n",
    "    \n",
    "happy_birthday()"
   ]
  },
  {
   "cell_type": "markdown",
   "metadata": {
    "slideshow": {
     "slide_type": "slide"
    }
   },
   "source": [
    "Now this does not save very much code because if we wanted to congratulate Sally we would need to write another quite similar function. To make this function more generic we can use **Parameters**."
   ]
  },
  {
   "cell_type": "code",
   "execution_count": 28,
   "metadata": {
    "slideshow": {
     "slide_type": "-"
    }
   },
   "outputs": [
    {
     "name": "stdout",
     "output_type": "stream",
     "text": [
      "Happy birthday Tom!\n"
     ]
    }
   ],
   "source": [
    "def happy_birthday(name):\n",
    "    print(\"Happy birthday {}!\".format(name))\n",
    "    \n",
    "happy_birthday(name=\"Tom\")"
   ]
  },
  {
   "cell_type": "markdown",
   "metadata": {
    "slideshow": {
     "slide_type": "slide"
    }
   },
   "source": [
    "Functions can have any number of parameters which can also have a default value assigned to them, making them optional in the function call.\n",
    "Additionally a **return** value can be specified."
   ]
  },
  {
   "cell_type": "code",
   "execution_count": 16,
   "metadata": {
    "slideshow": {
     "slide_type": "-"
    }
   },
   "outputs": [
    {
     "name": "stdout",
     "output_type": "stream",
     "text": [
      "4096\n",
      "256\n"
     ]
    }
   ],
   "source": [
    "def x_power_y(x, y=4):\n",
    "    return x**y\n",
    "\n",
    "print(x_power_y(4, 6))\n",
    "print(x_power_y(4))"
   ]
  },
  {
   "cell_type": "markdown",
   "metadata": {
    "slideshow": {
     "slide_type": "slide"
    }
   },
   "source": [
    "### Documentation\n",
    "While this is still an easy example where it's pretty clear what is done in general it is important to document functions (and all other code structures that is). While normal inline comments like you already know can be used there are special \"comments\" called [**docstrings**](https://www.python.org/dev/peps/pep-0257/) which can be inserted as a first statement in a function and are a standardized way of documenting."
   ]
  },
  {
   "cell_type": "code",
   "execution_count": 17,
   "metadata": {
    "slideshow": {
     "slide_type": "slide"
    }
   },
   "outputs": [],
   "source": [
    "def x_power_y(x, y=4):\n",
    "    \"\"\"\n",
    "    Calculate x to the power of y.\n",
    "    \n",
    "    Parameters\n",
    "    ----------\n",
    "    x : number\n",
    "        The base\n",
    "    y : number, optional\n",
    "        The exponent, defaults to 4\n",
    "        \n",
    "    Returns\n",
    "    -------\n",
    "    number\n",
    "    \n",
    "    \"\"\"\n",
    "    return x**y"
   ]
  },
  {
   "cell_type": "markdown",
   "metadata": {
    "slideshow": {
     "slide_type": "slide"
    }
   },
   "source": [
    "The first line should contain a short one line description. Following a blank line a more detailed description of what the function is doing can be given (omitted in this example).\n",
    "\n",
    "This example uses the so called [**numpydoc**](https://numpydoc.readthedocs.io/en/latest/) style which has the advantage to be very readable. Another popular style is the [**google**](https://github.com/google/styleguide/blob/gh-pages/pyguide.md#38-comments-and-docstrings) style. The choice which one to use is up to you, just make sure you stick with that choice."
   ]
  },
  {
   "cell_type": "markdown",
   "metadata": {
    "slideshow": {
     "slide_type": "slide"
    }
   },
   "source": [
    "Documenting can be a lot of work but the advantages pay off quickly:\n",
    "- for your self to remember what a certain piece of code does if you want to use it sometime in the future\n",
    "- other people who use your code understand what is done and which input is needed and what is returned\n",
    "\n",
    "So it is a good habit to document code right when it is written even though sometimes it can be tempting to do it later."
   ]
  },
  {
   "cell_type": "markdown",
   "metadata": {
    "slideshow": {
     "slide_type": "slide"
    }
   },
   "source": [
    "### Built in functions\n",
    "\n",
    "Python has many built in functions which solve common problems and are faster than if we would implement those on our own. Often, the purpose of these functions is clear on first sight. For example `min()`, `max()` or `sum()` are pretty self-explanatory, but there are also some more complex functions."
   ]
  },
  {
   "cell_type": "markdown",
   "metadata": {
    "slideshow": {
     "slide_type": "slide"
    },
    "tags": [
     "task"
    ]
   },
   "source": [
    "**Task:**\n",
    "1. Go to the official [Python documentation](https://docs.python.org/3.4/library/functions.html) or use a search engine of your choice and have a look at the follwoing built in functions:\n",
    "     - set\n",
    "     - enumerate\n",
    "     - map\n",
    "   \n",
    "   Find out what they do and try them out.\n",
    "2. Rewrite the following loop using the `map` function.\n",
    "```Python\n",
    "numbers = [1, 2, 3, 4, 5, 6, 7, 8, 9, 10, 11, 12, 13, 14, 15]\n",
    "for i, num in enumerate(numbers):\n",
    "        numbers[i] = numbers[i]**2 + 5\n",
    "```"
   ]
  },
  {
   "cell_type": "markdown",
   "metadata": {
    "tags": [
     "solution"
    ]
   },
   "source": [
    "**Solution**\n",
    "\n",
    "1. Built in functions\n",
    "    - **set** returns a collection of distinct elements (e.g. removing duplicates from a list)\n",
    "    - **enumerate** returns an object containing tuples of count and values of a list.\n",
    "      For example:\n",
    "      ```python\n",
    "      fruits = [\"Banana\", \"Strawberry\", \"Peach\"]\n",
    "      list(set(fruits))\n",
    "      ```\n",
    "      returns:\n",
    "      ```python\n",
    "      [(0, 'Banana'), (1, 'Strawberry'), (2, 'Peach')]\n",
    "      ```\n",
    "    - **map** applies a function to every element of an iterable (for example a list)\n",
    "\n",
    "2. \n",
    "\n",
    "```python\n",
    "numbers = [1, 2, 3, 4, 5, 6, 7, 8, 9, 10, 11, 12, 13, 14, 15]\n",
    "\n",
    "def quadratic(x):\n",
    "    return x**2 + 5\n",
    "    \n",
    "map(quadratic, numbers)\n",
    "```"
   ]
  },
  {
   "cell_type": "markdown",
   "metadata": {
    "slideshow": {
     "slide_type": "slide"
    }
   },
   "source": [
    "## Variable scope - global vs. local\n",
    "\n",
    "Let's say we define the following:"
   ]
  },
  {
   "cell_type": "code",
   "execution_count": 1,
   "metadata": {
    "slideshow": {
     "slide_type": "-"
    }
   },
   "outputs": [],
   "source": [
    "a = \"Foo\"\n",
    "\n",
    "def very_usefull_function():\n",
    "    print(a)"
   ]
  },
  {
   "cell_type": "markdown",
   "metadata": {
    "slideshow": {
     "slide_type": "fragment"
    }
   },
   "source": [
    "What will happen if we call `very_usefull_function()`?"
   ]
  },
  {
   "cell_type": "code",
   "execution_count": 2,
   "metadata": {
    "slideshow": {
     "slide_type": "-"
    }
   },
   "outputs": [
    {
     "name": "stdout",
     "output_type": "stream",
     "text": [
      "Foo\n"
     ]
    }
   ],
   "source": [
    "very_usefull_function()"
   ]
  },
  {
   "cell_type": "markdown",
   "metadata": {
    "slideshow": {
     "slide_type": "slide"
    }
   },
   "source": [
    "Now consider the following change to the function and think about what will happen when we first call the function and then print out `a` again afterwards."
   ]
  },
  {
   "cell_type": "code",
   "execution_count": 3,
   "metadata": {
    "slideshow": {
     "slide_type": "-"
    }
   },
   "outputs": [],
   "source": [
    "a = \"Foo\"\n",
    "\n",
    "def very_usefull_function():\n",
    "    a = \"Bar\"\n",
    "    print(a)"
   ]
  },
  {
   "cell_type": "code",
   "execution_count": 4,
   "metadata": {
    "slideshow": {
     "slide_type": "fragment"
    }
   },
   "outputs": [
    {
     "name": "stdout",
     "output_type": "stream",
     "text": [
      "Bar\n",
      "Foo\n"
     ]
    }
   ],
   "source": [
    "very_usefull_function()\n",
    "print(a)"
   ]
  },
  {
   "cell_type": "markdown",
   "metadata": {
    "slideshow": {
     "slide_type": "slide"
    }
   },
   "source": [
    "This shows the difference between global and local variables. \n",
    "\n",
    "While we can access global variables within functions, they can not be changed by default. A variable with the same name inside a function is a local variable and will always take precedence over global variables. It exists only in the scope of this function.\n",
    "In generall it is possible to change the value of a global variable from inside a function but since accessing a global variable from inside a function is considered bad practice and hence trying to change it even worse we neglect that possibility altogether."
   ]
  },
  {
   "cell_type": "markdown",
   "metadata": {
    "slideshow": {
     "slide_type": "slide"
    }
   },
   "source": [
    "### Constants\n",
    "Often in other programming languages special variables can be defined which can not be changed and therefore be used for constants for example. In Python this is not possible. So a widely used convention is to mark constants with all upper case variable names."
   ]
  },
  {
   "cell_type": "code",
   "execution_count": 38,
   "metadata": {
    "slideshow": {
     "slide_type": "-"
    }
   },
   "outputs": [],
   "source": [
    "SPEED_OF_LIGHT = 1080000000 #km/h"
   ]
  },
  {
   "cell_type": "markdown",
   "metadata": {
    "slideshow": {
     "slide_type": "slide"
    }
   },
   "source": [
    "## Python modules\n",
    "\n",
    "When you write larger scripts, it makes sense to split your code into multiple files so that you do not lose track of all your functions. You may also want to use a handy function that you've written in several programs without copying its definition into each program.\n",
    "\n",
    "To support this, Python has a way to put definitions in one file and use them in another script. Such a file is called a **module**. Definitions from one module can be imported into other modules or into the main module.\n",
    "\n",
    "A module is a file containing Python definitions and statements. The file name is the module name with the suffix .py appended."
   ]
  },
  {
   "cell_type": "markdown",
   "metadata": {
    "slideshow": {
     "slide_type": "slide"
    }
   },
   "source": [
    "### The import system\n",
    "\n",
    "Lets say, we defined the following function (to print the Fibonacci numbers) in the file \"fibo.py\":"
   ]
  },
  {
   "cell_type": "code",
   "execution_count": 1,
   "metadata": {
    "slideshow": {
     "slide_type": "-"
    }
   },
   "outputs": [],
   "source": [
    "def fibonacci(n):\n",
    "    a, b = 0, 1\n",
    "    while a < n:\n",
    "        print(a, end=' ')\n",
    "        a, b = b, a+b\n",
    "    print()"
   ]
  },
  {
   "cell_type": "markdown",
   "metadata": {
    "slideshow": {
     "slide_type": "slide"
    }
   },
   "source": [
    "Now we want to use this function in another script. To import the definitions from a module into a script, you can use the `import` statement:"
   ]
  },
  {
   "cell_type": "code",
   "execution_count": 2,
   "metadata": {
    "slideshow": {
     "slide_type": "-"
    }
   },
   "outputs": [
    {
     "name": "stdout",
     "output_type": "stream",
     "text": [
      "0 1 1 2 3 5 8 13 21 34 55 89 \n"
     ]
    }
   ],
   "source": [
    "import fibo # Import the fibo-module (fibo.py)\n",
    "\n",
    "fibo.fibonacci(90) # Use the fibonacci function from the fibo module"
   ]
  },
  {
   "cell_type": "markdown",
   "metadata": {
    "slideshow": {
     "slide_type": "fragment"
    }
   },
   "source": [
    "You can also assign an alias to the imported module via:"
   ]
  },
  {
   "cell_type": "code",
   "execution_count": 3,
   "metadata": {
    "slideshow": {
     "slide_type": "-"
    }
   },
   "outputs": [
    {
     "name": "stdout",
     "output_type": "stream",
     "text": [
      "0 1 1 2 3 5 8 13 21 34 55 89 \n"
     ]
    }
   ],
   "source": [
    "import fibo as fb\n",
    "\n",
    "fb.fibonacci(90)"
   ]
  },
  {
   "cell_type": "markdown",
   "metadata": {
    "slideshow": {
     "slide_type": "-"
    }
   },
   "source": [
    "This is common practice as module names are sometimes long and coders like short module names in their code."
   ]
  },
  {
   "cell_type": "markdown",
   "metadata": {
    "slideshow": {
     "slide_type": "slide"
    },
    "tags": [
     "info"
    ]
   },
   "source": [
    "Sometimes you will see something like\n",
    "\n",
    "```Python\n",
    "from fibo import *\n",
    "```\n",
    "which would import all functions from the fibo module. This is considered bad practice because it is not concrete and specific (it violates rule 2 of the [**The Zen of Python**](https://www.python.org/dev/peps/pep-0020/) ;-) ) and should not be done."
   ]
  },
  {
   "cell_type": "markdown",
   "metadata": {
    "slideshow": {
     "slide_type": "skip"
    }
   },
   "source": [
    "There are many modules with usefull functions out there which can be installed and used similarly to the way with our own modules shown above. We get to know some of the most common ones in later chapters of the course."
   ]
  },
  {
   "cell_type": "markdown",
   "metadata": {
    "slideshow": {
     "slide_type": "slide"
    },
    "tags": [
     "task"
    ]
   },
   "source": [
    "**Task:**\n",
    "\n",
    "1. Write a function `add5(x)` that adds 5 to the given number `x` and returns the result. Save this function in the file \"mathe.py\".\n",
    "2. Start an interactive python shell in the same directory where you saved the \"mathe.py\" file.\n",
    "3. Import the function `add5(x)`, call it with some random arguments and print the results.\n",
    "4. Try out \"import this\"."
   ]
  },
  {
   "cell_type": "markdown",
   "metadata": {
    "tags": [
     "remove_cell"
    ]
   },
   "source": [
    "**Solution**\n",
    "\n",
    "1. ```python\n",
    "def add5(x):\n",
    "    return x + 5\n",
    "```\n",
    "\n",
    "2. Start the shell\n",
    "\n",
    "3. ```python\n",
    "from mathe import add5\n",
    "res = add5(10)\n",
    "print(res)\n",
    "```\n",
    "\n",
    "4. ```python\n",
    "import this\n",
    "```"
   ]
  },
  {
   "cell_type": "markdown",
   "metadata": {
    "slideshow": {
     "slide_type": "slide"
    }
   },
   "source": [
    "## Working with files\n",
    "\n",
    "Sometimes we need to access files on disk in our scripts. This can be done using the `open(filename, access_mode)` function. The access mode is one of:\n",
    "- `r`: read only\n",
    "- `w`: write only\n",
    "- `a`: appending to a file\n",
    "- `r+`: special mode to handle reading and writing"
   ]
  },
  {
   "cell_type": "markdown",
   "metadata": {
    "slideshow": {
     "slide_type": "slide"
    }
   },
   "source": [
    "### Reading and writing text files\n",
    "The simplest file we can access are text files and there are some conveniant methods which help us writing to them:\n",
    "- `write()`: writes a line to a file\n",
    "- `writelines()`: given a list writes each item as a line\n",
    "\n",
    "Using the `with` syntax we don't have to worry about closing the file connection once we are done."
   ]
  },
  {
   "cell_type": "code",
   "execution_count": 12,
   "metadata": {
    "slideshow": {
     "slide_type": "fragment"
    }
   },
   "outputs": [],
   "source": [
    "#Writing a shopping list to a text file\n",
    "with open(\"shopping_list.txt\", \"w\") as file:\n",
    "    file.write(\"Milk\\n\")\n",
    "    file.write(\"Cereal\\n\")\n",
    "    file.write(\"Pizza\\n\")"
   ]
  },
  {
   "cell_type": "markdown",
   "metadata": {
    "slideshow": {
     "slide_type": "slide"
    }
   },
   "source": [
    "Similarly there are functions to read from a file:\n",
    "- `read(n)`: if n is given reads the first n characters from the file otherwise reads the entire file\n",
    "- `readline(n)`: if n is given reads the n'th line from the file otherwise reads the first line\n",
    "- `readlines()`: reads the entire file line by line and returns them as a list"
   ]
  },
  {
   "cell_type": "code",
   "execution_count": 43,
   "metadata": {
    "slideshow": {
     "slide_type": "fragment"
    }
   },
   "outputs": [
    {
     "name": "stdout",
     "output_type": "stream",
     "text": [
      "['Milk\\n', 'Cereal\\n', 'Pizza\\n']\n"
     ]
    }
   ],
   "source": [
    "#Reading our list\n",
    "with open(\"shopping_list.txt\", \"r\") as file:\n",
    "    lines = file.readlines()\n",
    "    \n",
    "print(lines)"
   ]
  },
  {
   "cell_type": "markdown",
   "metadata": {
    "slideshow": {
     "slide_type": "slide"
    },
    "tags": [
     "task"
    ]
   },
   "source": [
    "**Task:**\n",
    "\n",
    "Notice the \"\\n\" at the end of each line.\n",
    "1. Find out what the \"\\n\" is all about (Hint: Try the code without it)\n",
    "2. Find out how to get rid of the \"\\n\" when reading the file again."
   ]
  },
  {
   "cell_type": "markdown",
   "metadata": {
    "slideshow": {
     "slide_type": "slide"
    }
   },
   "source": [
    "### File pathes and directories\n",
    "\n",
    "Beyond writing to text files other interactions with the filesystem like creating, deleting files and directories or just creation of system compatible pathes is often needed. All of this and more can be achieved with the `Path` function of the [pathlib](https://docs.python.org/3/library/pathlib.html) module which ships with every Python 3 installation."
   ]
  },
  {
   "cell_type": "markdown",
   "metadata": {
    "slideshow": {
     "slide_type": "slide"
    }
   },
   "source": [
    "#### Create pathes\n",
    "Instead of creating pathes by concatenating strings with the `+` operator it can be conveniantly be done like:"
   ]
  },
  {
   "cell_type": "code",
   "execution_count": 2,
   "metadata": {
    "slideshow": {
     "slide_type": "fragment"
    }
   },
   "outputs": [
    {
     "name": "stdout",
     "output_type": "stream",
     "text": [
      "user/data\n",
      "user/data/subdirectory\n"
     ]
    }
   ],
   "source": [
    "from pathlib import Path #first import the Path \"function\" from the module\n",
    "\n",
    "# create the path object with an initial path. If no path is provided the current directory is used\n",
    "basedir = Path(\"user/data\")\n",
    "print(basedir)\n",
    "# create path to a sub directory with the \"/\" operator\n",
    "# instead of a string the second argument could also be a Path object\n",
    "subdir = basedir / \"subdirectory\"\n",
    "print(subdir)"
   ]
  },
  {
   "cell_type": "markdown",
   "metadata": {
    "slideshow": {
     "slide_type": "slide"
    }
   },
   "source": [
    "#### Check existance of / create / delete directories"
   ]
  },
  {
   "cell_type": "code",
   "execution_count": 13,
   "metadata": {
    "slideshow": {
     "slide_type": "fragment"
    }
   },
   "outputs": [
    {
     "name": "stdout",
     "output_type": "stream",
     "text": [
      "Directory exists: False\n",
      "Directory exists after creation: True\n",
      "Directory exists after deletion: False\n"
     ]
    }
   ],
   "source": [
    "# check if path exists\n",
    "dir_exists = subdir.exists()\n",
    "print(\"Directory exists: {}\".format(dir_exists))\n",
    "# create directory. If parents is True intermediate directories are created if they don't exist.\n",
    "# exist_ok = True supresses errors is directory already exists.\n",
    "subdir.mkdir(parents = True, exist_ok = True)\n",
    "print(\"Directory exists after creation: {}\".format(subdir.exists()))\n",
    "# delete directory. Directory must be empty.\n",
    "subdir.rmdir()\n",
    "print(\"Directory exists after deletion: {}\".format(subdir.exists()))"
   ]
  },
  {
   "cell_type": "markdown",
   "metadata": {
    "slideshow": {
     "slide_type": "slide"
    }
   },
   "source": [
    "#### List files and directories"
   ]
  },
  {
   "cell_type": "code",
   "execution_count": 21,
   "metadata": {
    "slideshow": {
     "slide_type": "fragment"
    }
   },
   "outputs": [
    {
     "name": "stdout",
     "output_type": "stream",
     "text": [
      "List files and directories\n",
      "[PosixPath('images/S01E03'), PosixPath('images/S01E04'), PosixPath('images/S01E02')]\n",
      "Recursive png file list:\n",
      "[PosixPath('images/S01E03/string_explanation.png'), PosixPath('images/S01E04/beispiel_output.png'), PosixPath('images/S01E04/csv_example.png'), PosixPath('images/S01E02/python_interpreter.png')]\n"
     ]
    }
   ],
   "source": [
    "img_dir = Path(\"images\")\n",
    "\n",
    "print(\"List files and directories\")\n",
    "flist = list(img_dir.glob(\"*\"))\n",
    "print(flist)\n",
    "\n",
    "print(\"Recursive png file list:\")\n",
    "flist = list(img_dir.rglob(\"*.png\"))\n",
    "print(flist)"
   ]
  },
  {
   "cell_type": "markdown",
   "metadata": {
    "slideshow": {
     "slide_type": "slide"
    }
   },
   "source": [
    "#### Other usefull things"
   ]
  },
  {
   "cell_type": "code",
   "execution_count": 26,
   "metadata": {
    "slideshow": {
     "slide_type": "-"
    }
   },
   "outputs": [
    {
     "data": {
      "text/plain": [
       "False"
      ]
     },
     "execution_count": 26,
     "metadata": {},
     "output_type": "execute_result"
    }
   ],
   "source": [
    "# is it a file or directory?\n",
    "img_dir.is_file()"
   ]
  },
  {
   "cell_type": "code",
   "execution_count": 27,
   "metadata": {
    "slideshow": {
     "slide_type": "-"
    }
   },
   "outputs": [
    {
     "data": {
      "text/plain": [
       "True"
      ]
     },
     "execution_count": 27,
     "metadata": {},
     "output_type": "execute_result"
    }
   ],
   "source": [
    "img_dir.is_dir()"
   ]
  },
  {
   "cell_type": "code",
   "execution_count": 28,
   "metadata": {
    "slideshow": {
     "slide_type": "-"
    }
   },
   "outputs": [
    {
     "data": {
      "text/plain": [
       "'string_explanation.png'"
      ]
     },
     "execution_count": 28,
     "metadata": {},
     "output_type": "execute_result"
    }
   ],
   "source": [
    "# file/directory name\n",
    "flist[0].name"
   ]
  },
  {
   "cell_type": "code",
   "execution_count": 30,
   "metadata": {
    "slideshow": {
     "slide_type": "-"
    }
   },
   "outputs": [
    {
     "data": {
      "text/plain": [
       "'.png'"
      ]
     },
     "execution_count": 30,
     "metadata": {},
     "output_type": "execute_result"
    }
   ],
   "source": [
    "# file suffix\n",
    "flist[0].suffix"
   ]
  },
  {
   "cell_type": "code",
   "execution_count": 31,
   "metadata": {
    "slideshow": {
     "slide_type": "-"
    }
   },
   "outputs": [
    {
     "data": {
      "text/plain": [
       "PosixPath('images/S01E03')"
      ]
     },
     "execution_count": 31,
     "metadata": {},
     "output_type": "execute_result"
    }
   ],
   "source": [
    "# parent directory\n",
    "flist[0].parent"
   ]
  },
  {
   "cell_type": "markdown",
   "metadata": {
    "tags": [
     "info"
    ]
   },
   "source": [
    "**Info**\n",
    "- always use \"/\" in path strings. pathlib will convert those to \"\\\\\" on Windows\n",
    "- be carefull when deleting you will not be asked if you really want to delete\n",
    "- in older scripts you might encounter `os.path` functions because `pathlib` is only available in Python 3 (a comparison is given in the documentation linked above"
   ]
  },
  {
   "cell_type": "markdown",
   "metadata": {
    "slideshow": {
     "slide_type": "slide"
    }
   },
   "source": [
    "## Classes and objects\n",
    "\n",
    "In the examples on the previous slides we used functions with a weird \"dot\"-notation. In addition it looks like sometimes you need brackets when calling a function and sometimes you don't.\n",
    "\n",
    "This has something to do with **object oriented programming** which is a paradigm tightly coupled with Python.\n",
    "\n",
    "While we won't go into the details, it is important to understand the concept and terminology.\n",
    "It will help to grasp whats going on in the above examples and it makes it easier to understand explanations and solutions you might find online"
   ]
  },
  {
   "cell_type": "markdown",
   "metadata": {
    "slideshow": {
     "slide_type": "slide"
    }
   },
   "source": [
    "The basic idea about **object oriented programming** is to group data and functions which can interact with that data into an **object**\n",
    "\n",
    "This programming style can make it easier to:\n",
    "- structure big and complex software\n",
    "- write reusable code\n",
    "- maintain code\n",
    "\n",
    "Two important concepts are:\n",
    "- **classes** which are like a blueprint\n",
    "- **objects** which are **instances**, the actual realisation, of the corresponding class"
   ]
  },
  {
   "cell_type": "markdown",
   "metadata": {
    "slideshow": {
     "slide_type": "slide"
    }
   },
   "source": [
    "![](images/S01E03/classes_objects.jpeg)\n",
    "\n",
    "<small>(adapted after https://www.slideshare.net/ArslanArshad9/object-oriented-programming-with-python slide 3)</small>"
   ]
  },
  {
   "cell_type": "markdown",
   "metadata": {
    "slideshow": {
     "slide_type": "slide"
    }
   },
   "source": [
    "### Connecting the dots\n",
    "\n",
    "So what has that to do with the \"dot\"-notation in the examples?"
   ]
  },
  {
   "cell_type": "markdown",
   "metadata": {
    "slideshow": {
     "slide_type": "fragment"
    }
   },
   "source": [
    "![](images/S01E03/classes_objects_explanation.png)"
   ]
  },
  {
   "cell_type": "markdown",
   "metadata": {
    "slideshow": {
     "slide_type": "slide"
    }
   },
   "source": [
    "## Errors and Exceptions"
   ]
  },
  {
   "cell_type": "markdown",
   "metadata": {
    "slideshow": {
     "slide_type": "-"
    }
   },
   "source": [
    "When an error occurs in a Python script, it will stop and generate an error message.\n",
    "This happens, e.g., when you try to read a non-existing or corrupt file:"
   ]
  },
  {
   "cell_type": "code",
   "execution_count": 15,
   "metadata": {
    "slideshow": {
     "slide_type": "-"
    }
   },
   "outputs": [
    {
     "ename": "FileNotFoundError",
     "evalue": "[Errno 2] No such file or directory: 'non_existing_file.txt'",
     "output_type": "error",
     "traceback": [
      "\u001b[0;31m---------------------------------------------------------------------------\u001b[0m",
      "\u001b[0;31mFileNotFoundError\u001b[0m                         Traceback (most recent call last)",
      "\u001b[0;32m<ipython-input-15-b91d3e0c2f63>\u001b[0m in \u001b[0;36m<module>\u001b[0;34m\u001b[0m\n\u001b[0;32m----> 1\u001b[0;31m \u001b[0;32mwith\u001b[0m \u001b[0mopen\u001b[0m\u001b[0;34m(\u001b[0m\u001b[0;34m\"non_existing_file.txt\"\u001b[0m\u001b[0;34m)\u001b[0m \u001b[0;32mas\u001b[0m \u001b[0mfile\u001b[0m\u001b[0;34m:\u001b[0m\u001b[0;34m\u001b[0m\u001b[0;34m\u001b[0m\u001b[0m\n\u001b[0m\u001b[1;32m      2\u001b[0m     \u001b[0mcontent\u001b[0m \u001b[0;34m=\u001b[0m \u001b[0mfile\u001b[0m\u001b[0;34m.\u001b[0m\u001b[0mread\u001b[0m\u001b[0;34m(\u001b[0m\u001b[0;34m)\u001b[0m\u001b[0;34m\u001b[0m\u001b[0;34m\u001b[0m\u001b[0m\n",
      "\u001b[0;31mFileNotFoundError\u001b[0m: [Errno 2] No such file or directory: 'non_existing_file.txt'"
     ]
    }
   ],
   "source": [
    "with open(\"non_existing_file.txt\") as file:\n",
    "    content = file.read()"
   ]
  },
  {
   "cell_type": "markdown",
   "metadata": {
    "slideshow": {
     "slide_type": "slide"
    }
   },
   "source": [
    "These errors (or \"exceptions\") can be handled using a try-except block:"
   ]
  },
  {
   "cell_type": "markdown",
   "metadata": {
    "slideshow": {
     "slide_type": "-"
    }
   },
   "source": [
    "```Python\n",
    "try:\n",
    "    #code which possibly gives an error\n",
    "except:\n",
    "    #code to execute in case of error\n",
    "```"
   ]
  },
  {
   "cell_type": "markdown",
   "metadata": {
    "slideshow": {
     "slide_type": "fragment"
    }
   },
   "source": [
    "If an exception occurs and the `except` block has run the script does not stop but continues to run."
   ]
  },
  {
   "cell_type": "markdown",
   "metadata": {
    "slideshow": {
     "slide_type": "slide"
    },
    "tags": [
     "info"
    ]
   },
   "source": [
    "**Note:**\n",
    "\n",
    "While the length of the `try` block is not limited as soon as an Error is encountered the block will stop (i.e. other code after the line with the error will be skipped)!"
   ]
  },
  {
   "cell_type": "markdown",
   "metadata": {
    "slideshow": {
     "slide_type": "slide"
    }
   },
   "source": [
    "Some best practice rules to keep in mind when writing try-except blocks are:\n",
    "\n",
    "- always handle specific errors => don't catch `Exception` because it silently hides all errors (most of the time you know what might break so catch it specifically)\n",
    "- give the user the stack trace in addition to custom text (for example with the built in [traceback module](https://docs.python.org/3/library/traceback.html), because it contains information where the exception occurred \n",
    "- if different errors might come up you can have multiple exception blocks to handle them differently\n",
    "\n",
    "applied to the example above a refactored code might look like this:"
   ]
  },
  {
   "cell_type": "code",
   "execution_count": 39,
   "metadata": {},
   "outputs": [
    {
     "name": "stdout",
     "output_type": "stream",
     "text": [
      "[Errno 2] No such file or directory: 'non_existing_file.txt'\n",
      "Make sure \"non_existing_file.txt\" exists\n",
      "Script continues after catching exception instead of exiting!\n"
     ]
    },
    {
     "name": "stderr",
     "output_type": "stream",
     "text": [
      "Traceback (most recent call last):\n",
      "  File \"<ipython-input-39-32bfeb522b6b>\", line 5, in <module>\n",
      "    with open(filename, \"r\") as file:\n",
      "FileNotFoundError: [Errno 2] No such file or directory: 'non_existing_file.txt'\n"
     ]
    }
   ],
   "source": [
    "import traceback\n",
    "\n",
    "filename = \"non_existing_file.txt\"\n",
    "try:\n",
    "    with open(filename, \"r\") as file:\n",
    "        content = file.read()\n",
    "except FileNotFoundError as e:\n",
    "    print(e) # Print the error\n",
    "    print(\"Make sure \\\"{}\\\" exists\".format(filename)) # Custom message to user\n",
    "    traceback.print_exc() # give the user the full stacktrace\n",
    "    \n",
    "print(\"Script continues after catching exception instead of exiting!\")"
   ]
  },
  {
   "cell_type": "markdown",
   "metadata": {
    "slideshow": {
     "slide_type": "slide"
    },
    "tags": [
     "task"
    ]
   },
   "source": [
    "**Task:**\n",
    "\n",
    "1. Have a look at Pythons built in exceptions [here](https://docs.python.org/3/library/exceptions.html) and find the one you can use in the next task.\n",
    "2. Re-write your `add5(x)`-function so that it does not kill the program when a wrong argument is passed (e.g. a string like \"zehn\") and\n",
    "   inform the caller of the function about a raised exception so that she/he can react accordingly."
   ]
  },
  {
   "cell_type": "markdown",
   "metadata": {
    "tags": [
     "solution"
    ]
   },
   "source": [
    "**Solution**\n",
    "\n",
    "1. Since a value of 5 can not be added to a string the appropiate exception type would be ```python TypeError ```\n",
    "2. ```python\n",
    "import traceback\n",
    "def add5(x):\n",
    "    try:\n",
    "        return x + 5\n",
    "    except ValueError as e:\n",
    "        print(\"The input to the function has the wrong data type.\")\n",
    "        print(e)\n",
    "        traceback.print_exec()\n",
    "```"
   ]
  },
  {
   "cell_type": "markdown",
   "metadata": {
    "slideshow": {
     "slide_type": "slide"
    },
    "tags": [
     "task"
    ]
   },
   "source": [
    "## Exercise 3\n",
    "\n",
    "- Complete the third assignment and push your results until tuesday 14:00 next week\n",
    "- Assignment link: [https://classroom.github.com/a/kRdKEeyg](https://classroom.github.com/a/kRdKEeyg)"
   ]
  }
 ],
 "metadata": {
  "celltoolbar": "Tags",
  "kernelspec": {
   "display_name": "Python 3",
   "language": "python",
   "name": "python3"
  },
  "language_info": {
   "codemirror_mode": {
    "name": "ipython",
    "version": 3
   },
   "file_extension": ".py",
   "mimetype": "text/x-python",
   "name": "python",
   "nbconvert_exporter": "python",
   "pygments_lexer": "ipython3",
   "version": "3.7.1"
  }
 },
 "nbformat": 4,
 "nbformat_minor": 2
}
