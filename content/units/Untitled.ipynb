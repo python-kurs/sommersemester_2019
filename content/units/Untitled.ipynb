{
 "cells": [
  {
   "cell_type": "markdown",
   "metadata": {
    "slideshow": {
     "slide_type": "slide"
    }
   },
   "source": [
    "### Besprechung Exercise 3\n",
    "\n",
    "1. Ziele der Übungen\n",
    "2. Allgemeine Auffälligkeiten\n",
    "3. Besprechung der Übungsaufgabe\n",
    "4. Git"
   ]
  },
  {
   "cell_type": "markdown",
   "metadata": {
    "slideshow": {
     "slide_type": "slide"
    }
   },
   "source": [
    "#### Ziele der Übungen\n",
    "\n",
    "- Einüben der gelernten Inhalte\n",
    "- Entwicklung von Problemlösungsfähigkeiten beim Programmieren\n",
    "    - Was ist zu tun -> Wie kann/sollte/muss der Code dazu aussehen?\n",
    "    - Erkennen wo Probleme/Fehler auftreten könnten und wie diese vermieden werden können? (e.g. falsche Ergebnisse)\n",
    "    - Abstraktion, wiederverwendbarer (\"sauberer\") Code\n",
    "- Einhaltung von Standards und Best-Pratice Empfehlungen\n",
    "    - Code Style und Syntax\n",
    "    - Dokumentation\n",
    "    - Lesbarkeit"
   ]
  },
  {
   "cell_type": "markdown",
   "metadata": {
    "slideshow": {
     "slide_type": "slide"
    }
   },
   "source": [
    "#### Allgemeine Auffälligkeiten\n",
    "\n",
    "Oft gute/funktionierende Lösungen aber es hakt häufig im Detail..."
   ]
  },
  {
   "cell_type": "markdown",
   "metadata": {},
   "source": [
    "##### Was sollte in der Lösung enthalten sein?\n",
    "\n",
    "- Alle für die Lösung notwendigen/geforderten Dateien und Verzeichnisse, nicht mehr und nicht weniger.\n",
    "    - notwendig: die Lösung muss funktionieren (Bsp. wenn eine Datei \"extra_funktion.py\" eine in der Lösung verwendete Funktion `hallo_welt` enthält und nicht abgegeben wird -> 💣)\n",
    "    - gefordert: die Aufgabe erfordert die Erstellung einer Datei -> Siehe folgende Folie\n",
    "- Dokumentation:\n",
    "    - inline: wenn nicht auf den ersten Blick erkennbar ist warum die Lösung so gewählt wurde/was der code tut\n",
    "    - Funktionen"
   ]
  },
  {
   "cell_type": "markdown",
   "metadata": {},
   "source": [
    "##### Was gehört nicht in die Lösung?\n",
    "\n",
    "- Test Skripte\n",
    "- Alternative Lösungen\n",
    "- verschiedene Versionen der selben Datei\n",
    "\n",
    "=> Wie sollen wir wissen welche Lösung bewertet werden soll?\n",
    "\n",
    "=> Wir sprechen später noch über Git"
   ]
  },
  {
   "cell_type": "markdown",
   "metadata": {},
   "source": [
    "##### Relative Pfade"
   ]
  },
  {
   "cell_type": "code",
   "execution_count": 2,
   "metadata": {},
   "outputs": [
    {
     "name": "stdout",
     "output_type": "stream",
     "text": [
      "fibo.py\n",
      "images\n",
      "S01E01.ipynb\n",
      "S01E02.ipynb\n",
      "S01E03.ipynb\n",
      "S01E04.ipynb\n",
      "S01E05.ipynb\n",
      "S01E06.ipynb\n",
      "shopping_list.txt\n",
      "units.md\n",
      "Untitled.ipynb\n",
      "warning_cells.ipynb\n",
      "/home/ro/dev/python_course/sommersemester_2019/content/units\n"
     ]
    }
   ],
   "source": [
    "%%bash\n",
    "ls\n",
    "pwd"
   ]
  },
  {
   "cell_type": "code",
   "execution_count": null,
   "metadata": {},
   "outputs": [],
   "source": [
    "unit1/test\n",
    "unit1/test/script1.py\n",
    "\n",
    "unit1/andereordner/shopping_list.txt"
   ]
  },
  {
   "cell_type": "code",
   "execution_count": 5,
   "metadata": {},
   "outputs": [
    {
     "data": {
      "text/plain": [
       "'Milk\\nCereal\\nPizza\\n'"
      ]
     },
     "execution_count": 5,
     "metadata": {},
     "output_type": "execute_result"
    }
   ],
   "source": [
    "with open(\"../../andererordner/shopping_list.txt\", \"r\") as file:\n",
    "    a = file.read()\n",
    "    \n",
    "a\n",
    "\n",
    "from pathlib import Path\n",
    "\n",
    "roodir = Path(\"/\")\n",
    "\n",
    "rootdir / \"datadir\""
   ]
  },
  {
   "cell_type": "markdown",
   "metadata": {
    "slideshow": {
     "slide_type": "slide"
    }
   },
   "source": [
    "##### Aufgabenstellung richtig lesen\n",
    "\n",
    "```python\n",
    "#Write the counts to the file `counts.csv` in the `solution` directory in the format (first line is the header): [2P]\n",
    "#item, count\n",
    "#item_name_1, item_count_1\n",
    "#item_name_2, item_count_2\n",
    "```\n",
    "\n",
    "- count.csv / UniqueCars_Count.csv / results_counting_occurences.csv / cars_frequency.csv / ...\n",
    "- Type;count / model,countings / kein Header"
   ]
  },
  {
   "cell_type": "markdown",
   "metadata": {},
   "source": [
    "##### Relative Pfade"
   ]
  },
  {
   "cell_type": "code",
   "execution_count": null,
   "metadata": {},
   "outputs": [],
   "source": [
    "data_file = \"/home/ro/dev/python_kurs/data/test_file.csv\""
   ]
  },
  {
   "cell_type": "markdown",
   "metadata": {
    "slideshow": {
     "slide_type": "slide"
    }
   },
   "source": [
    "##### Style und Lesbarkeit"
   ]
  },
  {
   "cell_type": "code",
   "execution_count": null,
   "metadata": {
    "slideshow": {
     "slide_type": "fragment"
    }
   },
   "outputs": [],
   "source": [
    "with open(data_dir / \"cars.txt\", \"r\") as fd:"
   ]
  },
  {
   "cell_type": "markdown",
   "metadata": {
    "slideshow": {
     "slide_type": "fragment"
    }
   },
   "source": [
    "\"\" oder '' => **Konsistenzt** "
   ]
  },
  {
   "cell_type": "markdown",
   "metadata": {
    "slideshow": {
     "slide_type": "fragment"
    }
   },
   "source": [
    "[Python PEP8 code style](https://www.python.org/dev/peps/pep-0008/)"
   ]
  },
  {
   "cell_type": "code",
   "execution_count": 15,
   "metadata": {
    "slideshow": {
     "slide_type": "slide"
    }
   },
   "outputs": [
    {
     "data": {
      "text/plain": [
       "{'bananen', 'erdbeeren', 'saure gurken'}"
      ]
     },
     "execution_count": 15,
     "metadata": {},
     "output_type": "execute_result"
    }
   ],
   "source": [
    "from pathlib import Path\n",
    "\n",
    "data_dir = Path(\"images\")\n",
    "\n",
    "create_obst_path = data_dir / \"S01E03/liste.txt\" # operator/ var name\n",
    "\n",
    "obst_file = open(create_obst_path, \"r\")\n",
    "\n",
    "obst = obst_file.read()\n",
    "\n",
    "obst_file.close()# str conversion/ with statement\n",
    "\n",
    "obst\n",
    "obstliste = obst.split(\"\\n\")\n",
    "set(obst.split(\"\\n\"))"
   ]
  },
  {
   "cell_type": "code",
   "execution_count": null,
   "metadata": {
    "slideshow": {
     "slide_type": "fragment"
    }
   },
   "outputs": [],
   "source": [
    "obstliste = obst.split(\"\\n\") # list conversion\n",
    "obstliste"
   ]
  },
  {
   "cell_type": "code",
   "execution_count": 16,
   "metadata": {
    "slideshow": {
     "slide_type": "fragment"
    }
   },
   "outputs": [
    {
     "name": "stdout",
     "output_type": "stream",
     "text": [
      "bananen\n",
      "saure gurken\n",
      "erdbeeren\n"
     ]
    }
   ],
   "source": [
    "unique_obst = set(obstliste) # list conversion\n",
    "\n",
    "for i in unique_obst:\n",
    "    print(i)"
   ]
  },
  {
   "cell_type": "markdown",
   "metadata": {
    "slideshow": {
     "slide_type": "slide"
    }
   },
   "source": [
    "##### Redundanz"
   ]
  },
  {
   "cell_type": "code",
   "execution_count": null,
   "metadata": {
    "slideshow": {
     "slide_type": "fragment"
    }
   },
   "outputs": [],
   "source": [
    "data_dir = Path(\"images\")\n",
    "\n",
    "if not data_dir.exists():\n",
    "    data_dir.mkdir()"
   ]
  },
  {
   "cell_type": "markdown",
   "metadata": {},
   "source": [
    "##### Funktionen, return, Dokumentation"
   ]
  },
  {
   "cell_type": "code",
   "execution_count": 20,
   "metadata": {
    "slideshow": {
     "slide_type": "slide"
    }
   },
   "outputs": [
    {
     "data": {
      "text/plain": [
       "[['bananen', 2], ['saure gurken', 1], ['erdbeeren', 2]]"
      ]
     },
     "execution_count": 20,
     "metadata": {},
     "output_type": "execute_result"
    }
   ],
   "source": [
    "def count(x):\n",
    "    \"\"\"\n",
    "    Calculate the occurence of each item in a text file.\n",
    "    \n",
    "    Parameters\n",
    "    ----------\n",
    "    x : list\n",
    "        Beschreiung von liste\n",
    "        \n",
    "    Returns\n",
    "    -------\n",
    "    list of lists\n",
    "        counts of obstliste.\n",
    "    \n",
    "    \"\"\"\n",
    "    \n",
    "    items = set(x)\n",
    "    obst_counts = []\n",
    "    for value in items: \n",
    "        obst_counts.append([value, x.count(value)])\n",
    "    \n",
    "    return obst_counts\n",
    "        \n",
    "counts = count(obstliste)\n",
    "counts"
   ]
  },
  {
   "cell_type": "markdown",
   "metadata": {
    "slideshow": {
     "slide_type": "fragment"
    }
   },
   "source": [
    "[numpy doc](https://numpydoc.readthedocs.io/en/latest/)"
   ]
  },
  {
   "cell_type": "markdown",
   "metadata": {
    "slideshow": {
     "slide_type": "slide"
    }
   },
   "source": [
    "### Lösung Exercise 3"
   ]
  },
  {
   "cell_type": "code",
   "execution_count": 1,
   "metadata": {},
   "outputs": [],
   "source": [
    "from pathlib import Path\n",
    "from utils import count_items"
   ]
  },
  {
   "cell_type": "markdown",
   "metadata": {},
   "source": [
    "1. Contstruct the path to the text file in the data directory using the `pathlib` module"
   ]
  },
  {
   "cell_type": "code",
   "execution_count": 6,
   "metadata": {},
   "outputs": [],
   "source": [
    "data_dir = Path(\"data\")\n",
    "output_dir = Path(\"solution\")\n",
    "\n",
    "# Construct path to text file\n",
    "text_file = data_dir / \"cars.txt\""
   ]
  },
  {
   "cell_type": "markdown",
   "metadata": {},
   "source": [
    "2. Read the text file"
   ]
  },
  {
   "cell_type": "code",
   "execution_count": 7,
   "metadata": {},
   "outputs": [],
   "source": [
    "with open(text_file, \"r\") as file:\n",
    "    # .read() : read the whole file\n",
    "    # .splitlines() : splits the lines and removes the lines break token \"\\n\"\n",
    "    # [1:] : remove the first line because \"model\" is the header of the file\n",
    "    data = file.read().splitlines()[1:]"
   ]
  },
  {
   "cell_type": "markdown",
   "metadata": {},
   "source": [
    "3. Count the occurences of each item in the text file\n",
    "\n",
    "Count items with imported function. To see what the function looks like click the ***+*** sign."
   ]
  },
  {
   "cell_type": "code",
   "execution_count": 2,
   "metadata": {
    "tags": [
     "hidecode"
    ]
   },
   "outputs": [],
   "source": [
    "def count_items(x):\n",
    "    \"\"\"\n",
    "    Count occurence of unique items of list\n",
    "\n",
    "    Counts items in the list and returns counts as a dict\n",
    "\n",
    "    Parameters\n",
    "    ----------\n",
    "    x : list\n",
    "        List of items to count\n",
    "\n",
    "    Returns\n",
    "    -------\n",
    "    dict\n",
    "        Items are keys, counts are values\n",
    "\n",
    "    \"\"\"\n",
    "    # init an empty dictionary\n",
    "    counts = {}\n",
    "    # loop through the list of items (lines)\n",
    "    for item in x:\n",
    "        # check if it already is in the dictionary\n",
    "        # if it is increase count by one if not add it\n",
    "        if item in counts.keys():\n",
    "            counts[item] += 1\n",
    "        else:\n",
    "            counts[item] = 1\n",
    "\n",
    "    return counts\n",
    "\n",
    "import utils as ut\n",
    "\n",
    "def count_write(x, pfad):\n",
    "\n",
    "    counts = count_items(x)\n",
    "    \n",
    "    ....\n",
    "    return"
   ]
  },
  {
   "cell_type": "code",
   "execution_count": 22,
   "metadata": {},
   "outputs": [
    {
     "name": "stdout",
     "output_type": "stream",
     "text": [
      "120 ns ± 0.718 ns per loop (mean ± std. dev. of 7 runs, 10000000 loops each)\n",
      "122 ns ± 0.783 ns per loop (mean ± std. dev. of 7 runs, 10000000 loops each)\n"
     ]
    }
   ],
   "source": [
    "%timeit import xarray as xr\n",
    "%timeit import pandas as pd"
   ]
  },
  {
   "cell_type": "code",
   "execution_count": 8,
   "metadata": {},
   "outputs": [],
   "source": [
    "counts = count_items(data)"
   ]
  },
  {
   "cell_type": "markdown",
   "metadata": {},
   "source": [
    "4. Using `pathlib` check if a directory with name `solution` exists and if not create it"
   ]
  },
  {
   "cell_type": "code",
   "execution_count": 9,
   "metadata": {},
   "outputs": [],
   "source": [
    "if not output_dir.exists():\n",
    "    output_dir.mkdir()"
   ]
  },
  {
   "cell_type": "markdown",
   "metadata": {},
   "source": [
    "Construct path to output file"
   ]
  },
  {
   "cell_type": "code",
   "execution_count": 10,
   "metadata": {},
   "outputs": [],
   "source": [
    "out_file = output_dir / \"counts.csv\""
   ]
  },
  {
   "cell_type": "markdown",
   "metadata": {},
   "source": [
    "5. Write the counts to the file `counts.csv` in the `solution` directory in the format (first line is the header)\n",
    "\n",
    "item, count<br>\n",
    "item_name_1, item_count_1<br>\n",
    "item_name_2, item_count_2<br>\n",
    "..."
   ]
  },
  {
   "cell_type": "code",
   "execution_count": null,
   "metadata": {},
   "outputs": [],
   "source": [
    "with open(out_file, \"w\") as file:\n",
    "    # Write header line\n",
    "    file.write(\"model,count\\n\")\n",
    "    # Write model and counts line by line\n",
    "    for model, num in counts.items():\n",
    "        file.write(\"{},{}\\n\".format(model, num))"
   ]
  },
  {
   "cell_type": "markdown",
   "metadata": {
    "slideshow": {
     "slide_type": "slide"
    }
   },
   "source": [
    "### Take Home Messages\n",
    "\n",
    "- Aufgabenstellung richtig lesen\n",
    "- Ersten denken dann Programmieren\n",
    "- Testen, Testen, Testen\n",
    "- Habe ich alles notwendige zur Lösung committed?"
   ]
  },
  {
   "cell_type": "markdown",
   "metadata": {},
   "source": [
    "### Git"
   ]
  }
 ],
 "metadata": {
  "celltoolbar": "Slideshow",
  "kernelspec": {
   "display_name": "Python 3",
   "language": "python",
   "name": "python3"
  },
  "language_info": {
   "codemirror_mode": {
    "name": "ipython",
    "version": 3
   },
   "file_extension": ".py",
   "mimetype": "text/x-python",
   "name": "python",
   "nbconvert_exporter": "python",
   "pygments_lexer": "ipython3",
   "version": "3.7.1"
  }
 },
 "nbformat": 4,
 "nbformat_minor": 2
}
