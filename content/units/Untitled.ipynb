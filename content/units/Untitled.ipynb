{
 "cells": [
  {
   "cell_type": "markdown",
   "metadata": {
    "slideshow": {
     "slide_type": "slide"
    }
   },
   "source": [
    "### Besprechung Exercise 3\n",
    "\n",
    "1. Ziele der Übungen\n",
    "2. Allgemeine Auffälligkeiten\n",
    "3. Besprechung der Übungsaufgabe\n",
    "4. Git"
   ]
  },
  {
   "cell_type": "markdown",
   "metadata": {
    "slideshow": {
     "slide_type": "slide"
    }
   },
   "source": [
    "#### Ziele der Übungen\n",
    "\n",
    "- Einüben der gelernten Inhalte\n",
    "- Entwicklung von Problemlösungsfähigkeiten beim Programmieren\n",
    "    - Was ist zu tun -> Wie kann/sollte/muss der Code dazu aussehen?\n",
    "    - Erkennen wo Probleme/Fehler auftreten könnten und wie diese vermieden werden können? (e.g. falsche Ergebnisse)\n",
    "    - Abstraktion, wiederverwendbarer (\"sauberer\") Code\n",
    "- Einhaltung von Standards und Best-Pratice Empfehlungen\n",
    "    - Code Style und Syntax\n",
    "    - Dokumentation\n",
    "    - Lesbarkeit"
   ]
  },
  {
   "cell_type": "markdown",
   "metadata": {
    "slideshow": {
     "slide_type": "slide"
    }
   },
   "source": [
    "#### Allgemeine Auffälligkeiten\n",
    "\n",
    "Oft gute/funktionierende Lösungen aber es hakt häufig im Detail..."
   ]
  },
  {
   "cell_type": "markdown",
   "metadata": {},
   "source": [
    "##### Was sollte in der Lösung enthalten sein?\n",
    "\n",
    "- Alle für die Lösung notwendigen/geforderten Dateien und Verzeichnisse, nicht mehr und nicht weniger.\n",
    "    - notwendig: die Lösung muss funktionieren (Bsp. wenn eine Datei \"extra_funktion.py\" eine in der Lösung verwendete Funktion `hallo_welt` enthält und nicht abgegeben wird -> 💣)\n",
    "    - gefordert: die Aufgabe erfordert die Erstellung einer Datei -> Siehe folgende Folie\n",
    "- Dokumentation:\n",
    "    - inline: wenn nicht auf den ersten Blick erkennbar ist warum die Lösung so gewählt wurde/was der code tut\n",
    "    - Funktionen"
   ]
  },
  {
   "cell_type": "markdown",
   "metadata": {},
   "source": [
    "##### Was gehört nicht in die Lösung?\n",
    "\n",
    "- Test Skripte\n",
    "- Alternative Lösungen\n",
    "- verschiedene Versionen der selben Datei\n",
    "\n",
    "=> Wie sollen wir wissen welche Lösung bewertet werden soll?\n",
    "\n",
    "=> Wir sprechen später noch über Git"
   ]
  },
  {
   "cell_type": "markdown",
   "metadata": {},
   "source": [
    "##### Relative Pfade"
   ]
  },
  {
   "cell_type": "markdown",
   "metadata": {
    "slideshow": {
     "slide_type": "slide"
    }
   },
   "source": [
    "##### Aufgabenstellung richtig lesen\n",
    "\n",
    "```python\n",
    "#Write the counts to the file `counts.csv` in the `solution` directory in the format (first line is the header): [2P]\n",
    "#item, count\n",
    "#item_name_1, item_count_1\n",
    "#item_name_2, item_count_2\n",
    "```\n",
    "\n",
    "- count.csv / UniqueCars_Count.csv / results_counting_occurences.csv / cars_frequency.csv / ...\n",
    "- Type;count / model,countings / kein Header"
   ]
  },
  {
   "cell_type": "markdown",
   "metadata": {
    "slideshow": {
     "slide_type": "slide"
    }
   },
   "source": [
    "##### Style und Lesbarkeit"
   ]
  },
  {
   "cell_type": "code",
   "execution_count": null,
   "metadata": {
    "slideshow": {
     "slide_type": "fragment"
    }
   },
   "outputs": [],
   "source": [
    "with open (data_dir / 'cars.txt', \"r\") as fd:"
   ]
  },
  {
   "cell_type": "markdown",
   "metadata": {
    "slideshow": {
     "slide_type": "fragment"
    }
   },
   "source": [
    "\"\" oder '' => **Konsistenzt** "
   ]
  },
  {
   "cell_type": "markdown",
   "metadata": {
    "slideshow": {
     "slide_type": "fragment"
    }
   },
   "source": [
    "[Python PEP8 code style](https://www.python.org/dev/peps/pep-0008/)"
   ]
  },
  {
   "cell_type": "code",
   "execution_count": 11,
   "metadata": {
    "slideshow": {
     "slide_type": "slide"
    }
   },
   "outputs": [
    {
     "name": "stdout",
     "output_type": "stream",
     "text": [
      "images\n",
      "images/S01E03/liste.txt\n"
     ]
    }
   ],
   "source": [
    "from pathlib import Path\n",
    "\n",
    "data_dir = Path(\"images\")\n",
    "\n",
    "print(data_dir)\n",
    "\n",
    "create_obst_path = Path(data_dir, \"S01E03/liste.txt\") # operator/ var name\n",
    "\n",
    "print(create_obst_path)\n",
    "\n",
    "obst = open(str(create_obst_path), \"r\").read() # str conversion/ with statement"
   ]
  },
  {
   "cell_type": "code",
   "execution_count": null,
   "metadata": {
    "slideshow": {
     "slide_type": "fragment"
    }
   },
   "outputs": [],
   "source": [
    "obstliste = list(obst.split(\"\\n\")) # list conversion\n",
    "obstliste"
   ]
  },
  {
   "cell_type": "code",
   "execution_count": null,
   "metadata": {
    "slideshow": {
     "slide_type": "fragment"
    }
   },
   "outputs": [],
   "source": [
    "unique_obst = list(set(obstliste)) # list conversion\n",
    "\n",
    "for i in unique_obst:\n",
    "    print(i)"
   ]
  },
  {
   "cell_type": "markdown",
   "metadata": {
    "slideshow": {
     "slide_type": "slide"
    }
   },
   "source": [
    "##### Redundanz"
   ]
  },
  {
   "cell_type": "code",
   "execution_count": null,
   "metadata": {
    "slideshow": {
     "slide_type": "fragment"
    }
   },
   "outputs": [],
   "source": [
    "data_dir = Path(\"images\")\n",
    "\n",
    "if not Path(\"images\").exists():\n",
    "    Path(\"images\").mkdir()"
   ]
  },
  {
   "cell_type": "markdown",
   "metadata": {},
   "source": [
    "##### Funktionen, return, Dokumentation"
   ]
  },
  {
   "cell_type": "code",
   "execution_count": null,
   "metadata": {
    "slideshow": {
     "slide_type": "slide"
    }
   },
   "outputs": [],
   "source": [
    "def count(x):\n",
    "    \"\"\"\n",
    "    Calculate the occurence of each item in a text file.\n",
    "    \n",
    "    Parameters\n",
    "    ----------\n",
    "    x : text file\n",
    "        \n",
    "    Returns\n",
    "    -------\n",
    "    item and the corresponding number of occurence of this item in the text file\n",
    "    \n",
    "    \"\"\"\n",
    "    \n",
    "    items = list(set(x))\n",
    "    for value in items: \n",
    "        print(value, x.count(value))\n",
    "        \n",
    "counts = count(obstliste)"
   ]
  },
  {
   "cell_type": "markdown",
   "metadata": {
    "slideshow": {
     "slide_type": "fragment"
    }
   },
   "source": [
    "[numpy doc](https://numpydoc.readthedocs.io/en/latest/)"
   ]
  },
  {
   "cell_type": "markdown",
   "metadata": {
    "slideshow": {
     "slide_type": "slide"
    }
   },
   "source": [
    "### Lösung Exercise 3"
   ]
  },
  {
   "cell_type": "code",
   "execution_count": 1,
   "metadata": {},
   "outputs": [],
   "source": [
    "from pathlib import Path\n",
    "from utils import count_items"
   ]
  },
  {
   "cell_type": "markdown",
   "metadata": {},
   "source": [
    "1. Contstruct the path to the text file in the data directory using the `pathlib` module"
   ]
  },
  {
   "cell_type": "code",
   "execution_count": 6,
   "metadata": {},
   "outputs": [],
   "source": [
    "data_dir = Path(\"data\")\n",
    "output_dir = Path(\"solution\")\n",
    "\n",
    "# Construct path to text file\n",
    "text_file = data_dir / \"cars.txt\""
   ]
  },
  {
   "cell_type": "markdown",
   "metadata": {},
   "source": [
    "2. Read the text file"
   ]
  },
  {
   "cell_type": "code",
   "execution_count": 7,
   "metadata": {},
   "outputs": [],
   "source": [
    "with open(text_file, \"r\") as file:\n",
    "    # .read() : read the whole file\n",
    "    # .splitlines() : splits the lines and removes the lines break token \"\\n\"\n",
    "    # [1:] : remove the first line because \"model\" is the header of the file\n",
    "    data = file.read().splitlines()[1:]"
   ]
  },
  {
   "cell_type": "markdown",
   "metadata": {},
   "source": [
    "3. Count the occurences of each item in the text file\n",
    "\n",
    "Count items with imported function. To see what the function looks like click the ***+*** sign."
   ]
  },
  {
   "cell_type": "code",
   "execution_count": 2,
   "metadata": {
    "tags": [
     "hidecode"
    ]
   },
   "outputs": [],
   "source": [
    "def count_items(x):\n",
    "    \"\"\"\n",
    "    Count occurence of unique items of list\n",
    "\n",
    "    Counts items in the list and returns counts as a dict\n",
    "\n",
    "    Parameters\n",
    "    ----------\n",
    "    x : list\n",
    "        List of items to count\n",
    "\n",
    "    Returns\n",
    "    -------\n",
    "    dict\n",
    "        Items are keys, counts are values\n",
    "\n",
    "    \"\"\"\n",
    "    # init an empty dictionary\n",
    "    counts = {}\n",
    "    # loop through the list of items (lines)\n",
    "    for item in x:\n",
    "        # check if it already is in the dictionary\n",
    "        # if it is increase count by one if not add it\n",
    "        if item in counts.keys():\n",
    "            counts[item] += 1\n",
    "        else:\n",
    "            counts[item] = 1\n",
    "\n",
    "    return counts"
   ]
  },
  {
   "cell_type": "code",
   "execution_count": 8,
   "metadata": {},
   "outputs": [],
   "source": [
    "counts = count_items(data)"
   ]
  },
  {
   "cell_type": "markdown",
   "metadata": {},
   "source": [
    "4. Using `pathlib` check if a directory with name `solution` exists and if not create it"
   ]
  },
  {
   "cell_type": "code",
   "execution_count": 9,
   "metadata": {},
   "outputs": [],
   "source": [
    "if not output_dir.exists():\n",
    "    output_dir.mkdir()"
   ]
  },
  {
   "cell_type": "markdown",
   "metadata": {},
   "source": [
    "Construct path to output file"
   ]
  },
  {
   "cell_type": "code",
   "execution_count": 10,
   "metadata": {},
   "outputs": [],
   "source": [
    "out_file = output_dir / \"counts.csv\""
   ]
  },
  {
   "cell_type": "markdown",
   "metadata": {},
   "source": [
    "5. Write the counts to the file `counts.csv` in the `solution` directory in the format (first line is the header)\n",
    "\n",
    "item, count<br>\n",
    "item_name_1, item_count_1<br>\n",
    "item_name_2, item_count_2<br>\n",
    "..."
   ]
  },
  {
   "cell_type": "code",
   "execution_count": null,
   "metadata": {},
   "outputs": [],
   "source": [
    "with open(out_file, \"w\") as file:\n",
    "    # Write header line\n",
    "    file.write(\"model,count\\n\")\n",
    "    # Write model and counts line by line\n",
    "    for model, num in counts.items():\n",
    "        file.write(\"{},{}\\n\".format(model, num))"
   ]
  },
  {
   "cell_type": "markdown",
   "metadata": {
    "slideshow": {
     "slide_type": "slide"
    }
   },
   "source": [
    "### Take Home Messages\n",
    "\n",
    "- Aufgabenstellung richtig lesen\n",
    "- Ersten denken dann Programmieren\n",
    "- Testen, Testen, Testen\n",
    "- Habe ich alles notwendige zur Lösung committed?"
   ]
  },
  {
   "cell_type": "markdown",
   "metadata": {},
   "source": [
    "### Git"
   ]
  }
 ],
 "metadata": {
  "kernelspec": {
   "display_name": "Python 3",
   "language": "python",
   "name": "python3"
  },
  "language_info": {
   "codemirror_mode": {
    "name": "ipython",
    "version": 3
   },
   "file_extension": ".py",
   "mimetype": "text/x-python",
   "name": "python",
   "nbconvert_exporter": "python",
   "pygments_lexer": "ipython3",
   "version": "3.7.1"
  }
 },
 "nbformat": 4,
 "nbformat_minor": 2
}
