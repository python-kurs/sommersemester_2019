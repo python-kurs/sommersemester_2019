{
 "cells": [
  {
   "cell_type": "markdown",
   "metadata": {
    "slideshow": {
     "slide_type": "slide"
    }
   },
   "source": [
    "# Python Basics II"
   ]
  },
  {
   "cell_type": "markdown",
   "metadata": {
    "slideshow": {
     "slide_type": "-"
    }
   },
   "source": [
    "## Sequential datatypes"
   ]
  },
  {
   "cell_type": "markdown",
   "metadata": {
    "slideshow": {
     "slide_type": "-"
    }
   },
   "source": [
    "### Strings"
   ]
  },
  {
   "cell_type": "markdown",
   "metadata": {
    "slideshow": {
     "slide_type": "-"
    }
   },
   "source": [
    "Often, you don't want to work with single variables but with a whole list of variables. For this, you can use sequential datatypes in Python. Actually, you already got to know one of these sequential datatypes which is the string datatype:"
   ]
  },
  {
   "cell_type": "code",
   "execution_count": 17,
   "metadata": {
    "slideshow": {
     "slide_type": "-"
    }
   },
   "outputs": [],
   "source": [
    "this_is_a_string = \"I am a string. But I am also a sequence of characters.\""
   ]
  },
  {
   "cell_type": "markdown",
   "metadata": {
    "slideshow": {
     "slide_type": "slide"
    }
   },
   "source": [
    "A string consists of a sequence of characters. Individual characters in a string can be accessed by specifying the string name followed by a number in square brackets (`[` `]`)."
   ]
  },
  {
   "cell_type": "markdown",
   "metadata": {
    "slideshow": {
     "slide_type": "-"
    }
   },
   "source": [
    "![](images/S01E03/string_explanation.png)"
   ]
  },
  {
   "cell_type": "code",
   "execution_count": 1,
   "metadata": {
    "slideshow": {
     "slide_type": "fragment"
    }
   },
   "outputs": [
    {
     "data": {
      "text/plain": [
       "'e'"
      ]
     },
     "execution_count": 1,
     "metadata": {},
     "output_type": "execute_result"
    }
   ],
   "source": [
    "zeichenkette = \"Remote Sensing\"\n",
    "zeichenkette[5]"
   ]
  },
  {
   "cell_type": "markdown",
   "metadata": {
    "slideshow": {
     "slide_type": "fragment"
    }
   },
   "source": [
    "You can also use negative indexes. Negative indexes start at the last character and go backwards:"
   ]
  },
  {
   "cell_type": "code",
   "execution_count": 2,
   "metadata": {
    "slideshow": {
     "slide_type": "-"
    }
   },
   "outputs": [
    {
     "data": {
      "text/plain": [
       "'n'"
      ]
     },
     "execution_count": 2,
     "metadata": {},
     "output_type": "execute_result"
    }
   ],
   "source": [
    "zeichenkette[-5]"
   ]
  },
  {
   "cell_type": "markdown",
   "metadata": {
    "slideshow": {
     "slide_type": "slide"
    }
   },
   "source": [
    "You can also select multiple characters at the same time (which is called 'slicing'):"
   ]
  },
  {
   "cell_type": "code",
   "execution_count": 3,
   "metadata": {
    "slideshow": {
     "slide_type": "-"
    }
   },
   "outputs": [
    {
     "data": {
      "text/plain": [
       "'Sensing'"
      ]
     },
     "execution_count": 3,
     "metadata": {},
     "output_type": "execute_result"
    }
   ],
   "source": [
    "zeichenkette[7:14]"
   ]
  },
  {
   "cell_type": "markdown",
   "metadata": {
    "slideshow": {
     "slide_type": "fragment"
    }
   },
   "source": [
    "You can check the length of a sequential datatype using the `len()` function. Note that the length of an object is always `last index + 1` because in Python (contrary to R) indexes in sequential datatype objects start with `0`."
   ]
  },
  {
   "cell_type": "code",
   "execution_count": 4,
   "metadata": {
    "slideshow": {
     "slide_type": "-"
    }
   },
   "outputs": [
    {
     "data": {
      "text/plain": [
       "14"
      ]
     },
     "execution_count": 4,
     "metadata": {},
     "output_type": "execute_result"
    }
   ],
   "source": [
    "len(zeichenkette)"
   ]
  },
  {
   "cell_type": "markdown",
   "metadata": {
    "slideshow": {
     "slide_type": "fragment"
    }
   },
   "source": [
    "If you specify an index that is out of the range of the sequential datatype object, an error is returned:"
   ]
  },
  {
   "cell_type": "code",
   "execution_count": 5,
   "metadata": {
    "slideshow": {
     "slide_type": "-"
    }
   },
   "outputs": [
    {
     "ename": "IndexError",
     "evalue": "string index out of range",
     "output_type": "error",
     "traceback": [
      "\u001b[0;31m---------------------------------------------------------------------------\u001b[0m",
      "\u001b[0;31mIndexError\u001b[0m                                Traceback (most recent call last)",
      "\u001b[0;32m<ipython-input-5-be7520983767>\u001b[0m in \u001b[0;36m<module>\u001b[0;34m()\u001b[0m\n\u001b[0;32m----> 1\u001b[0;31m \u001b[0mzeichenkette\u001b[0m\u001b[0;34m[\u001b[0m\u001b[0;36m14\u001b[0m\u001b[0;34m]\u001b[0m\u001b[0;34m\u001b[0m\u001b[0;34m\u001b[0m\u001b[0m\n\u001b[0m",
      "\u001b[0;31mIndexError\u001b[0m: string index out of range"
     ]
    }
   ],
   "source": [
    "zeichenkette[14]"
   ]
  },
  {
   "cell_type": "markdown",
   "metadata": {
    "slideshow": {
     "slide_type": "slide"
    }
   },
   "source": [
    "Strings in Python offer many functions, e.g.:"
   ]
  },
  {
   "cell_type": "code",
   "execution_count": 6,
   "metadata": {
    "slideshow": {
     "slide_type": "-"
    }
   },
   "outputs": [
    {
     "data": {
      "text/plain": [
       "'REMOTE SENSING'"
      ]
     },
     "execution_count": 6,
     "metadata": {},
     "output_type": "execute_result"
    }
   ],
   "source": [
    "zeichenkette.upper() # Capitalize all letters in the string"
   ]
  },
  {
   "cell_type": "code",
   "execution_count": 2,
   "metadata": {
    "slideshow": {
     "slide_type": "-"
    }
   },
   "outputs": [
    {
     "data": {
      "text/plain": [
       "3"
      ]
     },
     "execution_count": 2,
     "metadata": {},
     "output_type": "execute_result"
    }
   ],
   "source": [
    "zeichenkette.count(\"e\") # Count the occurrences of \"e\" in the string"
   ]
  },
  {
   "cell_type": "markdown",
   "metadata": {
    "slideshow": {
     "slide_type": "fragment"
    }
   },
   "source": [
    "You can find all available functions in the Python docs: [https://docs.python.org/3.7/library/stdtypes.html#string-methods](https://docs.python.org/3.7/library/stdtypes.html#string-methods)"
   ]
  },
  {
   "cell_type": "markdown",
   "metadata": {
    "slideshow": {
     "slide_type": "slide"
    },
    "tags": [
     "task"
    ]
   },
   "source": [
    "##### **Task**\n",
    "\n",
    "1. Assign your name (first+last) as a string to a variable.\n",
    "2. Create a new variable and assign it only your firstname using slicing.\n",
    "3. How many times does the letter \"e\" occur in your full name? Use a Python built in string function for this task."
   ]
  },
  {
   "cell_type": "markdown",
   "metadata": {
    "tags": [
     "solution"
    ]
   },
   "source": [
    "**Solution**\n",
    "\n",
    "1. ```python\n",
    "name = \"Michael Jackson\"\n",
    "```\n",
    "\n",
    "2. ```python\n",
    "vorname = name[:7]\n",
    "```\n",
    "\n",
    "3. ```python\n",
    "name.count(\"e\")\n",
    "```"
   ]
  },
  {
   "cell_type": "markdown",
   "metadata": {
    "slideshow": {
     "slide_type": "slide"
    }
   },
   "source": [
    "### Lists"
   ]
  },
  {
   "cell_type": "markdown",
   "metadata": {
    "slideshow": {
     "slide_type": "-"
    }
   },
   "source": [
    "Lists in Python are mutable sequences that store multiple objects:"
   ]
  },
  {
   "cell_type": "code",
   "execution_count": 9,
   "metadata": {
    "slideshow": {
     "slide_type": "-"
    }
   },
   "outputs": [
    {
     "name": "stdout",
     "output_type": "stream",
     "text": [
      "[1, 2, 3, 4, 5]\n"
     ]
    }
   ],
   "source": [
    "my_list = [1,2,3,4,5]  # The easiest way to create lists is using the [ ] symbols\n",
    "print(my_list)"
   ]
  },
  {
   "cell_type": "markdown",
   "metadata": {
    "slideshow": {
     "slide_type": "fragment"
    }
   },
   "source": [
    "The datatype of the objects is normally the same over the complete list but that's not obligatory:"
   ]
  },
  {
   "cell_type": "code",
   "execution_count": 10,
   "metadata": {
    "slideshow": {
     "slide_type": "-"
    }
   },
   "outputs": [
    {
     "name": "stdout",
     "output_type": "stream",
     "text": [
      "[90, 3.1415, 'I am a string']\n"
     ]
    }
   ],
   "source": [
    "my_list = [90,3.1415,\"I am a string\"] # List with an int, float and a string\n",
    "print(my_list)"
   ]
  },
  {
   "cell_type": "markdown",
   "metadata": {
    "slideshow": {
     "slide_type": "slide"
    }
   },
   "source": [
    "To access an element in a list, you can use it's index (slicing also works with lists):"
   ]
  },
  {
   "cell_type": "code",
   "execution_count": 12,
   "metadata": {
    "slideshow": {
     "slide_type": "-"
    }
   },
   "outputs": [
    {
     "data": {
      "text/plain": [
       "'I am a string'"
      ]
     },
     "execution_count": 12,
     "metadata": {},
     "output_type": "execute_result"
    }
   ],
   "source": [
    "my_list[2]"
   ]
  },
  {
   "cell_type": "markdown",
   "metadata": {
    "slideshow": {
     "slide_type": "fragment"
    }
   },
   "source": [
    "Lists also feature many built-in functions, e.g. the index method which returns the first index at which a value occurs:"
   ]
  },
  {
   "cell_type": "code",
   "execution_count": 1,
   "metadata": {
    "slideshow": {
     "slide_type": "-"
    }
   },
   "outputs": [
    {
     "data": {
      "text/plain": [
       "3"
      ]
     },
     "execution_count": 1,
     "metadata": {},
     "output_type": "execute_result"
    }
   ],
   "source": [
    "zahlenreihe = [8,2,3,4,1,2,3,9,6,7,8,0,4]\n",
    "zahlenreihe.index(4)"
   ]
  },
  {
   "cell_type": "markdown",
   "metadata": {
    "slideshow": {
     "slide_type": "fragment"
    }
   },
   "source": [
    "Lists can be sorted:"
   ]
  },
  {
   "cell_type": "code",
   "execution_count": 3,
   "metadata": {
    "slideshow": {
     "slide_type": "-"
    }
   },
   "outputs": [
    {
     "data": {
      "text/plain": [
       "[9, 8, 8, 7, 6, 4, 4, 3, 3, 2, 2, 1, 0]"
      ]
     },
     "execution_count": 3,
     "metadata": {},
     "output_type": "execute_result"
    }
   ],
   "source": [
    "zahlenreihe.sort(reverse=True)\n",
    "zahlenreihe"
   ]
  },
  {
   "cell_type": "markdown",
   "metadata": {
    "slideshow": {
     "slide_type": "slide"
    }
   },
   "source": [
    "And similar to strings, lists also have a length:"
   ]
  },
  {
   "cell_type": "code",
   "execution_count": 4,
   "metadata": {
    "slideshow": {
     "slide_type": "-"
    }
   },
   "outputs": [
    {
     "data": {
      "text/plain": [
       "13"
      ]
     },
     "execution_count": 4,
     "metadata": {},
     "output_type": "execute_result"
    }
   ],
   "source": [
    "len(zahlenreihe)"
   ]
  },
  {
   "cell_type": "markdown",
   "metadata": {
    "slideshow": {
     "slide_type": "slide"
    }
   },
   "source": [
    "You can append and remove elements to/from a list:"
   ]
  },
  {
   "cell_type": "code",
   "execution_count": 9,
   "metadata": {
    "slideshow": {
     "slide_type": "-"
    }
   },
   "outputs": [
    {
     "name": "stdout",
     "output_type": "stream",
     "text": [
      "[8, 2, 4, 1, 2, 3, 9, 6, 7, 8, 0, 4]\n",
      "[8, 2, 4, 1, 2, 3, 9, 6, 7, 8, 0]\n",
      "[8, 2, 4, 999, 2, 3, 9, 6, 7, 8, 0]\n"
     ]
    }
   ],
   "source": [
    "zahlenreihe = [8,2,3,4,1,2,3,9,6,7,8,0,4]\n",
    "\n",
    "\n",
    "#zahlenreihe.append(0)  # Appends the given element to the end of a list\n",
    "#print(zahlenreihe)\n",
    "zahlenreihe.remove(3)  # Removes the first element with the given value\n",
    "print(zahlenreihe)\n",
    "zahlenreihe.pop(-1)    # Removes the element at the given index\n",
    "print(zahlenreihe)\n",
    "zahlenreihe[3] = 999   # Exchanges element 3 in the list with 999\n",
    "print(zahlenreihe)"
   ]
  },
  {
   "cell_type": "markdown",
   "metadata": {
    "slideshow": {
     "slide_type": "slide"
    },
    "tags": [
     "task"
    ]
   },
   "source": [
    "##### **Task**\n",
    "\n",
    "1. Create a string variable and assign it the following string: \n",
    "```Python\n",
    "\"Zehn zahme Ziegen zogen zehn Zentner Zucker zum Zoo\"\n",
    "```\n",
    "2. Split the string and put each word as an element into a list.\n",
    "3. Count the words.\n",
    "4. Sort the list and save it in a new variable called `list_sorted`.\n",
    "5. Capitalize all letters in the 4th list element.\n",
    "6. Exchange the 4th list element by the number 99."
   ]
  },
  {
   "cell_type": "markdown",
   "metadata": {
    "tags": [
     "solution"
    ]
   },
   "source": [
    "**Solution**\n",
    "\n",
    "1. ```python\n",
    "s = \"Zehn zahme Ziegen zogen zehn Zentner Zucker zum Zoo\"\n",
    "```\n",
    "\n",
    "2. ```python\n",
    "wortliste = s.split(\" \")\n",
    "```\n",
    "\n",
    "3. ```python\n",
    "len(wortliste)\n",
    "```\n",
    "\n",
    "4. ```python\n",
    "list_sorted = wortliste[:]\n",
    "list_sorted.sort()\n",
    "```\n",
    "\n",
    "5. ```python\n",
    "list_sorted[3].upper()\n",
    "```\n",
    "\n",
    "6. ```python\n",
    "list_sorted[3] = 99\n",
    "```"
   ]
  },
  {
   "cell_type": "markdown",
   "metadata": {
    "slideshow": {
     "slide_type": "slide"
    }
   },
   "source": [
    "## Dictionaries\n",
    "\n",
    "Another useful datatype are dictionaries. In contrast to lists, where you have to keep track of a specific index to be able to access a certain value, dictionaries use keywords.\n",
    "A dictionary can be created by using curly braces `{` `}` and each element in it is a **key : value** pair."
   ]
  },
  {
   "cell_type": "code",
   "execution_count": 10,
   "metadata": {
    "slideshow": {
     "slide_type": "-"
    }
   },
   "outputs": [
    {
     "name": "stdout",
     "output_type": "stream",
     "text": [
      "{'pans': 3, 'pots': 4, 'knives': 10, 'spoons': 12, 'forks': 6}\n"
     ]
    }
   ],
   "source": [
    "kitchen_supplies = {\"pans\": 3, \n",
    "                    \"pots\": 4, \n",
    "                    \"knives\": 10, \n",
    "                    \"spoons\": 12, \n",
    "                    \"forks\": 6}\n",
    "print(kitchen_supplies)"
   ]
  },
  {
   "cell_type": "markdown",
   "metadata": {
    "slideshow": {
     "slide_type": "slide"
    }
   },
   "source": [
    "Accessing values is done by specifying the name of the key:"
   ]
  },
  {
   "cell_type": "code",
   "execution_count": 4,
   "metadata": {
    "slideshow": {
     "slide_type": "-"
    }
   },
   "outputs": [
    {
     "data": {
      "text/plain": [
       "10"
      ]
     },
     "execution_count": 4,
     "metadata": {},
     "output_type": "execute_result"
    }
   ],
   "source": [
    "kitchen_supplies[\"knives\"]"
   ]
  },
  {
   "cell_type": "markdown",
   "metadata": {
    "slideshow": {
     "slide_type": "slide"
    }
   },
   "source": [
    "Similarly there is a `get()` function which can be used to access values. The advantage over just using the `[` `]` method to access values is that the `get()` method returns the `None` value when you are trying to access elements which do not exist. The square brackets give an error. This can be usefull if you don't know in advance if an element exists or not."
   ]
  },
  {
   "cell_type": "code",
   "execution_count": 5,
   "metadata": {
    "slideshow": {
     "slide_type": "-"
    }
   },
   "outputs": [
    {
     "ename": "KeyError",
     "evalue": "'mixers'",
     "output_type": "error",
     "traceback": [
      "\u001b[0;31m---------------------------------------------------------------------------\u001b[0m",
      "\u001b[0;31mKeyError\u001b[0m                                  Traceback (most recent call last)",
      "\u001b[0;32m<ipython-input-5-e817ff785c76>\u001b[0m in \u001b[0;36m<module>\u001b[0;34m()\u001b[0m\n\u001b[0;32m----> 1\u001b[0;31m \u001b[0mprint\u001b[0m\u001b[0;34m(\u001b[0m\u001b[0mkitchen_supplies\u001b[0m\u001b[0;34m[\u001b[0m\u001b[0;34m\"mixers\"\u001b[0m\u001b[0;34m]\u001b[0m\u001b[0;34m)\u001b[0m\u001b[0;34m\u001b[0m\u001b[0;34m\u001b[0m\u001b[0m\n\u001b[0m",
      "\u001b[0;31mKeyError\u001b[0m: 'mixers'"
     ]
    }
   ],
   "source": [
    "print(kitchen_supplies[\"mixers\"])"
   ]
  },
  {
   "cell_type": "code",
   "execution_count": 6,
   "metadata": {
    "slideshow": {
     "slide_type": "fragment"
    }
   },
   "outputs": [
    {
     "name": "stdout",
     "output_type": "stream",
     "text": [
      "None\n"
     ]
    }
   ],
   "source": [
    "print(kitchen_supplies.get(\"mixers\"))"
   ]
  },
  {
   "cell_type": "markdown",
   "metadata": {
    "slideshow": {
     "slide_type": "skip"
    },
    "tags": [
     "info"
    ]
   },
   "source": [
    "While in this example strings were used as keys and integers used as values this is not a neccessity. Any datatype can be used for values but the keys can only be of **immutable** type (meaning types which can not be changed afterwards like strings and numbers) and have to be unique. So a list can not be a key but can be a value."
   ]
  },
  {
   "cell_type": "markdown",
   "metadata": {
    "slideshow": {
     "slide_type": "slide"
    }
   },
   "source": [
    "Like lists, dictionaries have some built in methods (functions) which are usefull like:\n",
    "\n",
    "Checking if a key exists in the dictionary:"
   ]
  },
  {
   "cell_type": "code",
   "execution_count": 11,
   "metadata": {
    "slideshow": {
     "slide_type": "-"
    }
   },
   "outputs": [
    {
     "data": {
      "text/plain": [
       "False"
      ]
     },
     "execution_count": 11,
     "metadata": {},
     "output_type": "execute_result"
    }
   ],
   "source": [
    "10 in kitchen_supplies"
   ]
  },
  {
   "cell_type": "markdown",
   "metadata": {
    "slideshow": {
     "slide_type": "slide"
    }
   },
   "source": [
    "Remove an item while returning the value at the same time:"
   ]
  },
  {
   "cell_type": "code",
   "execution_count": 8,
   "metadata": {
    "slideshow": {
     "slide_type": "-"
    }
   },
   "outputs": [
    {
     "name": "stdout",
     "output_type": "stream",
     "text": [
      "{'pots': 4, 'knives': 10, 'spoons': 12, 'forks': 6}\n",
      "3\n"
     ]
    }
   ],
   "source": [
    "num_pans = kitchen_supplies.pop(\"pans\")\n",
    "print(kitchen_supplies)\n",
    "print(num_pans)"
   ]
  },
  {
   "cell_type": "markdown",
   "metadata": {
    "slideshow": {
     "slide_type": "slide"
    }
   },
   "source": [
    "If you try to pop an element which does not exist, an error will the thrown."
   ]
  },
  {
   "cell_type": "code",
   "execution_count": 9,
   "metadata": {
    "slideshow": {
     "slide_type": "-"
    }
   },
   "outputs": [
    {
     "ename": "KeyError",
     "evalue": "'mixers'",
     "output_type": "error",
     "traceback": [
      "\u001b[0;31m---------------------------------------------------------------------------\u001b[0m",
      "\u001b[0;31mKeyError\u001b[0m                                  Traceback (most recent call last)",
      "\u001b[0;32m<ipython-input-9-d2407b65b724>\u001b[0m in \u001b[0;36m<module>\u001b[0;34m()\u001b[0m\n\u001b[0;32m----> 1\u001b[0;31m \u001b[0mkitchen_supplies\u001b[0m\u001b[0;34m.\u001b[0m\u001b[0mpop\u001b[0m\u001b[0;34m(\u001b[0m\u001b[0;34m\"mixers\"\u001b[0m\u001b[0;34m)\u001b[0m\u001b[0;34m\u001b[0m\u001b[0;34m\u001b[0m\u001b[0m\n\u001b[0m",
      "\u001b[0;31mKeyError\u001b[0m: 'mixers'"
     ]
    }
   ],
   "source": [
    "kitchen_supplies.pop(\"mixers\")"
   ]
  },
  {
   "cell_type": "markdown",
   "metadata": {
    "slideshow": {
     "slide_type": "fragment"
    }
   },
   "source": [
    "Fortunately the pop method accepts a second argument where a default return value can be specified:"
   ]
  },
  {
   "cell_type": "code",
   "execution_count": 10,
   "metadata": {
    "slideshow": {
     "slide_type": "-"
    }
   },
   "outputs": [
    {
     "data": {
      "text/plain": [
       "0"
      ]
     },
     "execution_count": 10,
     "metadata": {},
     "output_type": "execute_result"
    }
   ],
   "source": [
    "kitchen_supplies.pop(\"mixers\", 0)"
   ]
  },
  {
   "cell_type": "markdown",
   "metadata": {
    "slideshow": {
     "slide_type": "slide"
    }
   },
   "source": [
    "Of course, you can also add key/value-pairs to a dictionary after its instantiation:"
   ]
  },
  {
   "cell_type": "code",
   "execution_count": 11,
   "metadata": {
    "slideshow": {
     "slide_type": "-"
    }
   },
   "outputs": [
    {
     "data": {
      "text/plain": [
       "{'forks': 6, 'knives': 10, 'mixers': 3, 'pots': 4, 'spoons': 12}"
      ]
     },
     "execution_count": 11,
     "metadata": {},
     "output_type": "execute_result"
    }
   ],
   "source": [
    "kitchen_supplies[\"mixers\"] = 3\n",
    "kitchen_supplies"
   ]
  },
  {
   "cell_type": "markdown",
   "metadata": {
    "slideshow": {
     "slide_type": "slide"
    }
   },
   "source": [
    "You can get a list of all keys, values or items in the dictionary via the respective dict methods:"
   ]
  },
  {
   "cell_type": "code",
   "execution_count": 12,
   "metadata": {
    "slideshow": {
     "slide_type": "-"
    }
   },
   "outputs": [
    {
     "name": "stdout",
     "output_type": "stream",
     "text": [
      "dict_keys(['pots', 'knives', 'spoons', 'forks', 'mixers'])\n",
      "dict_values([4, 10, 12, 6, 3])\n",
      "dict_items([('pots', 4), ('knives', 10), ('spoons', 12), ('forks', 6), ('mixers', 3)])\n"
     ]
    }
   ],
   "source": [
    "print(kitchen_supplies.keys())\n",
    "print(kitchen_supplies.values())\n",
    "print(kitchen_supplies.items())"
   ]
  },
  {
   "cell_type": "markdown",
   "metadata": {
    "slideshow": {
     "slide_type": "slide"
    }
   },
   "source": [
    "## Loops"
   ]
  },
  {
   "cell_type": "markdown",
   "metadata": {
    "slideshow": {
     "slide_type": "-"
    }
   },
   "source": [
    "### The for-loop"
   ]
  },
  {
   "cell_type": "markdown",
   "metadata": {
    "slideshow": {
     "slide_type": "-"
    }
   },
   "source": [
    "Thus far, we gave our computers assignments for single variables. Often, however, you want a task to be executed multiple times on many elements (e.g. do the same calculation for a list of satellite images)."
   ]
  },
  {
   "cell_type": "markdown",
   "metadata": {
    "slideshow": {
     "slide_type": "slide"
    }
   },
   "source": [
    "Lets say you want to print the numbers 1 to 9 below each other. With our existing tools we would probably do this:"
   ]
  },
  {
   "cell_type": "code",
   "execution_count": 50,
   "metadata": {
    "slideshow": {
     "slide_type": "-"
    }
   },
   "outputs": [
    {
     "name": "stdout",
     "output_type": "stream",
     "text": [
      "1\n",
      "2\n",
      "3\n",
      "4\n",
      "5\n",
      "6\n",
      "7\n",
      "8\n",
      "9\n"
     ]
    }
   ],
   "source": [
    "print(1)\n",
    "print(2)\n",
    "print(3)\n",
    "print(4)\n",
    "print(5)\n",
    "print(6)\n",
    "print(7)\n",
    "print(8)\n",
    "print(9)"
   ]
  },
  {
   "cell_type": "markdown",
   "metadata": {
    "slideshow": {
     "slide_type": "slide"
    }
   },
   "source": [
    "This, however, results in a lot of code duplication (programmers hate duplication).\n",
    "Also, what would you do, if you want to print the numbers 1 to 999999 below each other?\n",
    "\n",
    "Thankfully, Python provides us with the for-loop functionality. With a loop we can execute a set of statements, once for each item in a list or any other sequential datatype.\n",
    "\n",
    "The above code can thus be shortened to:"
   ]
  },
  {
   "cell_type": "code",
   "execution_count": 12,
   "metadata": {
    "slideshow": {
     "slide_type": "-"
    }
   },
   "outputs": [
    {
     "name": "stdout",
     "output_type": "stream",
     "text": [
      "1\n",
      "2\n",
      "3\n",
      "4\n",
      "5\n",
      "6\n",
      "7\n",
      "8\n",
      "9\n"
     ]
    }
   ],
   "source": [
    "zahlenliste = [1,2,3,4,5,6,7,8,9]\n",
    "\n",
    "for zahl in zahlenliste:\n",
    "    print(zahl)"
   ]
  },
  {
   "cell_type": "markdown",
   "metadata": {
    "slideshow": {
     "slide_type": "slide"
    }
   },
   "source": [
    "The `range()`-Method is another basic Python function that creates a list from a given start, stop and increment value.\n",
    "The code above can thus further be shortened to:"
   ]
  },
  {
   "cell_type": "code",
   "execution_count": 6,
   "metadata": {
    "slideshow": {
     "slide_type": "-"
    }
   },
   "outputs": [
    {
     "name": "stdout",
     "output_type": "stream",
     "text": [
      "1\n",
      "2\n",
      "3\n",
      "4\n",
      "5\n",
      "6\n",
      "7\n",
      "8\n",
      "9\n"
     ]
    }
   ],
   "source": [
    "for i in range(1,10,1):\n",
    "    print(i)"
   ]
  },
  {
   "cell_type": "markdown",
   "metadata": {
    "slideshow": {
     "slide_type": "slide"
    }
   },
   "source": [
    "Note, that there is an **indentation** before the print statement. This is because Python blocks (a block is a group of statements) are separated from each other by using indentation (rather than brackets like many other languages). In Python it is custom to use an indentation of **4 spaces**.\n",
    "\n",
    "The following code snippet thus gives an error because after a for-loop-statement Python expects a new block (the content of the loop):"
   ]
  },
  {
   "cell_type": "code",
   "execution_count": 55,
   "metadata": {
    "slideshow": {
     "slide_type": "-"
    }
   },
   "outputs": [
    {
     "ename": "IndentationError",
     "evalue": "expected an indented block (<ipython-input-55-5940707a050c>, line 2)",
     "output_type": "error",
     "traceback": [
      "\u001b[0;36m  File \u001b[0;32m\"<ipython-input-55-5940707a050c>\"\u001b[0;36m, line \u001b[0;32m2\u001b[0m\n\u001b[0;31m    print(i)\u001b[0m\n\u001b[0m        ^\u001b[0m\n\u001b[0;31mIndentationError\u001b[0m\u001b[0;31m:\u001b[0m expected an indented block\n"
     ]
    }
   ],
   "source": [
    "for i in range(1,10,1):\n",
    "print(i)"
   ]
  },
  {
   "cell_type": "markdown",
   "metadata": {
    "slideshow": {
     "slide_type": "slide"
    }
   },
   "source": [
    "For-loops can also be applied to lists of strings:"
   ]
  },
  {
   "cell_type": "code",
   "execution_count": 4,
   "metadata": {
    "slideshow": {
     "slide_type": "-"
    }
   },
   "outputs": [
    {
     "name": "stdout",
     "output_type": "stream",
     "text": [
      "red\n",
      "green\n",
      "blue\n",
      "yellow\n",
      "black\n",
      "white\n"
     ]
    }
   ],
   "source": [
    "my_color_list = [\"red\",\"green\",\"blue\",\"yellow\",\"black\",\"white\"]\n",
    "for Farbe in my_color_list:\n",
    "    print(Farbe)"
   ]
  },
  {
   "cell_type": "markdown",
   "metadata": {
    "slideshow": {
     "slide_type": "slide"
    }
   },
   "source": [
    "In fact, for-loops are used for iterating over any sequence type. That means they can also be used to iterate over strings and dictionaries:"
   ]
  },
  {
   "cell_type": "code",
   "execution_count": 2,
   "metadata": {
    "slideshow": {
     "slide_type": "-"
    }
   },
   "outputs": [
    {
     "name": "stdout",
     "output_type": "stream",
     "text": [
      "U\n",
      "n\n",
      "i\n",
      "v\n",
      "e\n",
      "r\n",
      "s\n",
      "i\n",
      "t\n",
      "ä\n",
      "t\n",
      " \n",
      "M\n",
      "a\n",
      "r\n",
      "b\n",
      "u\n",
      "r\n",
      "g\n"
     ]
    }
   ],
   "source": [
    "uni = \"Universität Marburg\"\n",
    "for Buchstabe in uni:\n",
    "    print(Buchstabe)"
   ]
  },
  {
   "cell_type": "code",
   "execution_count": 11,
   "metadata": {
    "slideshow": {
     "slide_type": "slide"
    }
   },
   "outputs": [
    {
     "name": "stdout",
     "output_type": "stream",
     "text": [
      "There are 4 pots in the kitchen.\n",
      "There are 10 knives in the kitchen.\n",
      "There are 12 spoons in the kitchen.\n",
      "There are 6 forks in the kitchen.\n"
     ]
    }
   ],
   "source": [
    "for key, val in kitchen_supplies.items():\n",
    "    print(\"There are {} {} in the kitchen.\".format(val, key))"
   ]
  },
  {
   "cell_type": "markdown",
   "metadata": {
    "slideshow": {
     "slide_type": "slide"
    }
   },
   "source": [
    "Loops can also be nested:"
   ]
  },
  {
   "cell_type": "code",
   "execution_count": 7,
   "metadata": {
    "slideshow": {
     "slide_type": "-"
    }
   },
   "outputs": [
    {
     "name": "stdout",
     "output_type": "stream",
     "text": [
      "\n",
      "2010 Jan\n",
      "2010 Feb\n",
      "2010 Mar\n",
      "\n",
      "2011 Jan\n",
      "2011 Feb\n",
      "2011 Mar\n"
     ]
    }
   ],
   "source": [
    "for i in [2010,2011]:\n",
    "    print()\n",
    "    for j in [\"Jan\",\"Feb\",\"Mar\"]:\n",
    "        print(i, j)"
   ]
  },
  {
   "cell_type": "markdown",
   "metadata": {
    "slideshow": {
     "slide_type": "slide"
    },
    "tags": [
     "task"
    ]
   },
   "source": [
    "##### **Task**\n",
    "\n",
    "1. Print the following sequence of numbers below each other: 1 3 5 7 9 11 13 15 17 19"
   ]
  },
  {
   "cell_type": "markdown",
   "metadata": {
    "tags": [
     "solution"
    ]
   },
   "source": [
    "**Solution**\n",
    "\n",
    "1. ```python\n",
    "for i in range(1,20,2):\n",
    "       print(i)\n",
    "```"
   ]
  },
  {
   "cell_type": "markdown",
   "metadata": {
    "slideshow": {
     "slide_type": "slide"
    }
   },
   "source": [
    "## Conditional cases"
   ]
  },
  {
   "cell_type": "markdown",
   "metadata": {
    "slideshow": {
     "slide_type": "-"
    }
   },
   "source": [
    "### if/else statements"
   ]
  },
  {
   "cell_type": "markdown",
   "metadata": {
    "slideshow": {
     "slide_type": "-"
    }
   },
   "source": [
    "In many cases, you want to execute code only if a specific condition is met:"
   ]
  },
  {
   "cell_type": "code",
   "execution_count": 26,
   "metadata": {
    "slideshow": {
     "slide_type": "-"
    }
   },
   "outputs": [
    {
     "name": "stdout",
     "output_type": "stream",
     "text": [
      "a ist größer als b.\n"
     ]
    }
   ],
   "source": [
    "a = 10\n",
    "b = 5\n",
    "\n",
    "if a>b:\n",
    "    print(\"a ist größer als b.\")"
   ]
  },
  {
   "cell_type": "markdown",
   "metadata": {
    "slideshow": {
     "slide_type": "slide"
    }
   },
   "source": [
    "Sometimes it's also important to deal with those cases where the condition is not met:"
   ]
  },
  {
   "cell_type": "code",
   "execution_count": 32,
   "metadata": {
    "slideshow": {
     "slide_type": "-"
    }
   },
   "outputs": [
    {
     "name": "stdout",
     "output_type": "stream",
     "text": [
      "a ist kleiner oder gleich b.\n"
     ]
    }
   ],
   "source": [
    "a = 10\n",
    "b = 500\n",
    "\n",
    "if a>b:\n",
    "    print(\"a ist größer als b.\")\n",
    "else:\n",
    "    print(\"a ist kleiner oder gleich b.\")"
   ]
  },
  {
   "cell_type": "markdown",
   "metadata": {
    "slideshow": {
     "slide_type": "slide"
    }
   },
   "source": [
    "You can also check for multiple cases using the `elif` statement:"
   ]
  },
  {
   "cell_type": "code",
   "execution_count": 22,
   "metadata": {
    "slideshow": {
     "slide_type": "-"
    }
   },
   "outputs": [
    {
     "name": "stdout",
     "output_type": "stream",
     "text": [
      "a ist gleich b.\n"
     ]
    }
   ],
   "source": [
    "a = 10\n",
    "b = 10\n",
    "\n",
    "\n",
    "if a>b:\n",
    "    print(\"a ist größer als b.\")\n",
    "elif a<b:\n",
    "    print(\"a ist kleiner als b.\")\n",
    "elif a==b:\n",
    "    print(\"a ist gleich b.\")"
   ]
  },
  {
   "cell_type": "markdown",
   "metadata": {
    "slideshow": {
     "slide_type": "fragment"
    }
   },
   "source": [
    "Of course, in these examples you know the result before you execute the code. The above snippet will always evaluate to `True` in the last `else` block and will consequently always print \n",
    "\n",
    "    \"a ist gleich b.\" "
   ]
  },
  {
   "cell_type": "markdown",
   "metadata": {
    "slideshow": {
     "slide_type": "slide"
    }
   },
   "source": [
    "In the real world, however, you are often confronted with situations where you do not know the value of a variable while you are writing your code. For example, when you are dealing with input values from a person using your program:"
   ]
  },
  {
   "cell_type": "code",
   "execution_count": 24,
   "metadata": {
    "slideshow": {
     "slide_type": "-"
    }
   },
   "outputs": [
    {
     "name": "stdout",
     "output_type": "stream",
     "text": [
      "Are you a student? Hallo\n",
      "I did not understand your answer!\n"
     ]
    }
   ],
   "source": [
    "answer = input(\"Are you a student? \")\n",
    "\n",
    "if answer == \"yes\":\n",
    "    print(\"Welcome!\")\n",
    "elif answer == \"no\":\n",
    "    print(\"Your are welcome anyway!\")\n",
    "else:\n",
    "    print(\"I did not understand your answer!\")"
   ]
  },
  {
   "cell_type": "markdown",
   "metadata": {
    "slideshow": {
     "slide_type": "slide"
    }
   },
   "source": [
    "Loops and conditional cases can also be used in combination:"
   ]
  },
  {
   "cell_type": "code",
   "execution_count": 5,
   "metadata": {
    "slideshow": {
     "slide_type": "-"
    }
   },
   "outputs": [
    {
     "name": "stdout",
     "output_type": "stream",
     "text": [
      "598\n",
      "659\n"
     ]
    }
   ],
   "source": [
    "my_number_list = [1,5,9,6,43,5,8,9,23,12,5,8,598,48,26,12,15,26,7,59,659]\n",
    "\n",
    "for Zahl in my_number_list:\n",
    "    if Zahl > 500:\n",
    "        print(Zahl)"
   ]
  },
  {
   "cell_type": "markdown",
   "metadata": {
    "slideshow": {
     "slide_type": "slide"
    }
   },
   "source": [
    "## Control flow statements"
   ]
  },
  {
   "cell_type": "markdown",
   "metadata": {
    "slideshow": {
     "slide_type": "-"
    }
   },
   "source": [
    "### break & continue\n",
    "\n",
    "You can stop the execution of a loop with the `break` statement:"
   ]
  },
  {
   "cell_type": "code",
   "execution_count": 25,
   "metadata": {
    "slideshow": {
     "slide_type": "-"
    }
   },
   "outputs": [
    {
     "name": "stdout",
     "output_type": "stream",
     "text": [
      "Sie haben 10 Versuche!\n",
      "Wie heißt unsere Bundeskanzlerin? Gerhard Schröder\n",
      "Das war falsch!\n",
      "Wie heißt unsere Bundeskanzlerin? Angela Merkel\n",
      "Richtig!\n"
     ]
    }
   ],
   "source": [
    "print(\"Sie haben 10 Versuche!\")\n",
    "for x in range(10):\n",
    "    y = input(\"Wie heißt unsere Bundeskanzlerin? \")\n",
    "    \n",
    "    if y == \"Angela Merkel\":\n",
    "        print(\"Richtig!\")\n",
    "        break\n",
    "        \n",
    "    print(\"Das war falsch!\")"
   ]
  },
  {
   "cell_type": "markdown",
   "metadata": {
    "slideshow": {
     "slide_type": "fragment"
    }
   },
   "source": [
    "There is also the `continue` statement. It is used to skip the rest of the code in the current loop block and to continue to the next iteration of the loop."
   ]
  },
  {
   "cell_type": "markdown",
   "metadata": {
    "slideshow": {
     "slide_type": "slide"
    },
    "tags": [
     "task"
    ]
   },
   "source": [
    "##### **Task**\n",
    "\n",
    "1. Print each element in the following list, that is divisible by 17:\n",
    "```Python\n",
    "zahlenliste = [15,34,67,17,436,234,204,568,6787,1054]\n",
    "```"
   ]
  },
  {
   "cell_type": "markdown",
   "metadata": {
    "tags": [
     "solution"
    ]
   },
   "source": [
    "**Solution**\n",
    "\n",
    "1. ```python\n",
    "zahlenliste = [15,34,67,17,436,234,204,568,6787,1054]\n",
    "for zahl in zahlenliste:\n",
    "       if zahl%17 == 0:\n",
    "           print(zahl)\n",
    "```"
   ]
  },
  {
   "cell_type": "markdown",
   "metadata": {
    "slideshow": {
     "slide_type": "slide"
    },
    "tags": [
     "task"
    ]
   },
   "source": [
    "## Exercise 2\n",
    "\n",
    "- Complete the second assignment and push your results until tuesday 14:00 next week\n",
    "- Assignment link: [https://classroom.github.com/a/LEJa27ke](https://classroom.github.com/a/LEJa27ke)"
   ]
  }
 ],
 "metadata": {
  "celltoolbar": "Tags",
  "kernelspec": {
   "display_name": "Python 3",
   "language": "python",
   "name": "python3"
  },
  "language_info": {
   "codemirror_mode": {
    "name": "ipython",
    "version": 3
   },
   "file_extension": ".py",
   "mimetype": "text/x-python",
   "name": "python",
   "nbconvert_exporter": "python",
   "pygments_lexer": "ipython3",
   "version": "3.7.1"
  }
 },
 "nbformat": 4,
 "nbformat_minor": 2
}
